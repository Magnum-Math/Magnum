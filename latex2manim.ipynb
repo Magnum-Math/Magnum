{
 "cells": [
  {
   "cell_type": "markdown",
   "metadata": {},
   "source": [
    "## Convert your latex input to Animations\n",
    "This notebook converts your latex solution to animation\n",
    "The purpose is to remove the API dependencis \n",
    "\n",
    "### Dependencies\n",
    "Manim follow the instructions at [manim github page](https://github.com/3b1b/manim) to get manim up and running \n",
    "\n",
    "If your latex code uses non-standard or additional packages you will need the manim source code and not the pip version \n",
    "\n",
    "Again the instructions to install the required version are given on [manim github page](https://github.com/3b1b/manim) or you can follow [the manim docs here](https://readthedocs.org/projects/manim/downloads/pdf/latest/)"
   ]
  },
  {
   "cell_type": "code",
   "execution_count": null,
   "metadata": {},
   "outputs": [],
   "source": [
    "def read_file(path_to_file):\n",
    "    retval = \"\"\n",
    "    file = open(path_to_file)\n",
    "    retval = file.readlines()\n",
    "    file.close()\n",
    "    #Make sure the new line character is not read it throws the model off     \n",
    "    retval = [x.split(\"/n\")[0][:-1] for x in retval]\n",
    "    return retval\n",
    "\n",
    "\n",
    "#Change the ./latex_file.txt to your files location\n",
    "latex_code = read_file('./latex_file.txt')\n",
    "for i in range(len(latex_code)):\n",
    "    latex_code[i] += \"\\n\"\n",
    "selection = input(\"Do you want to print intermediate code: \")"
   ]
  },
  {
   "cell_type": "code",
   "execution_count": null,
   "metadata": {
    "scrolled": true
   },
   "outputs": [],
   "source": [
    "from app import latex2Manim\n",
    "import importlib\n",
    "importlib.reload(latex2Manim)\n",
    "print(\"Converting Latex to Maxnim Code\")\n",
    "manim_code = latex2Manim.latex2Manim(latex_code)\n",
    "if selection == \"yes\":\n",
    "    print(manim_code)\n",
    "print(\"Manim Code Generated\")"
   ]
  },
  {
   "cell_type": "code",
   "execution_count": null,
   "metadata": {
    "scrolled": true
   },
   "outputs": [],
   "source": [
    "fptr =  open(\"./solution.py\", \"w\") \n",
    "fptr.write(manim_code)\n",
    "fptr.close()\n",
    "print(\"Manim Code saved at {}./solution.py\")"
   ]
  },
  {
   "cell_type": "code",
   "execution_count": null,
   "metadata": {},
   "outputs": [],
   "source": [
    "!manim solution.py Solution --media_dir \"./Animations\""
   ]
  }
 ],
 "metadata": {
  "kernelspec": {
   "display_name": "Python 3",
   "language": "python",
   "name": "python3"
  },
  "language_info": {
   "codemirror_mode": {
    "name": "ipython",
    "version": 3
   },
   "file_extension": ".py",
   "mimetype": "text/x-python",
   "name": "python",
   "nbconvert_exporter": "python",
   "pygments_lexer": "ipython3",
   "version": "3.8.3"
  },
  "titlepage": {
   "author": "Mayur Selukar",
   "email": "mayur.selukar1@gmail.com",
   "linkedin": "https://www.linkedin.com/in/mayur-selukar/",
   "tagline": "Convert Latex code to beautiful animations",
   "title": "Latex2manim",
   "website": "https://mrselukar.github.io/"
  }
 },
 "nbformat": 4,
 "nbformat_minor": 4
}
