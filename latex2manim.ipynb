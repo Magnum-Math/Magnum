{
 "cells": [
  {
   "cell_type": "code",
   "execution_count": 2,
   "metadata": {},
   "outputs": [
    {
     "name": "stdout",
     "output_type": "stream",
     "text": [
      "Do you want to print intermediate codeno\n"
     ]
    }
   ],
   "source": [
    "def read_file(path_to_file):\n",
    "    retval = \"\"\n",
    "    file = open(path_to_file)\n",
    "    retval = file.readlines()\n",
    "    file.close()\n",
    "    #Make sure the new line character is not read it throws the model off     \n",
    "    retval = [x.split(\"/n\")[0][:-1] for x in retval]\n",
    "    return retval\n",
    "\n",
    "\n",
    "\n",
    "latex_code = read_file('./custom.txt')\n",
    "for i in range(len(latex_code)):\n",
    "    latex_code[i] += \"\\n\"\n",
    "selection = input(\"Do you want to print intermediate code: \")"
   ]
  },
  {
   "cell_type": "code",
   "execution_count": 3,
   "metadata": {
    "scrolled": true
   },
   "outputs": [
    {
     "name": "stdout",
     "output_type": "stream",
     "text": [
      "Converting Latex to Maxnim Code\n",
      "Do you want to generate a graph for ? yes/no\n",
      "no\n",
      "Do you wish to graph a custom fnction? yes/nono\n",
      "Manim Code Generated\n"
     ]
    }
   ],
   "source": [
    "from app import latex2Manim\n",
    "import importlib\n",
    "importlib.reload(latex2Manim)\n",
    "print(\"Converting Latex to Maxnim Code\")\n",
    "manim_code = latex2Manim.latex2Manim(latex_code)\n",
    "if selection == \"yes\":\n",
    "    print(manim_code)\n",
    "print(\"Manim Code Generated\")"
   ]
  },
  {
   "cell_type": "code",
   "execution_count": 6,
   "metadata": {},
   "outputs": [
    {
     "name": "stdout",
     "output_type": "stream",
     "text": [
      "Manim Code saved at {}./solution.py\n"
     ]
    }
   ],
   "source": [
    "fptr =  open(\"./solution.py\", \"w\") \n",
    "fptr.write(manim_code)\n",
    "fptr.close()\n",
    "print(\"Manim Code saved at {}./solution.py\")"
   ]
  },
  {
   "cell_type": "code",
   "execution_count": 7,
   "metadata": {},
   "outputs": [
    {
     "name": "stdout",
     "output_type": "stream",
     "text": [
      "Media will be written to ./Animations/. You can change this behavior with the --media_dir flag.\n",
      "Writing \"Equations \\  of \\  lines \\  in \\ \\mathbb{C}\" to ./Animations/Tex/c7c59858a4d8ea71.tex\n",
      "Writing \"Suppose \\ we \\ have \\ a \\ line \\ L \\ on \\ the \\ complex \\ plane.\" to ./Animations/Tex/613175cd691a3231.tex\n",
      "Writing \"We \\ want \\ to \\ find \\ an \\ equation \\ in \\ terms \\ of \\ z\" to ./Animations/Tex/af47d3120d20af21.tex\n",
      "Writing \"such \\ that \\ any \\ point \\ z \\ on \\ L \\ satisfies \\ it.\" to ./Animations/Tex/37f2e5fc7b39d027.tex\n",
      "Writing \"Let \\ z=x+\\iota y.\" to ./Animations/Tex/fa00a4131f994cba.tex\n",
      "Writing \"Then \\ x,y \\ satisfies \\ the \\ real \\ equation \\ of \\ L:\" to ./Animations/Tex/c8290821eec59d92.tex\n",
      "Writing \"ax+by+c=0 \\quad a,b,c \\in \\mathbb{R}\" to ./Animations/Tex/789bb43557a6a62b.tex\n",
      "Writing \"To \\ rewrite \\ it \\ in \\ terms \\ of \\ z, \\ note \\ that\" to ./Animations/Tex/0bd08504614c915f.tex\n",
      "Writing \"{x=\\Im(z)=\\frac{z+\\bar{z}}{2},\\:\\: y=\\Re(z)\\frac{z-\\bar{z}}{2 i}}\" to ./Animations/Tex/4d826dccbf50265a.tex\n",
      "\n",
      "\n",
      "\n",
      "Traceback (most recent call last):\n",
      "  File \"/home/mrselukar/miniconda3/lib/python3.8/site-packages/manimlib/extract_scene.py\", line 155, in main\n",
      "    scene = SceneClass(**scene_kwargs)\n",
      "  File \"/home/mrselukar/miniconda3/lib/python3.8/site-packages/manimlib/scene/scene.py\", line 75, in __init__\n",
      "    self.construct()\n",
      "  File \"solution.py\", line 50, in construct\n",
      "    R7 = TexMobject(r\"{x=\\Im(z)=\\frac{z+\\bar{z}}{2},\\:\\: y=\\Re(z)\\frac{z-\\bar{z}}{2 i}}\" )\n",
      "  File \"/home/mrselukar/miniconda3/lib/python3.8/site-packages/manimlib/mobject/svg/tex_mobject.py\", line 147, in __init__\n",
      "    SingleStringTexMobject.__init__(\n",
      "  File \"/home/mrselukar/miniconda3/lib/python3.8/site-packages/manimlib/mobject/svg/tex_mobject.py\", line 42, in __init__\n",
      "    file_name = tex_to_svg_file(\n",
      "  File \"/home/mrselukar/miniconda3/lib/python3.8/site-packages/manimlib/utils/tex_file_writing.py\", line 21, in tex_to_svg_file\n",
      "    dvi_file = tex_to_dvi(tex_file)\n",
      "  File \"/home/mrselukar/miniconda3/lib/python3.8/site-packages/manimlib/utils/tex_file_writing.py\", line 69, in tex_to_dvi\n",
      "    raise Exception(\n",
      "Exception: Latex error converting to dvi. See log output above or the log file: Animations/Tex/4d826dccbf50265a.log\n",
      "\n",
      "\n",
      "\n"
     ]
    }
   ],
   "source": [
    "!manim solution.py Solution -r 720,1280 --media_dir \"./Animations\""
   ]
  },
  {
   "cell_type": "code",
   "execution_count": null,
   "metadata": {},
   "outputs": [],
   "source": []
  }
 ],
 "metadata": {
  "kernelspec": {
   "display_name": "Python 3",
   "language": "python",
   "name": "python3"
  },
  "language_info": {
   "codemirror_mode": {
    "name": "ipython",
    "version": 3
   },
   "file_extension": ".py",
   "mimetype": "text/x-python",
   "name": "python",
   "nbconvert_exporter": "python",
   "pygments_lexer": "ipython3",
   "version": "3.8.3"
  }
 },
 "nbformat": 4,
 "nbformat_minor": 4
}
