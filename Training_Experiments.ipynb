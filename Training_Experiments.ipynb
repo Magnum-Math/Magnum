{
 "cells": [
  {
   "cell_type": "code",
   "execution_count": 1,
   "metadata": {},
   "outputs": [],
   "source": [
    "import openai\n",
    "openai.api_key = \"sk-Qgz3rmm3AbTBIwPjA0voHN3llTPWlsBPsNc8fUAd\""
   ]
  },
  {
   "cell_type": "code",
   "execution_count": 8,
   "metadata": {},
   "outputs": [
    {
     "name": "stdout",
     "output_type": "stream",
     "text": [
      "x - 2 = 10\n"
     ]
    }
   ],
   "source": [
    "from app import apiWrapper\n",
    "print(\"Enter Input Question\")\n",
    "qry = input()\n",
    "print(\"Would you like to print intermediate code results? yes/no\")\n",
    "selection = input()\n",
    "while selection not in [\"yes\", \"no\"]:\n",
    "    selection = input()\n",
    "    print(\"Would you like to print intermediate code results? yes/no\")\n",
    "\n",
    "apiWrapper.getUsrQues(qry)\n",
    "RAW_TEXT, Query = apiWrapper.callApi()\n",
    "print(\"Query Received is \", Query)\n",
    "print(\"Solution Generated\")"
   ]
  },
  {
   "cell_type": "code",
   "execution_count": 9,
   "metadata": {},
   "outputs": [
    {
     "name": "stdout",
     "output_type": "stream",
     "text": [
      "Solve for x:\n",
      "x - 2 = 10\n",
      "Add 2 to both sides:\n",
      "x + (2 - 2) = 2 + 10\n",
      "2 - 2 = 0:\n",
      "x = 10 + 2\n",
      "10 + 2 = 12:\n",
      "Answer:  x = 12\n",
      "\n"
     ]
    }
   ],
   "source": [
    "if selection == \"yes\":\n",
    "    for line in RAW_TEXT:\n",
    "        print(line)"
   ]
  },
  {
   "cell_type": "code",
   "execution_count": 10,
   "metadata": {},
   "outputs": [
    {
     "name": "stdout",
     "output_type": "stream",
     "text": [
      "Source:  Question == solve y\" + y = 0\n",
      "Output:  Question \\ == \\ solve \\ y\" \\ + \\ y \\ = \\ 0\n",
      "----\n",
      "Source:  Input,  :=: \n",
      "Output:  Input, \\ :=: \\ \n",
      "----\n",
      "Source:  solve y''(x) + y(x) = 0\n",
      "Output:  solve \\ y''\\left(x\\right) \\ + \\ y\\left(x\\right) \\ = \\ 0\n",
      "----\n",
      "Source:  Result,  :=: \n",
      "Output:  Result, \\ :=: \\ \n",
      "----\n",
      "Source:  y(x) = c_2 sin(x) + c_1 cos(x)\n",
      "Output:  y\\left(x\\right) = c_2 \\sin\\left(x\\right) + c_1 cos\\left(x\\right)\n",
      "----\n",
      "Source:  Result, Possible intermediate steps :=: \n",
      "Output:  Result, \\ Possible \\ intermediate \\ steps \\ :=: \\ \n",
      "----\n",
      "Source:  Solve ( d^2 y(x))/( dx^2) + y(x) = 0:\n",
      "Output:  Solve \\ \\frac{d^2 \\ y\\left(x\\right)}{dx^2} \\ + \\ y\\left(x\\right) \\ = \\ 0:\n",
      "----\n",
      "Source:  Assume a solution will be proportional to e^(λ x) for some constant λ.\n",
      "Output:  Assume \\ a \\ solution \\ will \\ be \\ proportional \\ to \\ e^\\left(\\lambda \\ x\\right) \\ for \\ some \\ constant \\ \\lambda.\n",
      "----\n",
      "Source:  Substitute y(x) = e^(λ x) into the differential equation:\n",
      "Output:  Substitute \\ y\\left(x\\right) \\ = \\ e^\\left(\\lambda \\ x\\right) \\ into \\ the \\ differential \\ equation:\n",
      "----\n",
      "Source:  ( d^2 )/( dx^2)(e^(λ x)) + e^(λ x) = 0\n",
      "Output:  \\frac{d^2 \\left(e^\\left(\\lambda x\\right)\\right)}{dx^2} + e^\\left(\\lambda x\\right) = 0\n",
      "----\n",
      "Source:  The roots λ = ± i give y_1(x) = c_1 e^(i x), y_2(x) = c_2 e^(-i x) as solutions, where c_1 and c_2 are arbitrary constants.\n",
      "Output:  The \\ roots \\ \\lambda \\ = \\ \\pm \\ \\iota \\ give \\ y_1\\left(x\\right) \\ = \\ c_1 \\ e^\\left(\\iota \\ x\\right), \\ y_2\\left(x\\right) \\ = \\ c_2 \\ e^\\left(-\\iota \\ x\\right) \\ as \\ solutions, \\ where \\ c_1 \\ and \\ c_2 \\ are \\ arbitrary \\ constants.\n",
      "----\n",
      "Source:  y(x) = y_1(x) + y_2(x) = c_1 e^(i x) + c_2 e^(-i x)\n",
      "Output:  y\\left(x\\right) = y_1\\left(x\\right) + y_2\\left(x\\right) = c_1 e^\\left(\\iota x\\right) + c_2 e^\\left(-\\iota x\\right)\n",
      "----\n",
      "Source:  Apply Euler's identity e^(α + i β) = e^α cos(β) + i e^α sin(β):\n",
      "Output:  Apply \\ Euler's \\ identity \\ e^\\left(α \\ + \\ \\iota \\ β\\right) \\ = \\ e^α \\ cos\\left(β\\right) \\ + \\ \\iota \\ e^α \\ \\sin\\left(β\\right):\n",
      "----\n",
      "Source:  y(x) = c_1 (cos(x) + i sin(x)) + c_2 (cos(x) - i sin(x))\n",
      "Output:  y\\left(x\\right) = c_1 \\left(cos\\left(x\\right) + \\iota \\ sin\\left(x\\right)\\right) + c_2 \\left(cos\\left(x\\right) - \\iota \\ sin\\left(x\\right)\\right)\n",
      "----\n",
      "Source:  Regroup terms:\n",
      "Output:  Regroup \\ terms:\n",
      "----\n",
      "Source:  y(x) = (c_1 + c_2) cos(x) + i (c_1 - c_2) sin(x)\n",
      "Output:  y\\left(x\\right) = \\left(c_1 + c_2\\right) \\ cos\\left(x\\right) + \\iota \\left(c_1 - c_2\\right)\\ \\sin\\left(x\\right)\n",
      "----\n",
      "Source:  solve x^2 + 9 = 12\n",
      "Output:  Solve \\ x^{2} + 9 = 12\n",
      "----\n",
      "Source:  Result,  :=: x = ± sqrt(3)\n",
      "Output:  Result \\ :=: \\ x = \\pm 3\n",
      "----\n",
      "Source:  Result, Possible intermediate steps :=: \n",
      "Output:  Result, \\ Possible \\ intermediate \\ steps \\ :=: \n",
      "----\n",
      "Source:  Solve for x:\n",
      "Output:  Solve \\ for \\ x:\n",
      "----\n",
      "Source:  x + 9 = 12\n",
      "Output:  x + 9 = 12\n",
      "----\n",
      "Source:  Answer: x = sqrt(3) or x = -sqrt(3\n",
      "Output:  Answer \\ : x = -\\sqrt{3} \\ or +\\sqrt{3\n",
      "----\n",
      "\n"
     ]
    }
   ],
   "source": [
    "import os\n",
    "import sys\n",
    "sys.path.append(os.getcwd())\n",
    "\n",
    "from api import GPT, Example, UIConfig\n",
    "from api import demo_web_app\n",
    "from glob import glob\n",
    "def read_file(path_to_file):\n",
    "    retval = \"\"\n",
    "    file = open(path_to_file)\n",
    "    retval = file.readlines()\n",
    "    file.close()\n",
    "    #Make sure the new line character is not read it throws the model off     \n",
    "    retval = [x.split(\"/n\")[0][:-1] for x in retval]\n",
    "    return retval\n",
    "\n",
    "\n",
    "# Construct GPT object and show some examples\n",
    "gpt = GPT(engine=\"curie\",\n",
    "          temperature=0.3,\n",
    "          max_tokens=300)\n",
    "\n",
    "\n",
    "# reade file and convert it to source string and target string tuples\n",
    "source_names = [item for item in sorted(glob(\"./Training_Example/sources/*\"))]\n",
    "target_names = [item for item in sorted(glob(\"./Training_Example/latex/*\"))]\n",
    "\n",
    "\n",
    "# open each file in the Training_Example directory\n",
    "for src_path, target_path in zip(source_names,target_names):\n",
    "    \n",
    "    # For each files read the RAW and corrosponding Latex Code\n",
    "    src_RAW = read_file(src_path)\n",
    "    target_RAW = read_file(target_path)\n",
    "    \n",
    "    # for each pair of RAW and latex prime the GPT model\n",
    "    if len(src_RAW) != len(target_RAW):\n",
    "        raise Exception(\"Source and Latex have mismached number of line {} {} in file {} and {}\".format(str(len(src_RAW)), str(len(target_RAW)),src_path,target_path))\n",
    "\n",
    "    for s_RAW, t_RAW in zip(src_RAW,target_RAW):\n",
    "        gpt.add_example(Example(s_RAW,t_RAW))\n",
    "        \n",
    "        # Uncomment the following if you would like to see the priming examples\n",
    "        \"\"\"\n",
    "        print(\"Source: \", s_RAW)\n",
    "        print(\"Output: \", t_RAW)\n",
    "        print(\"----\")\n",
    "        \"\"\"\n",
    "\n",
    "\"\"\"\n",
    "# Define UI configuration\n",
    "config = UIConfig(description=\"Text to Manim Class\",\n",
    "                  button_text=\"Convert\",\n",
    "                  placeholder=\"Type Raw Text here\")\n",
    "\n",
    "demo_web_app(gpt, config)\n",
    "\"\"\"\n"
   ]
  },
  {
   "cell_type": "code",
   "execution_count": 11,
   "metadata": {},
   "outputs": [
    {
     "data": {
      "text/plain": [
       "'\\ntestFiles = [item for item in sorted(glob(\"./Training_Example/Test/2..txt\"))]\\nfor file in testFiles:\\n    test_RAW = read_file(file)\\n    response = []\\n    for line in test_RAW:\\n        print(\"Prompt: \", line)\\n        t = gpt.get_top_reply(line)\\n        print(t,end=\"----\\n\")\\n        response.append(t)\\n'"
      ]
     },
     "execution_count": 11,
     "metadata": {},
     "output_type": "execute_result"
    }
   ],
   "source": [
    "## Testing Script\n",
    "\"\"\"\n",
    "testFiles = [item for item in sorted(glob(\"./Training_Example/Test/2..txt\"))]\n",
    "for file in testFiles:\n",
    "    test_RAW = read_file(file)\n",
    "    response = []\n",
    "    for line in test_RAW:\n",
    "        print(\"Prompt: \", line)\n",
    "        t = gpt.get_top_reply(line)\n",
    "        print(t,end=\"----\\n\")\n",
    "        response.append(t)\n",
    "\"\"\""
   ]
  },
  {
   "cell_type": "code",
   "execution_count": 13,
   "metadata": {},
   "outputs": [],
   "source": [
    "# Converting RAW_TEXT to Latex:\n",
    "print(\"Fetching the intermediate LateX code from OpenAI GPT3 API\")\n",
    "response = []\n",
    "for line in RAW_TEXT :\n",
    "    t = gpt.get_top_reply(line)\n",
    "    response.append(t)\n",
    "print(\"Intermediate LateX generated\")"
   ]
  },
  {
   "cell_type": "code",
   "execution_count": 14,
   "metadata": {},
   "outputs": [],
   "source": [
    "latex_code = []\n",
    "for line in response:\n",
    "    latex_code.append(line.split(\"\\n\")[0][7:] + \"\\n\")"
   ]
  },
  {
   "cell_type": "code",
   "execution_count": 15,
   "metadata": {},
   "outputs": [
    {
     "name": "stdout",
     "output_type": "stream",
     "text": [
      " Solve \\ for \\ x:\n",
      " x - 2 = 10\n",
      " Add \\ 2 \\ to \\ both \\ sides:\n",
      " x + (2 - 2) = 2 + 10\n",
      " 2 - 2 = 0:\n",
      " x = 10 + 2\n",
      " 10 + 2 = 12:\n",
      " Answer \\ : x = 12\n",
      " \n"
     ]
    }
   ],
   "source": [
    "if selection == \"yes\":\n",
    "    for line in latex_code:\n",
    "        print(line, end=\"\")"
   ]
  },
  {
   "cell_type": "code",
   "execution_count": 17,
   "metadata": {},
   "outputs": [],
   "source": [
    "from app import latex2Manim\n",
    "print(\"Converting Latex to Maxnim Code\")\n",
    "manim_code = latex2Manim.latex2Manim(latex_code)\n",
    "if selection == \"yes\":\n",
    "    print(manim_code)\n",
    "print(\"Manim Code Generated\")"
   ]
  },
  {
   "cell_type": "code",
   "execution_count": 18,
   "metadata": {},
   "outputs": [],
   "source": [
    "fptr =  open(\"solution.py\", \"w\") \n",
    "fptr.write(manim_code)\n",
    "fptr.close()\n",
    "print(\"Manim Code saved at ./solution.py\")"
   ]
  },
  {
   "cell_type": "code",
   "execution_count": 26,
   "metadata": {},
   "outputs": [
    {
     "data": {
      "text/plain": [
       "0"
      ]
     },
     "execution_count": 26,
     "metadata": {},
     "output_type": "execute_result"
    }
   ],
   "source": [
    "import os\n",
    "print(\"Starting to Animate\")\n",
    "retval = os.system('manim solution.py Solution -pl --media_dir \"./Animations\"')\n",
    "if retval == 0:\n",
    "    print(\"Animation Completed check ./Animations/video for output\")\n",
    "else:\n",
    "    print(\"Animation Error Check Manim Logs!!\")"
   ]
  },
  {
   "cell_type": "code",
   "execution_count": 10,
   "metadata": {},
   "outputs": [
    {
     "data": {
      "text/plain": [
       "'target_names = [item for item in sorted(glob(\"./Training_Example/latex/*\"))]\\nretval = \"\"\\nfor path_to_file in target_names:\\n    print(path_to_file)\\n    temp = input()\\n    if temp == \"yes\":\\n\\n        file = open(path_to_file)\\n        retval = file.readlines()\\n        file.close()\\n        for i in range(len(retval)):\\n            print(retval[i])\\n            x = input()\\n            if x != \\'0\\':\\n                retval[i] = retval[i].replace(\" \", \" \\\\ \")\\n        retval = [x.split(\"/n\")[0][:-1] for x in retval]\\n    #print(retval)\\n\\n'"
      ]
     },
     "execution_count": 10,
     "metadata": {},
     "output_type": "execute_result"
    }
   ],
   "source": [
    "\"\"\"\n",
    "# Script to find and replace spaces with \" / \" in files \n",
    "target_names = [item for item in sorted(glob(\"./Training_Example/latex/*\"))]\n",
    "retval = \"\"\n",
    "for path_to_file in target_names:\n",
    "    print(path_to_file)\n",
    "    temp = input()\n",
    "    if temp == \"yes\":\n",
    "\n",
    "        file = open(path_to_file)\n",
    "        retval = file.readlines()\n",
    "        file.close()\n",
    "        for i in range(len(retval)):\n",
    "            print(retval[i])\n",
    "            x = input()\n",
    "            if x != '0':\n",
    "                retval[i] = retval[i].replace(\" \", \" \\ \")\n",
    "        retval = [x.split(\"/n\")[0][:-1] for x in retval]\n",
    "    #print(retval)\n",
    "\n",
    "\"\"\""
   ]
  },
  {
   "cell_type": "code",
   "execution_count": 11,
   "metadata": {},
   "outputs": [
    {
     "data": {
      "text/plain": [
       "'for l in retval:\\n    print (l)'"
      ]
     },
     "execution_count": 11,
     "metadata": {},
     "output_type": "execute_result"
    }
   ],
   "source": [
    "\"\"\"for l in retval:\n",
    "    print (l)\"\"\""
   ]
  },
  {
   "cell_type": "code",
   "execution_count": null,
   "metadata": {},
   "outputs": [],
   "source": []
  }
 ],
 "metadata": {
  "kernelspec": {
   "display_name": "Python 3",
   "language": "python",
   "name": "python3"
  },
  "language_info": {
   "codemirror_mode": {
    "name": "ipython",
    "version": 3
   },
   "file_extension": ".py",
   "mimetype": "text/x-python",
   "name": "python",
   "nbconvert_exporter": "python",
   "pygments_lexer": "ipython3",
   "version": "3.8.3"
  }
 },
 "nbformat": 4,
 "nbformat_minor": 4
}
