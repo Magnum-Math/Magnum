{
 "cells": [
  {
   "cell_type": "code",
   "execution_count": 1,
   "metadata": {},
   "outputs": [],
   "source": [
    "import openai\n",
    "openai.api_key = \"***REMOVED***\""
   ]
  },
  {
   "cell_type": "code",
   "execution_count": 2,
   "metadata": {},
   "outputs": [
    {
     "name": "stdout",
     "output_type": "stream",
     "text": [
      "Enter Input Question\n",
      "x^2 + 2x - 6 = 0\n",
      "Would you like to print intermediate code results? yes/no\n",
      "yes\n",
      "Query Received is  x^2 + 2 x - 6 = 0\n",
      "Solution Generated\n"
     ]
    }
   ],
   "source": [
    "from app import apiWrapper\n",
    "print(\"Enter Input Question\")\n",
    "qry = input()\n",
    "qry += \" \"\n",
    "while qry.isspace():\n",
    "    qry = input(\"Enter Input Question\")\n",
    "\n",
    "print(\"Would you like to print intermediate code results? yes/no\")\n",
    "selection = input()\n",
    "while selection not in [\"yes\", \"no\"]:\n",
    "    selection = input()\n",
    "    print(\"Would you like to print intermediate code results? yes/no\")\n",
    "\n",
    "apiWrapper.getUsrQues(qry)\n",
    "RAW_TEXT, Query = apiWrapper.callApi()\n",
    "Query = Query.replace(\"|\",\"\")\n",
    "print(\"Query Received is \", Query)\n",
    "print(\"Solution Generated\")"
   ]
  },
  {
   "cell_type": "code",
   "execution_count": 3,
   "metadata": {},
   "outputs": [
    {
     "name": "stdout",
     "output_type": "stream",
     "text": [
      "Solve for x over the real numbers:\n",
      "x^2 + 2 x - 6 = 0\n",
      "Add 6 to both sides:\n",
      "x^2 + 2 x = 6\n",
      "Add 1 to both sides:\n",
      "x^2 + 2 x + 1 = 7\n",
      "Write the left hand side as a square:\n",
      "(x + 1)^2 = 7\n",
      "Take the square root of both sides:\n",
      "x + 1 = sqrt(7) or x + 1 = -sqrt(7)\n",
      "Subtract 1 from both sides:\n",
      "x = sqrt(7) - 1 or x + 1 = -sqrt(7)\n",
      "Subtract 1 from both sides:\n",
      "Answer:  x = sqrt(7) - 1 or x = -1 - sqrt(7)\n",
      "\n"
     ]
    }
   ],
   "source": [
    "if selection == \"yes\":\n",
    "    for line in RAW_TEXT:\n",
    "        print(line)"
   ]
  },
  {
   "cell_type": "code",
   "execution_count": 4,
   "metadata": {},
   "outputs": [
    {
     "name": "stdout",
     "output_type": "stream",
     "text": [
      "\n"
     ]
    }
   ],
   "source": [
    "import os\n",
    "import sys\n",
    "sys.path.append(os.getcwd())\n",
    "\n",
    "from api import GPT, Example, UIConfig\n",
    "from api import demo_web_app\n",
    "from glob import glob\n",
    "def read_file(path_to_file):\n",
    "    retval = \"\"\n",
    "    file = open(path_to_file)\n",
    "    retval = file.readlines()\n",
    "    file.close()\n",
    "    #Make sure the new line character is not read it throws the model off     \n",
    "    retval = [x.split(\"/n\")[0][:-1] for x in retval]\n",
    "    return retval\n",
    "\n",
    "\n",
    "# Construct GPT object and show some examples\n",
    "gpt = GPT(engine=\"davinci\",\n",
    "          temperature=0.01,\n",
    "          max_tokens=300)\n",
    "\n",
    "\n",
    "# reade file and convert it to source string and target string tuples\n",
    "source_names = [item for item in sorted(glob(\"./Training_Example/text2latex/sources/*\"))]\n",
    "target_names = [item for item in sorted(glob(\"./Training_Example/text2latex/latex/*\"))]\n",
    "\n",
    "\n",
    "# open each file in the Training_Example directory\n",
    "for src_path, target_path in zip(source_names,target_names):\n",
    "    \n",
    "    # For each files read the RAW and corrosponding Latex Code\n",
    "    src_RAW = read_file(src_path)\n",
    "    target_RAW = read_file(target_path)\n",
    "    \n",
    "    # for each pair of RAW and latex prime the GPT model\n",
    "    if len(src_RAW) != len(target_RAW):\n",
    "        raise Exception(\"Source and Latex have mismached number of line {} {} in file {} and {}\".format(str(len(src_RAW)), str(len(target_RAW)),src_path,target_path))\n",
    "\n",
    "    for s_RAW, t_RAW in zip(src_RAW,target_RAW):\n",
    "        gpt.add_example(Example(s_RAW,t_RAW))\n",
    "        # Uncomment the following if you would like to see the priming examples\n",
    "        #print(\"Source: \", s_RAW)\n",
    "        #print(\"Output: \", t_RAW)\n",
    "        #print(\"----\")\n",
    "        \n",
    "print(\"\")"
   ]
  },
  {
   "cell_type": "code",
   "execution_count": 5,
   "metadata": {},
   "outputs": [
    {
     "name": "stdout",
     "output_type": "stream",
     "text": [
      "Source:  plot x sin(x)\n",
      "Output:  x*math.sin(x)\n",
      "----\n",
      "Source:  plot sin^(-1)(x)\n",
      "Output:  math.asin(x)\n",
      "----\n",
      "Source:  plot sin(x^2)\n",
      "Output:  math.sin(x**2)\n",
      "----\n",
      "Source:  5 x^2 - 2 x + 23 = 0\n",
      "Output:  5*x**2 - 2*x + 23\n",
      "----\n",
      "Source:  plot sin^2(x) + 2 sin(x) + 2\n",
      "Output:  (math.sin(x))**2 + 2*math.sin(x) + 2\n",
      "----\n",
      "Source:  plot cos(x^3) + tan^2(x) - x cot(x)\n",
      "Output:  math.cos(x**3) + (math.tan(x))**2 - x*math.cot(x)\n",
      "----\n",
      "Source:  e^sin(x)\n",
      "Output:  math.exp(math.sin(x))\n",
      "----\n",
      "Source:  plot sqrt(sec(x))\n",
      "Output:  math.sqrt(math.cos(x)**(-1))\n",
      "----\n",
      "Source:  plot csc(x)\n",
      "Output:  math.sin(x)**(-1)\n",
      "----\n",
      "Source:  plot x + y = 10\n",
      "Output:  10 - x\n",
      "----\n",
      "Source:  29 x = 19 y + 104 and plot \n",
      "Output:  (29*x - 104)/19\n",
      "----\n",
      "Source:  43 x^3 - 34 x^2 + 23 x + 21 and plot\n",
      "Output:  43*x**3 - 34*x**2 + 23*x + 2\n",
      "----\n",
      "\n"
     ]
    }
   ],
   "source": [
    "import os\n",
    "import sys\n",
    "sys.path.append(os.getcwd())\n",
    "\n",
    "from api import GPT, Example, UIConfig\n",
    "from api import demo_web_app\n",
    "from glob import glob\n",
    "def read_file(path_to_file):\n",
    "    retval = \"\"\n",
    "    file = open(path_to_file)\n",
    "    retval = file.readlines()\n",
    "    file.close()\n",
    "    #Make sure the new line character is not read it throws the model off     \n",
    "    retval = [x.split(\"/n\")[0][:-1] for x in retval]\n",
    "    return retval\n",
    "\n",
    "\n",
    "# Construct GPT object and show some examples\n",
    "gpt_py = GPT(engine=\"davinci\",\n",
    "          temperature=0.01,\n",
    "          max_tokens=100)\n",
    "\n",
    "\n",
    "# reade file and convert it to source string and target string tuples\n",
    "source_names = [item for item in sorted(glob(\"./Training_Example/text2py/sources/*\"))]\n",
    "target_names = [item for item in sorted(glob(\"./Training_Example/text2py/python/*\"))]\n",
    "\n",
    "\n",
    "# open each file in the Training_Example directory\n",
    "for src_path, target_path in zip(source_names,target_names):\n",
    "    \n",
    "    # For each files read the RAW and corrosponding Latex Code\n",
    "    src_RAW = read_file(src_path)\n",
    "    target_RAW = read_file(target_path)\n",
    "    \n",
    "    # for each pair of RAW and latex prime the GPT model\n",
    "    if len(src_RAW) != len(target_RAW):\n",
    "        raise Exception(\"Source and Latex have mismached number of line {} {} in file {} and {}\".format(str(len(src_RAW)), str(len(target_RAW)),src_path,target_path))\n",
    "\n",
    "    for s_RAW, t_RAW in zip(src_RAW,target_RAW):\n",
    "        gpt_py.add_example(Example(s_RAW,t_RAW))\n",
    "        # Uncomment the following if you would like to see the priming examples\n",
    "        #print(\"Source: \", s_RAW)\n",
    "        #print(\"Output: \", t_RAW)\n",
    "        #print(\"----\")\n",
    "        \n",
    "print(\"\")"
   ]
  },
  {
   "cell_type": "code",
   "execution_count": 13,
   "metadata": {},
   "outputs": [
    {
     "name": "stdout",
     "output_type": "stream",
     "text": [
      "Attempting to convert input query to graphable python function\n",
      "Interpereted python function is  x**2 + 2*x - 6\n",
      "\n",
      "\n"
     ]
    }
   ],
   "source": [
    "# Converting RAW_TEXT Query to Python Function:\n",
    "print(\"Attempting to convert input query to graphable python function\")\n",
    "python_func = gpt_py.get_top_reply(Query)\n",
    "python_func = python_func[7:]\n",
    "print(\"Interpereted python function is\", python_func)"
   ]
  },
  {
   "cell_type": "code",
   "execution_count": 17,
   "metadata": {},
   "outputs": [
    {
     "name": "stdout",
     "output_type": "stream",
     "text": [
      "Fetching the intermediate LateX code from OpenAI GPT3 API\n"
     ]
    },
    {
     "data": {
      "application/vnd.jupyter.widget-view+json": {
       "model_id": "d327c20814964c5aa60014c24820a6a8",
       "version_major": 2,
       "version_minor": 0
      },
      "text/plain": [
       "HBox(children=(FloatProgress(value=0.0, max=15.0), HTML(value='')))"
      ]
     },
     "metadata": {},
     "output_type": "display_data"
    },
    {
     "name": "stdout",
     "output_type": "stream",
     "text": [
      "\n",
      "Intermediate LateX generated\n"
     ]
    }
   ],
   "source": [
    "# Converting RAW_TEXT to Latex:\n",
    "from tqdm.auto import tqdm\n",
    "print(\"Fetching the intermediate LateX code from OpenAI GPT3 API\")\n",
    "response = []\n",
    "for i in tqdm(range(len(RAW_TEXT))) :\n",
    "    line = RAW_TEXT[i]\n",
    "    t = gpt.get_top_reply(line)\n",
    "    response.append(t)\n",
    "print(\"Intermediate LateX generated\")"
   ]
  },
  {
   "cell_type": "code",
   "execution_count": 18,
   "metadata": {},
   "outputs": [],
   "source": [
    "latex_code = []\n",
    "for line in response:\n",
    "    text = line.split(\"\\n\")[0][7:]\n",
    "    if text.isspace() or text == \"\":\n",
    "        continue\n",
    "    else:\n",
    "        latex_code.append(text + \"\\n\")"
   ]
  },
  {
   "cell_type": "code",
   "execution_count": 19,
   "metadata": {},
   "outputs": [
    {
     "name": "stdout",
     "output_type": "stream",
     "text": [
      " Solve \\ for \\ x \\ over \\ the \\ real \\ numbers:\n",
      " x^{2} + 2 x - 6 = 0\n",
      " Add 6 \\ to \\ both \\ sides:\n",
      " x^{2} + 2 x = 6\n",
      " Add 1 \\ to \\ both \\ sides:\n",
      " x^{2} + 2 x + 1 = 7\n",
      " Write \\ the \\ left \\ hand \\ side \\ as \\ a \\ square:\n",
      " (x + 1)^{2} = 7\n",
      " Take \\ the \\ square \\ root \\ of \\ both \\ sides:\n",
      " x + 1 = \\sqrt{7} \\ or \\ x + 1 = -\\sqrt{7}\n",
      " Subtract 1 \\ from \\ both \\ sides:\n",
      " x = \\sqrt{7} - 1 \\ or \\ x + 1 = -\\sqrt{7}\n",
      " Subtract 1 \\ from \\ both \\ sides:\n",
      " Answer: x = \\sqrt{7} - 1 \\ or \\ x = -1 - \\sqrt{7}\n"
     ]
    }
   ],
   "source": [
    "if selection == \"yes\":\n",
    "    for line in latex_code:\n",
    "        print(line, end=\"\")"
   ]
  },
  {
   "cell_type": "code",
   "execution_count": 27,
   "metadata": {
    "scrolled": false
   },
   "outputs": [
    {
     "name": "stdout",
     "output_type": "stream",
     "text": [
      "Converting Latex to Maxnim Code\n",
      "A Graph will not be generated\n",
      "from manimlib.imports import *\n",
      "from math import *\n",
      "class Solution(GraphScene):\n",
      "\tCONFIG = {\n",
      "\t\t'graph_origin': ORIGIN,\n",
      "\t\t'function_color': WHITE,\n",
      "\t\t'axes_color': BLUE,\n",
      "\t\t'x_min':\t-10,\n",
      "\t\t'x_max':\t10,\n",
      "\t\t'x_labeled_nums' :range(-10,10, 2),\n",
      "\t\t'y_min':\t-7,\n",
      "\t\t'y_max':\t114,\n",
      "\t\t'y_labeled_nums' :range(-7,114,12)}\n",
      "\n",
      "\tdef construct(self):\n",
      "\t\twatermark = ImageMobject(\"./assets/water_mark.png\")\n",
      "\t\twatermark.scale(1.5)\n",
      "\t\twatermark.to_corner(DOWN+RIGHT, buff=0)\n",
      "\t\tself.play(FadeIn(watermark))\n",
      "\t\tSolve = TexMobject(r\" Solve \\ for \\ x \\ over \\ the \\ real \\ numbers:\")\n",
      "\t\tSolve.to_edge(UP)\n",
      "\t\tself.play(Write(Solve))\n",
      "\t\tself.wait(2)\n",
      "\t\tR0 = TexMobject(r\" x^{2} + 2 x - 6 = 0\")\n",
      "\t\tR1 = TexMobject(r\" Add 6 \\ to \\ both \\ sides:\")\n",
      "\t\tR2 = TexMobject(r\" x^{2} + 2 x = 6\")\n",
      "\t\tR3 = TexMobject(r\" Add 1 \\ to \\ both \\ sides:\")\n",
      "\t\tR4 = TexMobject(r\" x^{2} + 2 x + 1 = 7\")\n",
      "\t\tR5 = TexMobject(r\" Write \\ the \\ left \\ hand \\ side \\ as \\ a \\ square:\")\n",
      "\t\tR6 = TexMobject(r\" (x + 1)^{2} = 7\")\n",
      "\t\tR7 = TexMobject(r\" Take \\ the \\ square \\ root \\ of \\ both \\ sides:\")\n",
      "\t\tR8 = TexMobject(r\" x + 1 = \\sqrt{7} \\ or \\ x + 1 = -\\sqrt{7}\")\n",
      "\t\tR9 = TexMobject(r\" Subtract 1 \\ from \\ both \\ sides:\")\n",
      "\t\tR10 = TexMobject(r\" x = \\sqrt{7} - 1 \\ or \\ x + 1 = -\\sqrt{7}\")\n",
      "\t\tR11 = TexMobject(r\" Subtract 1 \\ from \\ both \\ sides:\")\n",
      "\t\tR12 = TexMobject(r\" Answer: x = \\sqrt{7} - 1 \\ or \\ x = -1 - \\sqrt{7}\")\n",
      "\t\tR0.shift([0,0.7,0])\n",
      "\t\tself.play(Write(R0))\n",
      "\t\tself.wait(1)\n",
      "\t\tR1.next_to(R0, DOWN)\n",
      "\t\tself.play(Write(R1))\n",
      "\t\tself.wait(1)\n",
      "\t\tR2.next_to(R1, DOWN)\n",
      "\t\tself.play(Write(R2))\n",
      "\t\tself.wait(1)\n",
      "\t\tself.play(FadeOut(R0))\n",
      "\t\tself.play(ApplyMethod(R1.shift,[0,0.7,0]))\n",
      "\t\tself.play(ApplyMethod(R2.next_to,R1, DOWN))\n",
      "\t\tR3.next_to(R2, DOWN)\n",
      "\t\tself.play(Write(R3))\n",
      "\t\tself.play(FadeOut(R1))\n",
      "\t\tself.play(ApplyMethod(R2.shift,[0,0.7,0]))\n",
      "\t\tself.play(ApplyMethod(R3.next_to,R2, DOWN))\n",
      "\t\tR4.next_to(R3, DOWN)\n",
      "\t\tself.play(Write(R4))\n",
      "\t\tself.play(FadeOut(R2))\n",
      "\t\tself.play(ApplyMethod(R3.shift,[0,0.7,0]))\n",
      "\t\tself.play(ApplyMethod(R4.next_to,R3, DOWN))\n",
      "\t\tR5.next_to(R4, DOWN)\n",
      "\t\tself.play(Write(R5))\n",
      "\t\tself.play(FadeOut(R3))\n",
      "\t\tself.play(ApplyMethod(R4.shift,[0,0.7,0]))\n",
      "\t\tself.play(ApplyMethod(R5.next_to,R4, DOWN))\n",
      "\t\tR6.next_to(R5, DOWN)\n",
      "\t\tself.play(Write(R6))\n",
      "\t\tself.play(FadeOut(R4))\n",
      "\t\tself.play(ApplyMethod(R5.shift,[0,0.7,0]))\n",
      "\t\tself.play(ApplyMethod(R6.next_to,R5, DOWN))\n",
      "\t\tR7.next_to(R6, DOWN)\n",
      "\t\tself.play(Write(R7))\n",
      "\t\tself.play(FadeOut(R5))\n",
      "\t\tself.play(ApplyMethod(R6.shift,[0,0.7,0]))\n",
      "\t\tself.play(ApplyMethod(R7.next_to,R6, DOWN))\n",
      "\t\tR8.next_to(R7, DOWN)\n",
      "\t\tself.play(Write(R8))\n",
      "\t\tself.play(FadeOut(R6))\n",
      "\t\tself.play(ApplyMethod(R7.shift,[0,0.7,0]))\n",
      "\t\tself.play(ApplyMethod(R8.next_to,R7, DOWN))\n",
      "\t\tR9.next_to(R8, DOWN)\n",
      "\t\tself.play(Write(R9))\n",
      "\t\tself.play(FadeOut(R7))\n",
      "\t\tself.play(ApplyMethod(R8.shift,[0,0.7,0]))\n",
      "\t\tself.play(ApplyMethod(R9.next_to,R8, DOWN))\n",
      "\t\tR10.next_to(R9, DOWN)\n",
      "\t\tself.play(Write(R10))\n",
      "\t\tself.play(FadeOut(R8))\n",
      "\t\tself.play(ApplyMethod(R9.shift,[0,0.7,0]))\n",
      "\t\tself.play(ApplyMethod(R10.next_to,R9, DOWN))\n",
      "\t\tR11.next_to(R10, DOWN)\n",
      "\t\tself.play(Write(R11))\n",
      "\t\tself.play(FadeOut(R9))\n",
      "\t\tself.play(ApplyMethod(R10.shift,[0,0.7,0]))\n",
      "\t\tself.play(ApplyMethod(R11.next_to,R10, DOWN))\n",
      "\t\tR12.next_to(R11, DOWN)\n",
      "\t\tself.play(Write(R12))\n",
      "\t\tself.play(FadeOut(R12))\n",
      "\t\tself.play(FadeOut(R11))\n",
      "\t\tself.play(FadeOut(R10))\n",
      "\t\tself.play(FadeOut(Solve))\n",
      "\t\t\n",
      "Manim Code Generated\n"
     ]
    }
   ],
   "source": [
    "from app import latex2Manim\n",
    "import importlib\n",
    "importlib.reload(latex2Manim)\n",
    "print(\"Converting Latex to Maxnim Code\")\n",
    "manim_code = latex2Manim.latex2Manim(latex_code,Query ,python_func)\n",
    "if selection == \"yes\":\n",
    "    print(manim_code)\n",
    "print(\"Manim Code Generated\")"
   ]
  },
  {
   "cell_type": "code",
   "execution_count": 28,
   "metadata": {},
   "outputs": [
    {
     "name": "stdout",
     "output_type": "stream",
     "text": [
      "Manim Code saved at ./solution.py\n"
     ]
    }
   ],
   "source": [
    "fptr =  open(\"solution.py\", \"w\") \n",
    "fptr.write(manim_code)\n",
    "fptr.close()\n",
    "print(\"Manim Code saved at ./solution.py\")"
   ]
  },
  {
   "cell_type": "code",
   "execution_count": 29,
   "metadata": {},
   "outputs": [
    {
     "name": "stdout",
     "output_type": "stream",
     "text": [
      "Media will be written to ./Animations/. You can change this behavior with the --media_dir flag.\n",
      "                                                                                \n",
      "File ready at /home/mrselukar/manim/gpt-sandbox-cloned/Animations/videos/solution/480p15/Solution.mp4\n",
      "\n",
      "Played 53 animations\n"
     ]
    }
   ],
   "source": [
    "#!manim solution.py Solution -pl --media_dir \"./Animations\""
   ]
  },
  {
   "cell_type": "code",
   "execution_count": null,
   "metadata": {},
   "outputs": [],
   "source": [
    "import os\n",
    "print(\"Starting to Animate\")\n",
    "retval = os.system('manim solution.py Solution -pl --media_dir \"./Animations\"')\n",
    "if retval == 0:\n",
    "    print(\"Animation Completed check ./Animations/video for output\")\n",
    "else:\n",
    "    print(\"Animation Error Check Manim Logs!!\")"
   ]
  },
  {
   "cell_type": "code",
   "execution_count": null,
   "metadata": {},
   "outputs": [],
   "source": [
    "\"\"\"\n",
    "# Script to find and replace spaces with \" / \" in files \n",
    "target_names = [item for item in sorted(glob(\"./Training_Example/latex/*\"))]\n",
    "retval = \"\"\n",
    "for path_to_file in target_names:\n",
    "    print(path_to_file)\n",
    "    temp = input()\n",
    "    if temp == \"yes\":\n",
    "\n",
    "        file = open(path_to_file)\n",
    "        retval = file.readlines()\n",
    "        file.close()\n",
    "        for i in range(len(retval)):\n",
    "            print(retval[i])\n",
    "            x = input()\n",
    "            if x != '0':\n",
    "                retval[i] = retval[i].replace(\" \", \" \\ \")\n",
    "        retval = [x.split(\"/n\")[0][:-1] for x in retval]\n",
    "    #print(retval)\n",
    "\n",
    "\"\"\""
   ]
  },
  {
   "cell_type": "code",
   "execution_count": null,
   "metadata": {},
   "outputs": [],
   "source": [
    "\"\"\"for l in retval:\n",
    "    print (l)\"\"\""
   ]
  },
  {
   "cell_type": "code",
   "execution_count": null,
   "metadata": {},
   "outputs": [],
   "source": [
    "def func(x_in):\n",
    "\t\tf = lambda x : eval(x_in)\n",
    "\t\treturn f"
   ]
  },
  {
   "cell_type": "code",
   "execution_count": null,
   "metadata": {},
   "outputs": [],
   "source": [
    "a = func('x**2')"
   ]
  },
  {
   "cell_type": "code",
   "execution_count": null,
   "metadata": {},
   "outputs": [],
   "source": [
    "[a(i) for i in range(5)]"
   ]
  },
  {
   "cell_type": "code",
   "execution_count": null,
   "metadata": {},
   "outputs": [],
   "source": []
  }
 ],
 "metadata": {
  "kernelspec": {
   "display_name": "Python 3",
   "language": "python",
   "name": "python3"
  },
  "language_info": {
   "codemirror_mode": {
    "name": "ipython",
    "version": 3
   },
   "file_extension": ".py",
   "mimetype": "text/x-python",
   "name": "python",
   "nbconvert_exporter": "python",
   "pygments_lexer": "ipython3",
   "version": "3.8.3"
  }
 },
 "nbformat": 4,
 "nbformat_minor": 4
}
