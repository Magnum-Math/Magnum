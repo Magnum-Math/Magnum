{
 "cells": [
  {
   "cell_type": "code",
   "execution_count": 2,
   "metadata": {},
   "outputs": [
    {
     "name": "stdout",
     "output_type": "stream",
     "text": [
      "/home/mrselukar/manim/gpt-sandbox-cloned\n"
     ]
    }
   ],
   "source": [
    "import openai\n",
    "import os \n",
    "from pathlib import Path\n",
    "data_folder = Path(os.getcwd())\n",
    "openai.api_key = open(data_folder / 'api_keys/openai').readline().rstrip('\\n')\n",
    "print(data_folder)"
   ]
  },
  {
   "cell_type": "code",
   "execution_count": 3,
   "metadata": {},
   "outputs": [
    {
     "name": "stdout",
     "output_type": "stream",
     "text": [
      "Enter Input Question\n",
      "x^3 - x^2 + 9 = 0\n",
      "Would you like to print intermediate code results? yes/no\n",
      "yes\n",
      "Query Received is  x^3 - x^2 + 9 = 0\n",
      "Solution Generated\n"
     ]
    }
   ],
   "source": [
    "from app import apiWrapper\n",
    "print(\"Enter Input Question\")\n",
    "qry = input()\n",
    "qry += \" \"\n",
    "while qry.isspace():\n",
    "    qry = input(\"Enter Input Question\")\n",
    "\n",
    "print(\"Would you like to print intermediate code results? yes/no\")\n",
    "selection = input()\n",
    "while selection not in [\"yes\", \"no\"]:\n",
    "    selection = input()\n",
    "    print(\"Would you like to print intermediate code results? yes/no\")\n",
    "\n",
    "apiWrapper.getUsrQues(qry)\n",
    "RAW_TEXT, Query = apiWrapper.callApi()\n",
    "Query = Query.replace(\"|\",\"\")\n",
    "print(\"Query Received is \", Query)\n",
    "print(\"Solution Generated\")"
   ]
  },
  {
   "cell_type": "code",
   "execution_count": 5,
   "metadata": {},
   "outputs": [
    {
     "name": "stdout",
     "output_type": "stream",
     "text": [
      "Solve for x over the real numbers:\n",
      "x^3 - x^2 + 9 = 0\n",
      "Eliminate the quadratic term by substituting y = x - 1/3:\n",
      "9 - (y + 1/3)^2 + (y + 1/3)^3 = 0\n",
      "Expand out terms of the left hand side:\n",
      "y^3 - y/3 + 241/27 = 0\n",
      "Change coordinates by substituting y = z + λ/z, where λ is a constant value that will be determined later:\n",
      "241/27 + 1/3 (-z - λ/z) + (z + λ/z)^3 = 0\n",
      "Multiply both sides by z^3 and collect in terms of z:\n",
      "z^6 + z^4 (3 λ - 1/3) + (241 z^3)/27 + z^2 (3 λ^2 - λ/3) + λ^3 = 0\n",
      "Substitute λ = 1/9 and then u = z^3, yielding a quadratic equation in the variable u:\n",
      "u^2 + (241 u)/27 + 1/729 = 0\n",
      "Find the positive solution to the quadratic equation:\n",
      "u = 1/54 (9 sqrt(717) - 241)\n",
      "Substitute back for u = z^3:\n",
      "z^3 = 1/54 (9 sqrt(717) - 241)\n",
      "Taking cube roots gives (9 sqrt(717) - 241)^(1/3)/(3 2^(1/3)) times the third roots of unity:\n",
      "z = (9 sqrt(717) - 241)^(1/3)/(3 2^(1/3)) or z = -1/3 (-1/2)^(1/3) (9 sqrt(717) - 241)^(1/3) or z = ((-1)^(2/3) (9 sqrt(717) - 241)^(1/3))/(3 2^(1/3))\n",
      "Substitute each value of z into y = z + 1/(9 z):\n",
      "y = 1/3 ((9 sqrt(717) - 241)/2)^(1/3) - 1/3 (-1)^(2/3) (2/(241 - 9 sqrt(717)))^(1/3) or y = 1/3 ((-2)/(241 - 9 sqrt(717)))^(1/3) - 1/3 ((-1)/2)^(1/3) (9 sqrt(717) - 241)^(1/3) or y = 1/3 (-1)^(2/3) ((9 sqrt(717) - 241)/2)^(1/3) - 1/3 (2/(241 - 9 sqrt(717)))^(1/3)\n",
      "Bring each solution to a common denominator and simplify:\n",
      "y = ((18 sqrt(717) - 482)^(1/3) - (2 (-1)^(2/3))/(241 - 9 sqrt(717))^(1/3))/(3 2^(2/3)) or y = ((-9 sqrt(717) - 241)^(1/3) - (-1)^(1/3) (9 sqrt(717) - 241)^(1/3))/(3 2^(1/3)) or y = (-(482 - 18 sqrt(717))^(1/3) - 2/(241 - 9 sqrt(717))^(1/3))/(3 2^(2/3))\n",
      "Substitute back for x = y + 1/3:\n",
      "Answer:  x = ((18 sqrt(717) - 482)^(1/3) - (2 (-1)^(2/3))/(241 - 9 sqrt(717))^(1/3))/(3 2^(2/3)) + 1/3 or x = ((-241 - 9 sqrt(717))^(1/3) - (-1)^(1/3) (9 sqrt(717) - 241)^(1/3))/(3 2^(1/3)) + 1/3 or x = (-(482 - 18 sqrt(717))^(1/3) - 2/(241 - 9 sqrt(717))^(1/3))/(3 2^(2/3)) + 1/3\n",
      "\n"
     ]
    }
   ],
   "source": [
    "if selection == \"yes\":\n",
    "    for line in RAW_TEXT:\n",
    "        print(line)"
   ]
  },
  {
   "cell_type": "code",
   "execution_count": 4,
   "metadata": {},
   "outputs": [],
   "source": [
    "import os\n",
    "import sys\n",
    "sys.path.append(os.getcwd())\n",
    "\n",
    "from api import GPT, Example\n",
    "from glob import glob\n",
    "def read_file(path_to_file):\n",
    "    retval = \"\"\n",
    "    file = open(path_to_file)\n",
    "    retval = file.readlines()\n",
    "    file.close()\n",
    "    #Make sure the new line character is not read it throws the model off     \n",
    "    retval = [x.split(\"/n\")[0][:-1] for x in retval]\n",
    "    return retval\n",
    "\n",
    "\n",
    "# Construct GPT object and show some examples\n",
    "gpt = GPT(engine=\"davinci\",\n",
    "          temperature=0.01,\n",
    "          max_tokens=125)\n",
    "\n",
    "\n",
    "# reade file and convert it to source string and target string tuples\n",
    "source_names = [item for item in sorted(glob(str(data_folder / \"Training_Example/text2latex/sources/*\")))]\n",
    "target_names = [item for item in sorted(glob( str(data_folder / \"Training_Example/text2latex/latex/*\")))]\n",
    "\n",
    "\n",
    "# open each file in the Training_Example directory\n",
    "for src_path, target_path in zip(source_names,target_names):\n",
    "    \n",
    "    # For each files read the RAW and corrosponding Latex Code\n",
    "    src_RAW = read_file(src_path)\n",
    "    target_RAW = read_file(target_path)\n",
    "    \n",
    "    # for each pair of RAW and latex prime the GPT model\n",
    "    if len(src_RAW) != len(target_RAW):\n",
    "        raise Exception(\"Source and Latex have mismached number of line {} {} in file {} and {}\".format(str(len(src_RAW)), str(len(target_RAW)),src_path,target_path))\n",
    "\n",
    "    for s_RAW, t_RAW in zip(src_RAW,target_RAW):\n",
    "        gpt.add_example(Example(s_RAW,t_RAW))\n",
    "        # Uncomment the following if you would like to see the priming examples\n",
    "        #print(\"Source: \", s_RAW)\n",
    "        #print(\"Output: \", t_RAW)\n",
    "        #print(\"----\")\n",
    "        \n"
   ]
  },
  {
   "cell_type": "code",
   "execution_count": 6,
   "metadata": {},
   "outputs": [
    {
     "name": "stdout",
     "output_type": "stream",
     "text": [
      "\n"
     ]
    }
   ],
   "source": [
    "import os\n",
    "import sys\n",
    "sys.path.append(os.getcwd())\n",
    "\n",
    "from api import GPT, Example\n",
    "from glob import glob\n",
    "def read_file(path_to_file):\n",
    "    retval = \"\"\n",
    "    file = open(path_to_file)\n",
    "    retval = file.readlines()\n",
    "    file.close()\n",
    "    #Make sure the new line character is not read it throws the model off     \n",
    "    retval = [x.split(\"/n\")[0][:-1] for x in retval]\n",
    "    return retval\n",
    "\n",
    "\n",
    "# Construct GPT object and show some examples\n",
    "gpt_py = GPT(engine=\"davinci\",\n",
    "          temperature=0.01,\n",
    "          max_tokens=100)\n",
    "\n",
    "\n",
    "# reade file and convert it to source string and target string tuples\n",
    "source_names = [item for item in sorted(glob( str(data_folder / \"Training_Example/text2py/sources/*\")))]\n",
    "target_names = [item for item in sorted(glob( str(data_folder / \"Training_Example/text2py/python/*\")))]\n",
    "\n",
    "\n",
    "# open each file in the Training_Example directory\n",
    "for src_path, target_path in zip(source_names,target_names):\n",
    "    \n",
    "    # For each files read the RAW and corrosponding Latex Code\n",
    "    src_RAW = read_file(src_path)\n",
    "    target_RAW = read_file(target_path)\n",
    "    \n",
    "    # for each pair of RAW and latex prime the GPT model\n",
    "    if len(src_RAW) != len(target_RAW):\n",
    "        raise Exception(\"Source and Latex have mismached number of line {} {} in file {} and {}\".format(str(len(src_RAW)), str(len(target_RAW)),src_path,target_path))\n",
    "\n",
    "    for s_RAW, t_RAW in zip(src_RAW,target_RAW):\n",
    "        gpt_py.add_example(Example(s_RAW,t_RAW))\n",
    "        # Uncomment the following if you would like to see the priming examples\n",
    "        #print(\"Source: \", s_RAW)\n",
    "        #print(\"Output: \", t_RAW)\n",
    "        #print(\"----\")\n",
    "        \n",
    "print(\"\")"
   ]
  },
  {
   "cell_type": "code",
   "execution_count": 7,
   "metadata": {},
   "outputs": [
    {
     "name": "stdout",
     "output_type": "stream",
     "text": [
      "Attempting to convert input query to graphable python function\n",
      "Interpereted python function is  x**3 - x**2 + 9\n",
      "\n",
      "\n"
     ]
    }
   ],
   "source": [
    "# Converting RAW_TEXT Query to Python Function:\n",
    "print(\"Attempting to convert input query to graphable python function\")\n",
    "python_func = gpt_py.get_top_reply(Query)\n",
    "python_func = python_func[7:]\n",
    "print(\"Interpereted python function is\", python_func)"
   ]
  },
  {
   "cell_type": "code",
   "execution_count": 8,
   "metadata": {},
   "outputs": [
    {
     "name": "stdout",
     "output_type": "stream",
     "text": [
      "Fetching the intermediate LateX code from OpenAI GPT3 API\n"
     ]
    },
    {
     "data": {
      "application/vnd.jupyter.widget-view+json": {
       "model_id": "580f9aa618bf470e9ea7299e25c6e3a9",
       "version_major": 2,
       "version_minor": 0
      },
      "text/plain": [
       "HBox(children=(FloatProgress(value=0.0, max=25.0), HTML(value='')))"
      ]
     },
     "metadata": {},
     "output_type": "display_data"
    },
    {
     "name": "stdout",
     "output_type": "stream",
     "text": [
      "\n",
      "Intermediate LateX generated\n"
     ]
    }
   ],
   "source": [
    "# Converting RAW_TEXT to Latex:\n",
    "from tqdm.auto import tqdm\n",
    "print(\"Fetching the intermediate LateX code from OpenAI GPT3 API\")\n",
    "response = []\n",
    "for i in tqdm(range(len(RAW_TEXT))) :\n",
    "    line = RAW_TEXT[i]\n",
    "    t = gpt.get_top_reply(line)\n",
    "    response.append(t)\n",
    "print(\"Intermediate LateX generated\")"
   ]
  },
  {
   "cell_type": "code",
   "execution_count": 9,
   "metadata": {},
   "outputs": [],
   "source": [
    "latex_code = []\n",
    "for line in response:\n",
    "    text = line.split(\"\\n\")[0][7:]\n",
    "    if text.isspace() or text == \"\":\n",
    "        continue\n",
    "    else:\n",
    "        latex_code.append(text + \"\\n\")"
   ]
  },
  {
   "cell_type": "code",
   "execution_count": 10,
   "metadata": {},
   "outputs": [
    {
     "name": "stdout",
     "output_type": "stream",
     "text": [
      " Solve \\ for \\ x \\ over \\ the \\ real \\ numbers:\n",
      " x^{3} - x^{2} + 9 = 0\n",
      " Eliminate \\ the \\ quadratic \\ term \\ by \\ substituting \\ y = x - 1/3:\n",
      " 9 - (y + \\frac{1}{3})^{2} + (y + \\frac{1}{3})^{3} = 0\n",
      " Expand \\ out \\ terms \\ of \\ the \\ left \\ hand \\ side:\n",
      " y^{3} - y/3 + 241/27 = 0\n",
      " Change \\ coordinates \\ by \\ substituting \\ y = z + \\lambda/z, \\ where \\ \\lambda \\ is \\ a \\ constant \\ value \\ that \\ will \\ be \\ determined \\ later:\n",
      " 241/27 + \\frac{1}{3} (-z - \\lambda/z) + \\frac{z + \\lambda}{z}^3 = 0\n",
      " Multiply \\ both \\ sides \\ by \\ z^{3} \\ and \\ collect \\ in \\ terms \\ of \\ z:\n",
      " z^{6} + z^{4} (3 \\lambda - \\frac{1}{3}) + (241 z^{3})/27 + z^{2} (3 \\lambda^{2} - \\lambda/3) + \\lambda^{3} = 0\n",
      " Substitute \\lambda = \\frac{1}{9} \\ and \\ then \\ u = z^{3}, \\ yielding \\ a \\ quadratic \\ equation \\ in \\ the \\ variable \\ u:\n",
      " u^{2} + (241 u)/27 + \\frac{1}{729} = 0\n",
      " Find \\ the \\ positive \\ solution \\ to \\ the \\ quadratic \\ equation:\n",
      " u = \\frac{1}{54} (9 \\sqrt{717} - 241)\n",
      " Substitute \\ back \\ for \\ u = z^{3}:\n",
      " z^{3} = \\frac{1}{54} (9 \\sqrt{717} - 241)\n",
      " Taking \\ cube \\ roots \\ gives \\ (9 \\sqrt{717} - 241)^{1/3} \\times \\ the \\ third \\ roots \\ of \\ unity:\n",
      " z = (9 \\sqrt{717} - 241)^{1/3}/(3^{2}^{1/3}) \\ or \\ z = -1/3 (-1/2)^{1/3} (9 \\sqrt{717} - 241)^{1/3} \\ or \\ z = ((-1)^{2/3} (9 \\sqrt{717} - 241)^{1/3})/(3^{2}^{1/3})\n",
      " Substitute \\ each \\ value \\ of \\ z \\ into \\ y = z + 1/(9 z):\n",
      " y = \\frac{1}{3} ((9 \\sqrt{717} - 241) / 2)^{1/3} - \\frac{1}{3} (-1)^{2/3} (2/(241 - 9 \\sqrt{717}))^{1/3} or y = \\frac{1}{3} ((-2) / (241 - 9 \\sqrt{717}))^{1/3} - \\frac{1}{3} ((-1) / 2)^{1/3} (9 \\sqrt{7\n",
      " Bring \\ each \\ solution \\ to \\ a \\ common \\ denominator \\ and \\ simplify:\n",
      " y = ((18 \\sqrt{717} - 482)^{1/3} - (2 (-1)^{2/3}))/(241 - 9 \\sqrt{717}^{1/3}))/(3^{2/3} 2^{2/3}) or y = ((-9 \\sqrt{717} - 241)^{1/3} - (-1)^{1/3} (9 \\sqrt{717} - 241)^{1/3}))/(3^{2/3} 2^{1/3})\n",
      " Substitute \\ back \\ for \\ x = y + 1/3:\n",
      " x = ((18 \\sqrt{717} - 482)^{1/3} - (2 (-1)^{2/3})/(241 - 9 \\sqrt{717}))^{1/3})/(3^{2/3} 2^{2/3}) + 1/3 \\ or \\ x = ((-241 - 9 \\sqrt{717})(-1)^{1/3} (9 \\sqrt{717} - 241)^{1/3})/(3^{2/3} 2^{1/3\n"
     ]
    }
   ],
   "source": [
    "if selection == \"yes\":\n",
    "    for line in latex_code:\n",
    "        print(line, end=\"\")\n",
    "latex[15]"
   ]
  },
  {
   "cell_type": "code",
   "execution_count": 35,
   "metadata": {},
   "outputs": [],
   "source": [
    "latex_code[17] = \"NEWWWWWWadlfh\""
   ]
  },
  {
   "cell_type": "code",
   "execution_count": 40,
   "metadata": {
    "scrolled": false
   },
   "outputs": [
    {
     "name": "stdout",
     "output_type": "stream",
     "text": [
      "Converting Latex to Maxnim Code\n",
      "Do you want to generate a graph for x^3 - x^2 + 9 = 0? yes/no\n",
      "yes\n",
      "from manimlib.imports import *\n",
      "from math import *\n",
      "class Solution(GraphScene):\n",
      "\tdef construct(self):\n",
      "\t\twatermark = ImageMobject(\"./assets/water_mark.png\")\n",
      "\t\twatermark.scale(1.5)\n",
      "\t\twatermark.to_corner(DOWN+RIGHT, buff=0)\n",
      "\t\tself.play(FadeIn(watermark))\n",
      "\t\tSolve = TexMobject(r\" Solve \\ for \\ x \\ over \\ the \\ real \\ numbers:\")\n",
      "\t\tSolve.to_edge(UP)\n",
      "\t\tself.play(Write(Solve))\n",
      "\t\talign_mark = TextMobject( 'abs', fill_opacity=1)\n",
      "\t\talign_mark.to_edge(UP)\n",
      "\t\talign_mark.move_to(2*DOWN)\n",
      "\t\talign_mark.add()\n",
      "\t\tself.wait(1)\n",
      "\t\tR0 = TexMobject(r\" x^{3} - x^{2} + 9 = 0\")\n",
      "\t\tif R0.get_width() > 25:\n",
      "\t\t\tR0.stretch_to_fit_width(width=25)\n",
      "\t\tR1 = TexMobject(r\" Eliminate \\ the \\ quadratic \\ term \\ by \\ substituting \\ y = x - 1/3:\")\n",
      "\t\tif R1.get_width() > 25:\n",
      "\t\t\tR1.stretch_to_fit_width(width=25)\n",
      "\t\tR2 = TexMobject(r\" 9 - (y + \\frac{1}{3})^{2} + (y + \\frac{1}{3})^{3} = 0\")\n",
      "\t\tif R2.get_width() > 25:\n",
      "\t\t\tR2.stretch_to_fit_width(width=25)\n",
      "\t\tR3 = TexMobject(r\" Expand \\ out \\ terms \\ of \\ the \\ left \\ hand \\ side:\")\n",
      "\t\tif R3.get_width() > 25:\n",
      "\t\t\tR3.stretch_to_fit_width(width=25)\n",
      "\t\tR4 = TexMobject(r\" y^{3} - y/3 + 241/27 = 0\")\n",
      "\t\tif R4.get_width() > 25:\n",
      "\t\t\tR4.stretch_to_fit_width(width=25)\n",
      "\t\tR5 = TexMobject(r\" Change \\ coordinates \\ by \\ substituting \\ y = z + \\lambda/z, \\ where \\ \\lambda \\ is \\ a \\ constant \\ value \\ that \\ will \\ be \\ determined \\ later:\")\n",
      "\t\tif R5.get_width() > 25:\n",
      "\t\t\tR5.stretch_to_fit_width(width=25)\n",
      "\t\tR6 = TexMobject(r\" 241/27 + \\frac{1}{3} (-z - \\lambda/z) + \\frac{z + \\lambda}{z}^3 = 0\")\n",
      "\t\tif R6.get_width() > 25:\n",
      "\t\t\tR6.stretch_to_fit_width(width=25)\n",
      "\t\tR7 = TexMobject(r\" Multiply \\ both \\ sides \\ by \\ z^{3} \\ and \\ collect \\ in \\ terms \\ of \\ z:\")\n",
      "\t\tif R7.get_width() > 25:\n",
      "\t\t\tR7.stretch_to_fit_width(width=25)\n",
      "\t\tR8 = TexMobject(r\" z^{6} + z^{4} (3 \\lambda - \\frac{1}{3}) + (241 z^{3})/27 + z^{2} (3 \\lambda^{2} - \\lambda/3) + \\lambda^{3} = 0\")\n",
      "\t\tif R8.get_width() > 25:\n",
      "\t\t\tR8.stretch_to_fit_width(width=25)\n",
      "\t\tR9 = TexMobject(r\" Substitute \\lambda = \\frac{1}{9} \\ and \\ then \\ u = z^{3}, \\ yielding \\ a \\ quadratic \\ equation \\ in \\ the \\ variable \\ u:\")\n",
      "\t\tif R9.get_width() > 25:\n",
      "\t\t\tR9.stretch_to_fit_width(width=25)\n",
      "\t\tR10 = TexMobject(r\" u^{2} + (241 u)/27 + \\frac{1}{729} = 0\")\n",
      "\t\tif R10.get_width() > 25:\n",
      "\t\t\tR10.stretch_to_fit_width(width=25)\n",
      "\t\tR11 = TexMobject(r\" Find \\ the \\ positive \\ solution \\ to \\ the \\ quadratic \\ equation:\")\n",
      "\t\tif R11.get_width() > 25:\n",
      "\t\t\tR11.stretch_to_fit_width(width=25)\n",
      "\t\tR12 = TexMobject(r\" u = \\frac{1}{54} (9 \\sqrt{717} - 241)\")\n",
      "\t\tif R12.get_width() > 25:\n",
      "\t\t\tR12.stretch_to_fit_width(width=25)\n",
      "\t\tR13 = TexMobject(r\" Substitute \\ back \\ for \\ u = z^{3}:\")\n",
      "\t\tif R13.get_width() > 25:\n",
      "\t\t\tR13.stretch_to_fit_width(width=25)\n",
      "\t\tR14 = TexMobject(r\" z^{3} = \\frac{1}{54} (9 \\sqrt{717} - 241)\")\n",
      "\t\tif R14.get_width() > 25:\n",
      "\t\t\tR14.stretch_to_fit_width(width=25)\n",
      "\t\tR15 = TexMobject(r\" Taking \\ cube \\ roots \\ gives \\ (9 \\sqrt{717} - 241)^{1/3} \\times \\ the \\ third \\ roots \\ of \\ unity:\")\n",
      "\t\tif R15.get_width() > 25:\n",
      "\t\t\tR15.stretch_to_fit_width(width=25)\n",
      "\t\tR16 = TexMobject(r\"NEWWWWWWadlfh\")\n",
      "\t\tif R16.get_width() > 25:\n",
      "\t\t\tR16.stretch_to_fit_width(width=25)\n",
      "\t\tR17 = TexMobject(r\" Substitute \\ each \\ value \\ of \\ z \\ into \\ y = z + 1/(9 z):\")\n",
      "\t\tif R17.get_width() > 25:\n",
      "\t\t\tR17.stretch_to_fit_width(width=25)\n",
      "\t\tR18 = TexMobject(r\" y = \\frac{1}{3} ((9 \\sqrt{717} - 241) / 2)^{1/3} - \\frac{1}{3} (-1)^{2/3} (2/(241 - 9 \\sqrt{717}))^{1/3} or y = \\frac{1}{3} ((-2) / (241 - 9 \\sqrt{717}))^{1/3} - \\frac{1}{3} ((-1) / 2)^{1/3} (9 \\sqrt{7\")\n",
      "\t\tif R18.get_width() > 25:\n",
      "\t\t\tR18.stretch_to_fit_width(width=25)\n",
      "\t\tR19 = TexMobject(r\" Bring \\ each \\ solution \\ to \\ a \\ common \\ denominator \\ and \\ simplify:\")\n",
      "\t\tif R19.get_width() > 25:\n",
      "\t\t\tR19.stretch_to_fit_width(width=25)\n",
      "\t\tR20 = TexMobject(r\" y = ((18 \\sqrt{717} - 482)^{1/3} - (2 (-1)^{2/3}))/(241 - 9 \\sqrt{717}^{1/3}))/(3^{2/3} 2^{2/3}) or y = ((-9 \\sqrt{717} - 241)^{1/3} - (-1)^{1/3} (9 \\sqrt{717} - 241)^{1/3}))/(3^{2/3} 2^{1/3})\")\n",
      "\t\tif R20.get_width() > 25:\n",
      "\t\t\tR20.stretch_to_fit_width(width=25)\n",
      "\t\tR21 = TexMobject(r\" Substitute \\ back \\ for \\ x = y + 1/3:\")\n",
      "\t\tif R21.get_width() > 25:\n",
      "\t\t\tR21.stretch_to_fit_width(width=25)\n",
      "\t\tR22 = TexMobject(r\" x = ((18 \\sqrt{717} - 482)^{1/3} - (2 (-1)^{2/3})/(241 - 9 \\sqrt{717}))^{1/3})/(3^{2/3} 2^{2/3}) + 1/3 \\ or \\ x = ((-241 - 9 \\sqrt{717})(-1)^{1/3} (9 \\sqrt{717} - 241)^{1/3})/(3^{2/3} 2^{1/3\")\n",
      "\t\tif R22.get_width() > 25:\n",
      "\t\t\tR22.stretch_to_fit_width(width=25)\n",
      "\t\tR0.next_to(align_mark,DOWN)\n",
      "\t\tself.play(Write(R0))\n",
      "\t\tself.wait(1)\n",
      "\t\tR1.next_to(R0, DOWN)\n",
      "\t\tself.play(Write(R1))\n",
      "\t\tself.wait(1)\n",
      "\t\tR2.next_to(R1, DOWN)\n",
      "\t\tself.play(Write(R2))\n",
      "\t\tself.wait(1)\n",
      "\t\tself.play(FadeOut(R0))\n",
      "\t\tself.play(ApplyMethod(R1.next_to,align_mark,DOWN))\n",
      "\t\tself.play(ApplyMethod(R2.next_to,R1, DOWN))\n",
      "\t\tR3.next_to(R2, DOWN)\n",
      "\t\tself.play(Write(R3))\n",
      "\t\tself.play(FadeOut(R1))\n",
      "\t\tself.play(ApplyMethod(R2.next_to,align_mark,DOWN))\n",
      "\t\tself.play(ApplyMethod(R3.next_to,R2, DOWN))\n",
      "\t\tR4.next_to(R3, DOWN)\n",
      "\t\tself.play(Write(R4))\n",
      "\t\tself.play(FadeOut(R2))\n",
      "\t\tself.play(ApplyMethod(R3.next_to,align_mark,DOWN))\n",
      "\t\tself.play(ApplyMethod(R4.next_to,R3, DOWN))\n",
      "\t\tR5.next_to(R4, DOWN)\n",
      "\t\tself.play(Write(R5))\n",
      "\t\tself.play(FadeOut(R3))\n",
      "\t\tself.play(ApplyMethod(R4.next_to,align_mark,DOWN))\n",
      "\t\tself.play(ApplyMethod(R5.next_to,R4, DOWN))\n",
      "\t\tR6.next_to(R5, DOWN)\n",
      "\t\tself.play(Write(R6))\n",
      "\t\tself.play(FadeOut(R4))\n",
      "\t\tself.play(ApplyMethod(R5.next_to,align_mark,DOWN))\n",
      "\t\tself.play(ApplyMethod(R6.next_to,R5, DOWN))\n",
      "\t\tR7.next_to(R6, DOWN)\n",
      "\t\tself.play(Write(R7))\n",
      "\t\tself.play(FadeOut(R5))\n",
      "\t\tself.play(ApplyMethod(R6.next_to,align_mark,DOWN))\n",
      "\t\tself.play(ApplyMethod(R7.next_to,R6, DOWN))\n",
      "\t\tR8.next_to(R7, DOWN)\n",
      "\t\tself.play(Write(R8))\n",
      "\t\tself.play(FadeOut(R6))\n",
      "\t\tself.play(ApplyMethod(R7.next_to,align_mark,DOWN))\n",
      "\t\tself.play(ApplyMethod(R8.next_to,R7, DOWN))\n",
      "\t\tR9.next_to(R8, DOWN)\n",
      "\t\tself.play(Write(R9))\n",
      "\t\tself.play(FadeOut(R7))\n",
      "\t\tself.play(ApplyMethod(R8.next_to,align_mark,DOWN))\n",
      "\t\tself.play(ApplyMethod(R9.next_to,R8, DOWN))\n",
      "\t\tR10.next_to(R9, DOWN)\n",
      "\t\tself.play(Write(R10))\n",
      "\t\tself.play(FadeOut(R8))\n",
      "\t\tself.play(ApplyMethod(R9.next_to,align_mark,DOWN))\n",
      "\t\tself.play(ApplyMethod(R10.next_to,R9, DOWN))\n",
      "\t\tR11.next_to(R10, DOWN)\n",
      "\t\tself.play(Write(R11))\n",
      "\t\tself.play(FadeOut(R9))\n",
      "\t\tself.play(ApplyMethod(R10.next_to,align_mark,DOWN))\n",
      "\t\tself.play(ApplyMethod(R11.next_to,R10, DOWN))\n",
      "\t\tR12.next_to(R11, DOWN)\n",
      "\t\tself.play(Write(R12))\n",
      "\t\tself.play(FadeOut(R10))\n",
      "\t\tself.play(ApplyMethod(R11.next_to,align_mark,DOWN))\n",
      "\t\tself.play(ApplyMethod(R12.next_to,R11, DOWN))\n",
      "\t\tR13.next_to(R12, DOWN)\n",
      "\t\tself.play(Write(R13))\n",
      "\t\tself.play(FadeOut(R11))\n",
      "\t\tself.play(ApplyMethod(R12.next_to,align_mark,DOWN))\n",
      "\t\tself.play(ApplyMethod(R13.next_to,R12, DOWN))\n",
      "\t\tR14.next_to(R13, DOWN)\n",
      "\t\tself.play(Write(R14))\n",
      "\t\tself.play(FadeOut(R12))\n",
      "\t\tself.play(ApplyMethod(R13.next_to,align_mark,DOWN))\n",
      "\t\tself.play(ApplyMethod(R14.next_to,R13, DOWN))\n",
      "\t\tR15.next_to(R14, DOWN)\n",
      "\t\tself.play(Write(R15))\n",
      "\t\tself.play(FadeOut(R13))\n",
      "\t\tself.play(ApplyMethod(R14.next_to,align_mark,DOWN))\n",
      "\t\tself.play(ApplyMethod(R15.next_to,R14, DOWN))\n",
      "\t\tR16.next_to(R15, DOWN)\n",
      "\t\tself.play(Write(R16))\n",
      "\t\tself.play(FadeOut(R14))\n",
      "\t\tself.play(ApplyMethod(R15.next_to,align_mark,DOWN))\n",
      "\t\tself.play(ApplyMethod(R16.next_to,R15, DOWN))\n",
      "\t\tR17.next_to(R16, DOWN)\n",
      "\t\tself.play(Write(R17))\n",
      "\t\tself.play(FadeOut(R15))\n",
      "\t\tself.play(ApplyMethod(R16.next_to,align_mark,DOWN))\n",
      "\t\tself.play(ApplyMethod(R17.next_to,R16, DOWN))\n",
      "\t\tR18.next_to(R17, DOWN)\n",
      "\t\tself.play(Write(R18))\n",
      "\t\tself.play(FadeOut(R16))\n",
      "\t\tself.play(ApplyMethod(R17.next_to,align_mark,DOWN))\n",
      "\t\tself.play(ApplyMethod(R18.next_to,R17, DOWN))\n",
      "\t\tR19.next_to(R18, DOWN)\n",
      "\t\tself.play(Write(R19))\n",
      "\t\tself.play(FadeOut(R17))\n",
      "\t\tself.play(ApplyMethod(R18.next_to,align_mark,DOWN))\n",
      "\t\tself.play(ApplyMethod(R19.next_to,R18, DOWN))\n",
      "\t\tR20.next_to(R19, DOWN)\n",
      "\t\tself.play(Write(R20))\n",
      "\t\tself.play(FadeOut(R18))\n",
      "\t\tself.play(ApplyMethod(R19.next_to,align_mark,DOWN))\n",
      "\t\tself.play(ApplyMethod(R20.next_to,R19, DOWN))\n",
      "\t\tR21.next_to(R20, DOWN)\n",
      "\t\tself.play(Write(R21))\n",
      "\t\tself.play(FadeOut(R19))\n",
      "\t\tself.play(ApplyMethod(R20.next_to,align_mark,DOWN))\n",
      "\t\tself.play(ApplyMethod(R21.next_to,R20, DOWN))\n",
      "\t\tR22.next_to(R21, DOWN)\n",
      "\t\tself.play(Write(R22))\n",
      "\t\tself.play(FadeOut(R22))\n",
      "\t\tself.play(FadeOut(R21))\n",
      "\t\tself.play(FadeOut(R20))\n",
      "\t\tself.play(FadeOut(Solve))\n",
      "\t\t\n",
      "Manim Code Generated\n"
     ]
    }
   ],
   "source": [
    "from app import latex2Manim\n",
    "import importlib\n",
    "importlib.reload(latex2Manim)\n",
    "print(\"Converting Latex to Maxnim Code\")\n",
    "manim_code = latex2Manim.latex2Manim(latex_code,Query ,python_func)\n",
    "if selection == \"yes\":\n",
    "    print(manim_code)\n",
    "print(\"Manim Code Generated\")"
   ]
  },
  {
   "cell_type": "code",
   "execution_count": 41,
   "metadata": {},
   "outputs": [
    {
     "name": "stdout",
     "output_type": "stream",
     "text": [
      "Manim Code saved at /home/mrselukar/manim/gpt-sandbox-cloned/solution.py\n"
     ]
    }
   ],
   "source": [
    "fptr =  open(data_folder / \"solution.py\", \"w\") \n",
    "fptr.write(manim_code)\n",
    "fptr.close()\n",
    "print(\"Manim Code saved at {}/solution.py\".format(data_folder))"
   ]
  },
  {
   "cell_type": "code",
   "execution_count": 42,
   "metadata": {},
   "outputs": [
    {
     "name": "stdout",
     "output_type": "stream",
     "text": [
      "Media will be written to ./Animations/. You can change this behavior with the --media_dir flag.\n",
      "                                                                                \n",
      "File ready at /home/mrselukar/manim/gpt-sandbox-cloned/Animations/videos/solution/480p15/Solution.mp4\n",
      "\n",
      "Played 93 animations\n"
     ]
    }
   ],
   "source": [
    "!manim solution.py Solution -pl --media_dir \"./Animations\""
   ]
  },
  {
   "cell_type": "code",
   "execution_count": 27,
   "metadata": {},
   "outputs": [
    {
     "name": "stdout",
     "output_type": "stream",
     "text": [
      "Starting to Animate\n",
      "Animation Completed check ./Animations/video for output\n"
     ]
    }
   ],
   "source": [
    "import os\n",
    "print(\"Starting to Animate. Arguments for manim if any?\")\n",
    "args = input()\n",
    "retval = os.system('manim ' + str(data_folder) + '/solution.py Solution ' + args +' --media_dir ' + str(data_folder) +'\"/Animations\"')\n",
    "if retval == 0:\n",
    "    print(\"Animation Completed check ./Animations/video for output\")\n",
    "else:\n",
    "    print(\"Animation Error Check Manim Logs!!\")"
   ]
  },
  {
   "cell_type": "code",
   "execution_count": null,
   "metadata": {},
   "outputs": [],
   "source": [
    "\"\"\"\n",
    "# Script to find and replace spaces with \" / \" in files \n",
    "target_names = [item for item in sorted(glob(\"./Training_Example/latex/*\"))]\n",
    "retval = \"\"\n",
    "for path_to_file in target_names:\n",
    "    print(path_to_file)\n",
    "    temp = input()\n",
    "    if temp == \"yes\":\n",
    "\n",
    "        file = open(path_to_file)\n",
    "        retval = file.readlines()\n",
    "        file.close()\n",
    "        for i in range(len(retval)):\n",
    "            print(retval[i])\n",
    "            x = input()\n",
    "            if x != '0':\n",
    "                retval[i] = retval[i].replace(\" \", \" \\ \")\n",
    "        retval = [x.split(\"/n\")[0][:-1] for x in retval]\n",
    "    #print(retval)\n",
    "\n",
    "\"\"\""
   ]
  },
  {
   "cell_type": "code",
   "execution_count": null,
   "metadata": {},
   "outputs": [],
   "source": [
    "\"\"\"for l in retval:\n",
    "    print (l)\"\"\""
   ]
  },
  {
   "cell_type": "code",
   "execution_count": null,
   "metadata": {},
   "outputs": [],
   "source": [
    "def func(x_in):\n",
    "\t\tf = lambda x : eval(x_in)\n",
    "\t\treturn f"
   ]
  },
  {
   "cell_type": "code",
   "execution_count": null,
   "metadata": {},
   "outputs": [],
   "source": [
    "a = func('x**2')"
   ]
  },
  {
   "cell_type": "code",
   "execution_count": null,
   "metadata": {},
   "outputs": [],
   "source": [
    "[a(i) for i in range(5)]"
   ]
  },
  {
   "cell_type": "code",
   "execution_count": null,
   "metadata": {},
   "outputs": [],
   "source": []
  }
 ],
 "metadata": {
  "kernelspec": {
   "display_name": "Python 3",
   "language": "python",
   "name": "python3"
  },
  "language_info": {
   "codemirror_mode": {
    "name": "ipython",
    "version": 3
   },
   "file_extension": ".py",
   "mimetype": "text/x-python",
   "name": "python",
   "nbconvert_exporter": "python",
   "pygments_lexer": "ipython3",
   "version": "3.8.3"
  }
 },
 "nbformat": 4,
 "nbformat_minor": 4
}
