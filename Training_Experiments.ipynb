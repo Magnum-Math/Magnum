{
 "cells": [
  {
   "cell_type": "code",
   "execution_count": 1,
   "metadata": {},
   "outputs": [
    {
     "name": "stdout",
     "output_type": "stream",
     "text": [
      "/home/mrselukar/manim/gpt-sandbox-cloned\n"
     ]
    }
   ],
   "source": [
    "import openai\n",
    "import os \n",
    "from pathlib import Path\n",
    "data_folder = Path(os.getcwd())\n",
    "openai.api_key = open(data_folder / 'api_keys/openai').readline().rstrip('\\n')\n",
    "print(data_folder)"
   ]
  },
  {
   "cell_type": "code",
   "execution_count": 2,
   "metadata": {},
   "outputs": [
    {
     "name": "stdout",
     "output_type": "stream",
     "text": [
      "Enter Input Question\n",
      "x=2\n",
      "Would you like to print intermediate code results? yes/no\n",
      "yes\n",
      "Solution Generated\n"
     ]
    }
   ],
   "source": [
    "from app import apiWrapper\n",
    "print(\"Enter Input Question\")\n",
    "qry = input()\n",
    "qry += \" \"\n",
    "while qry.isspace():\n",
    "    qry = input(\"Enter Input Question\")\n",
    "\n",
    "print(\"Would you like to print intermediate code results? yes/no\")\n",
    "selection = input()\n",
    "while selection not in [\"yes\", \"no\"]:\n",
    "    selection = input()\n",
    "    print(\"Would you like to print intermediate code results? yes/no\")\n",
    "\n",
    "apiWrapper.getUsrQues(qry)\n",
    "#RAW_TEXT, Query = apiWrapper.callApi()\n",
    "#Query = Query.replace(\"|\",\"\")\n",
    "#print(\"Query Received is \", Query)\n",
    "print(\"Solution Generated\")"
   ]
  },
  {
   "cell_type": "code",
   "execution_count": 3,
   "metadata": {},
   "outputs": [
    {
     "ename": "NameError",
     "evalue": "name 'RAW_TEXT' is not defined",
     "output_type": "error",
     "traceback": [
      "\u001b[0;31m---------------------------------------------------------------------------\u001b[0m",
      "\u001b[0;31mNameError\u001b[0m                                 Traceback (most recent call last)",
      "\u001b[0;32m<ipython-input-3-1fbc1bd3e083>\u001b[0m in \u001b[0;36m<module>\u001b[0;34m\u001b[0m\n\u001b[1;32m      1\u001b[0m \u001b[0;32mif\u001b[0m \u001b[0mselection\u001b[0m \u001b[0;34m==\u001b[0m \u001b[0;34m\"yes\"\u001b[0m\u001b[0;34m:\u001b[0m\u001b[0;34m\u001b[0m\u001b[0;34m\u001b[0m\u001b[0m\n\u001b[0;32m----> 2\u001b[0;31m     \u001b[0;32mfor\u001b[0m \u001b[0mline\u001b[0m \u001b[0;32min\u001b[0m \u001b[0mRAW_TEXT\u001b[0m\u001b[0;34m:\u001b[0m\u001b[0;34m\u001b[0m\u001b[0;34m\u001b[0m\u001b[0m\n\u001b[0m\u001b[1;32m      3\u001b[0m         \u001b[0mprint\u001b[0m\u001b[0;34m(\u001b[0m\u001b[0mline\u001b[0m\u001b[0;34m)\u001b[0m\u001b[0;34m\u001b[0m\u001b[0;34m\u001b[0m\u001b[0m\n",
      "\u001b[0;31mNameError\u001b[0m: name 'RAW_TEXT' is not defined"
     ]
    }
   ],
   "source": [
    "if selection == \"yes\":\n",
    "    for line in RAW_TEXT:\n",
    "        print(line)"
   ]
  },
  {
   "cell_type": "code",
   "execution_count": 4,
   "metadata": {},
   "outputs": [],
   "source": [
    "import os\n",
    "import sys\n",
    "sys.path.append(os.getcwd())\n",
    "\n",
    "from api import GPT, Example\n",
    "from glob import glob\n",
    "def read_file(path_to_file):\n",
    "    retval = \"\"\n",
    "    file = open(path_to_file)\n",
    "    retval = file.readlines()\n",
    "    file.close()\n",
    "    #Make sure the new line character is not read it throws the model off     \n",
    "    retval = [x.split(\"/n\")[0][:-1] for x in retval]\n",
    "    return retval\n",
    "\n",
    "\n",
    "# Construct GPT object and show some examples\n",
    "gpt = GPT(engine=\"davinci\",\n",
    "          temperature=0.01,\n",
    "          max_tokens=150)\n",
    "\n",
    "\n",
    "# reade file and convert it to source string and target string tuples\n",
    "source_names = [item for item in sorted(glob(str(data_folder / \"Training_Example/text2latex/sources/*\")))]\n",
    "target_names = [item for item in sorted(glob( str(data_folder / \"Training_Example/text2latex/latex/*\")))]\n",
    "\n",
    "\n",
    "# open each file in the Training_Example directory\n",
    "for src_path, target_path in zip(source_names,target_names):\n",
    "    \n",
    "    # For each files read the RAW and corrosponding Latex Code\n",
    "    src_RAW = read_file(src_path)\n",
    "    target_RAW = read_file(target_path)\n",
    "    \n",
    "    # for each pair of RAW and latex prime the GPT model\n",
    "    if len(src_RAW) != len(target_RAW):\n",
    "        raise Exception(\"Source and Latex have mismached number of line {} {} in file {} and {}\".format(str(len(src_RAW)), str(len(target_RAW)),src_path,target_path))\n",
    "\n",
    "    for s_RAW, t_RAW in zip(src_RAW,target_RAW):\n",
    "        gpt.add_example(Example(s_RAW,t_RAW))\n",
    "        # Uncomment the following if you would like to see the priming examples\n",
    "        #print(\"Source: \", s_RAW)\n",
    "        #print(\"Output: \", t_RAW)\n",
    "        #print(\"----\")\n",
    "        \n"
   ]
  },
  {
   "cell_type": "code",
   "execution_count": 5,
   "metadata": {},
   "outputs": [
    {
     "name": "stdout",
     "output_type": "stream",
     "text": [
      "\n"
     ]
    }
   ],
   "source": [
    "import os\n",
    "import sys\n",
    "sys.path.append(os.getcwd())\n",
    "\n",
    "from api import GPT, Example\n",
    "from glob import glob\n",
    "def read_file(path_to_file):\n",
    "    retval = \"\"\n",
    "    file = open(path_to_file)\n",
    "    retval = file.readlines()\n",
    "    file.close()\n",
    "    #Make sure the new line character is not read it throws the model off     \n",
    "    retval = [x.split(\"/n\")[0][:-1] for x in retval]\n",
    "    return retval\n",
    "\n",
    "\n",
    "# Construct GPT object and show some examples\n",
    "gpt_py = GPT(engine=\"davinci\",\n",
    "          temperature=0.01,\n",
    "          max_tokens=100)\n",
    "\n",
    "\n",
    "# reade file and convert it to source string and target string tuples\n",
    "source_names = [item for item in sorted(glob( str(data_folder / \"Training_Example/text2py/sources/*\")))]\n",
    "target_names = [item for item in sorted(glob( str(data_folder / \"Training_Example/text2py/python/*\")))]\n",
    "\n",
    "\n",
    "# open each file in the Training_Example directory\n",
    "for src_path, target_path in zip(source_names,target_names):\n",
    "    \n",
    "    # For each files read the RAW and corrosponding Latex Code\n",
    "    src_RAW = read_file(src_path)\n",
    "    target_RAW = read_file(target_path)\n",
    "    \n",
    "    # for each pair of RAW and latex prime the GPT model\n",
    "    if len(src_RAW) != len(target_RAW):\n",
    "        raise Exception(\"Source and Latex have mismached number of line {} {} in file {} and {}\".format(str(len(src_RAW)), str(len(target_RAW)),src_path,target_path))\n",
    "\n",
    "    for s_RAW, t_RAW in zip(src_RAW,target_RAW):\n",
    "        gpt_py.add_example(Example(s_RAW,t_RAW))\n",
    "        # Uncomment the following if you would like to see the priming examples\n",
    "        #print(\"Source: \", s_RAW)\n",
    "        #print(\"Output: \", t_RAW)\n",
    "        #print(\"----\")\n",
    "        \n",
    "print(\"\")"
   ]
  },
  {
   "cell_type": "code",
   "execution_count": 6,
   "metadata": {},
   "outputs": [
    {
     "name": "stdout",
     "output_type": "stream",
     "text": [
      "Attempting to convert input query to graphable python function\n"
     ]
    },
    {
     "ename": "NameError",
     "evalue": "name 'Query' is not defined",
     "output_type": "error",
     "traceback": [
      "\u001b[0;31m---------------------------------------------------------------------------\u001b[0m",
      "\u001b[0;31mNameError\u001b[0m                                 Traceback (most recent call last)",
      "\u001b[0;32m<ipython-input-6-c020bf01f969>\u001b[0m in \u001b[0;36m<module>\u001b[0;34m\u001b[0m\n\u001b[1;32m      1\u001b[0m \u001b[0;31m# Converting RAW_TEXT Query to Python Function:\u001b[0m\u001b[0;34m\u001b[0m\u001b[0;34m\u001b[0m\u001b[0;34m\u001b[0m\u001b[0m\n\u001b[1;32m      2\u001b[0m \u001b[0mprint\u001b[0m\u001b[0;34m(\u001b[0m\u001b[0;34m\"Attempting to convert input query to graphable python function\"\u001b[0m\u001b[0;34m)\u001b[0m\u001b[0;34m\u001b[0m\u001b[0;34m\u001b[0m\u001b[0m\n\u001b[0;32m----> 3\u001b[0;31m \u001b[0mpython_func\u001b[0m \u001b[0;34m=\u001b[0m \u001b[0mgpt_py\u001b[0m\u001b[0;34m.\u001b[0m\u001b[0mget_top_reply\u001b[0m\u001b[0;34m(\u001b[0m\u001b[0mQuery\u001b[0m\u001b[0;34m)\u001b[0m\u001b[0;34m\u001b[0m\u001b[0;34m\u001b[0m\u001b[0m\n\u001b[0m\u001b[1;32m      4\u001b[0m \u001b[0mpython_func\u001b[0m \u001b[0;34m=\u001b[0m \u001b[0mpython_func\u001b[0m\u001b[0;34m[\u001b[0m\u001b[0;36m7\u001b[0m\u001b[0;34m:\u001b[0m\u001b[0;34m]\u001b[0m\u001b[0;34m\u001b[0m\u001b[0;34m\u001b[0m\u001b[0m\n\u001b[1;32m      5\u001b[0m \u001b[0mprint\u001b[0m\u001b[0;34m(\u001b[0m\u001b[0;34m\"Interpereted python function is\"\u001b[0m\u001b[0;34m,\u001b[0m \u001b[0mpython_func\u001b[0m\u001b[0;34m)\u001b[0m\u001b[0;34m\u001b[0m\u001b[0;34m\u001b[0m\u001b[0m\n",
      "\u001b[0;31mNameError\u001b[0m: name 'Query' is not defined"
     ]
    }
   ],
   "source": [
    "# Converting RAW_TEXT Query to Python Function:\n",
    "print(\"Attempting to convert input query to graphable python function\")\n",
    "python_func = gpt_py.get_top_reply(Query)\n",
    "python_func = python_func[7:]\n",
    "print(\"Interpereted python function is\", python_func)"
   ]
  },
  {
   "cell_type": "code",
   "execution_count": 7,
   "metadata": {},
   "outputs": [
    {
     "name": "stdout",
     "output_type": "stream",
     "text": [
      "Fetching the intermediate LateX code from OpenAI GPT3 API\n"
     ]
    },
    {
     "ename": "NameError",
     "evalue": "name 'RAW_TEXT' is not defined",
     "output_type": "error",
     "traceback": [
      "\u001b[0;31m---------------------------------------------------------------------------\u001b[0m",
      "\u001b[0;31mNameError\u001b[0m                                 Traceback (most recent call last)",
      "\u001b[0;32m<ipython-input-7-ffe249dbeb3f>\u001b[0m in \u001b[0;36m<module>\u001b[0;34m\u001b[0m\n\u001b[1;32m      3\u001b[0m \u001b[0mprint\u001b[0m\u001b[0;34m(\u001b[0m\u001b[0;34m\"Fetching the intermediate LateX code from OpenAI GPT3 API\"\u001b[0m\u001b[0;34m)\u001b[0m\u001b[0;34m\u001b[0m\u001b[0;34m\u001b[0m\u001b[0m\n\u001b[1;32m      4\u001b[0m \u001b[0mresponse\u001b[0m \u001b[0;34m=\u001b[0m \u001b[0;34m[\u001b[0m\u001b[0;34m]\u001b[0m\u001b[0;34m\u001b[0m\u001b[0;34m\u001b[0m\u001b[0m\n\u001b[0;32m----> 5\u001b[0;31m \u001b[0;32mfor\u001b[0m \u001b[0mi\u001b[0m \u001b[0;32min\u001b[0m \u001b[0mtqdm\u001b[0m\u001b[0;34m(\u001b[0m\u001b[0mrange\u001b[0m\u001b[0;34m(\u001b[0m\u001b[0mlen\u001b[0m\u001b[0;34m(\u001b[0m\u001b[0mRAW_TEXT\u001b[0m\u001b[0;34m)\u001b[0m\u001b[0;34m)\u001b[0m\u001b[0;34m)\u001b[0m \u001b[0;34m:\u001b[0m\u001b[0;34m\u001b[0m\u001b[0;34m\u001b[0m\u001b[0m\n\u001b[0m\u001b[1;32m      6\u001b[0m     \u001b[0mline\u001b[0m \u001b[0;34m=\u001b[0m \u001b[0mRAW_TEXT\u001b[0m\u001b[0;34m[\u001b[0m\u001b[0mi\u001b[0m\u001b[0;34m]\u001b[0m\u001b[0;34m\u001b[0m\u001b[0;34m\u001b[0m\u001b[0m\n\u001b[1;32m      7\u001b[0m     \u001b[0mt\u001b[0m \u001b[0;34m=\u001b[0m \u001b[0mgpt\u001b[0m\u001b[0;34m.\u001b[0m\u001b[0mget_top_reply\u001b[0m\u001b[0;34m(\u001b[0m\u001b[0mline\u001b[0m\u001b[0;34m)\u001b[0m\u001b[0;34m\u001b[0m\u001b[0;34m\u001b[0m\u001b[0m\n",
      "\u001b[0;31mNameError\u001b[0m: name 'RAW_TEXT' is not defined"
     ]
    }
   ],
   "source": [
    "# Converting RAW_TEXT to Latex:\n",
    "from tqdm.auto import tqdm\n",
    "print(\"Fetching the intermediate LateX code from OpenAI GPT3 API\")\n",
    "response = []\n",
    "for i in tqdm(range(len(RAW_TEXT))) :\n",
    "    line = RAW_TEXT[i]\n",
    "    t = gpt.get_top_reply(line)\n",
    "    response.append(t)\n",
    "print(\"Intermediate LateX generated\")"
   ]
  },
  {
   "cell_type": "code",
   "execution_count": null,
   "metadata": {},
   "outputs": [],
   "source": [
    "latex_code = []\n",
    "for line in response:\n",
    "    text = line.split(\"\\n\")[0][7:]\n",
    "    if text.isspace() or text == \"\":\n",
    "        continue\n",
    "    else:\n",
    "        latex_code.append(text +\"\\n\")"
   ]
  },
  {
   "cell_type": "code",
   "execution_count": 19,
   "metadata": {},
   "outputs": [],
   "source": [
    "latex_code = read_file('./latex.txt')\n",
    "for i in range(len(latex_code)):\n",
    "    latex_code[i] += \"\\n\""
   ]
  },
  {
   "cell_type": "code",
   "execution_count": 20,
   "metadata": {},
   "outputs": [
    {
     "ename": "SyntaxError",
     "evalue": "invalid syntax (<ipython-input-20-210a6bb62cb6>, line 3)",
     "output_type": "error",
     "traceback": [
      "\u001b[0;36m  File \u001b[0;32m\"<ipython-input-20-210a6bb62cb6>\"\u001b[0;36m, line \u001b[0;32m3\u001b[0m\n\u001b[0;31m    print(line, end=)\u001b[0m\n\u001b[0m                    ^\u001b[0m\n\u001b[0;31mSyntaxError\u001b[0m\u001b[0;31m:\u001b[0m invalid syntax\n"
     ]
    }
   ],
   "source": [
    "if selection == \"yes\":\n",
    "    for line in latex_code:\n",
    "        print(line, end=)"
   ]
  },
  {
   "cell_type": "code",
   "execution_count": null,
   "metadata": {},
   "outputs": [],
   "source": [
    "#latex_code[17] = \"NEWWWWWWadlfh\""
   ]
  },
  {
   "cell_type": "code",
   "execution_count": 41,
   "metadata": {
    "scrolled": false
   },
   "outputs": [
    {
     "name": "stdout",
     "output_type": "stream",
     "text": [
      "Converting Latex to Maxnim Code\n",
      "Do you want to generate a graph for gjsdkagh? yes/no\n",
      "no\n",
      "from manimlib.imports import *\n",
      "from math import *\n",
      "class Solution(GraphScene):\n",
      "\tdef construct(self):\n",
      "\t\twatermark = ImageMobject(\"./assets/water_mark.png\",opacity=0.7)\n",
      "\t\twatermark.scale(1.5)\n",
      "\t\twatermark.to_corner(DOWN+RIGHT, buff=0)\n",
      "\t\tself.play(FadeIn(watermark))\n",
      "\t\tSolve = TexMobject(r\"\\int_{-4}^{4} \\sqrt{16 - x^{2}} \\ dx\" )\n",
      "\t\tSolve.to_edge(UP)\n",
      "\t\tself.play(Write(Solve))\n",
      "\t\talign_mark = TexMobject( r'abs', fill_opacity=0.00,height=0.5)\n",
      "\t\talign_mark.next_to(Solve,DOWN)\n",
      "\t\tself.wait(1)\n",
      "\t\tR0 = TexMobject(r\" For \\ the \\ integrand \\  \\sqrt{16 \\linebreak - x^{2}}, \\ substitute \\ x = 4 \\sin(u) \\ and \\ dx = 4 \\cos(u) \\ du.\" )\n",
      "\t\tif R0.get_height() > 1:\n",
      "\t\t\tR0.set_height(height=1,stretch=False)\n",
      "\t\tif R0.get_width() > 10:\n",
      "\t\t\tR0.set_width(width=10,stretch=True)\n",
      "\t\tR1 = TexMobject(r\" Then\\  \\sqrt{16 - x^{2}} = \\sqrt{16 - \\linebreak 16 \\sin^2(u)} = 4 \\sqrt{ \\cos^2(u)}.\" )\n",
      "\t\tif R1.get_height() > 1:\n",
      "\t\t\tR1.set_height(height=1,stretch=False)\n",
      "\t\tif R1.get_width() > 10:\n",
      "\t\t\tR1.set_width(width=10,stretch=True)\n",
      "\t\tR2 = TexMobject(r\" This \\ substitution \\ is \\ invertible \\ \\linebreak over \\ -\\frac{\\pi}{2}<u<\\frac{\\pi}{2} \\ with \\ inverse \\ u = \\sin^{-1}\\frac{x}{4}.\" )\n",
      "\t\tif R2.get_height() > 1:\n",
      "\t\t\tR2.set_height(height=1,stretch=False)\n",
      "\t\tif R2.get_width() > 10:\n",
      "\t\t\tR2.set_width(width=10,stretch=True)\n",
      "\t\tR3 = TexMobject(r\" This \\ gives \\ a \\ new \\ \\linebreak lower \\ bound \\ u = \\sin^{-1}\\frac{-4}{4} = -\\frac{\\pi}{2} \\ and \\ upper \\ bound \\ u = \\sin^{-1}\\frac{4}{4} = \\frac{\\pi}{2}:\" )\n",
      "\t\tif R3.get_height() > 1:\n",
      "\t\t\tR3.set_height(height=1,stretch=False)\n",
      "\t\tif R3.get_width() > 10:\n",
      "\t\t\tR3.set_width(width=10,stretch=True)\n",
      "\t\tR4 = TexMobject(r\" = 4 \\int_{{-\\pi}/{2}}^{{\\pi}/{2}} 4 \\cos(u) \\sqrt{\\cos^2(u)} \\ du \\linebreak \" )\n",
      "\t\tif R4.get_height() > 1:\n",
      "\t\t\tR4.set_height(height=1,stretch=False)\n",
      "\t\tif R4.get_width() > 10:\n",
      "\t\t\tR4.set_width(width=10,stretch=True)\n",
      "\t\tR5 = TexMobject(r\" Factor \\ out \\ constants:\" )\n",
      "\t\tif R5.get_height() > 1:\n",
      "\t\t\tR5.set_height(height=1,stretch=False)\n",
      "\t\tif R5.get_width() > 10:\n",
      "\t\t\tR5.set_width(width=10,stretch=True)\n",
      "\t\tR6 = TexMobject(r\" = 16 \\int_{-{\\pi}/{2}}^{{\\pi}/{2}} \\cos(u) \\sqrt{\\cos^2(u)} \\ du \\linebreak \" )\n",
      "\t\tif R6.get_height() > 1:\n",
      "\t\t\tR6.set_height(height=1,stretch=False)\n",
      "\t\tif R6.get_width() > 10:\n",
      "\t\t\tR6.set_width(width=10,stretch=True)\n",
      "\t\tR7 = TexMobject(r\" Simplify \\ \\cos(u) \\sqrt{ \\cos^{2}(u)} \\ assuming \\ \\linebreak -\\frac{\\pi}{2}<u<\\frac{\\pi}{2}\" )\n",
      "\t\tif R7.get_height() > 1:\n",
      "\t\t\tR7.set_height(height=1,stretch=False)\n",
      "\t\tif R7.get_width() > 10:\n",
      "\t\t\tR7.set_width(width=10,stretch=True)\n",
      "\t\tR8 = TexMobject(r\" = 16 \\int_{-{\\pi}/{2}}^{{\\pi}/{2}} \\cos^2(u) \\ du\" )\n",
      "\t\tif R8.get_height() > 1:\n",
      "\t\t\tR8.set_height(height=1,stretch=False)\n",
      "\t\tif R8.get_width() > 10:\n",
      "\t\t\tR8.set_width(width=10,stretch=True)\n",
      "\t\tR9 = TexMobject(r\" Write \\cos^{2}(u) \\ as \\ \\frac{1}{2} \\cos(2 u) \\linebreak + \\frac{1}{2}:\" )\n",
      "\t\tif R9.get_height() > 1:\n",
      "\t\t\tR9.set_height(height=1,stretch=False)\n",
      "\t\tif R9.get_width() > 10:\n",
      "\t\t\tR9.set_width(width=10,stretch=True)\n",
      "\t\tR10 = TexMobject(r\" = 16 \\int_{-{\\pi}/{2}}^{{\\pi}/{2}} (\\frac{1}{2} \\cos(2 u) + \\frac{1}{2}) \\linebreak \\ du\" )\n",
      "\t\tif R10.get_height() > 1:\n",
      "\t\t\tR10.set_height(height=1,stretch=False)\n",
      "\t\tif R10.get_width() > 10:\n",
      "\t\t\tR10.set_width(width=10,stretch=True)\n",
      "\t\tR11 = TexMobject(r\" Integrate \\ the \\ sum \\ term \\ \\linebreak by \\ term \\ and \\ factor \\ out \\ constants:\" )\n",
      "\t\tif R11.get_height() > 1:\n",
      "\t\t\tR11.set_height(height=1,stretch=False)\n",
      "\t\tif R11.get_width() > 10:\n",
      "\t\t\tR11.set_width(width=10,stretch=True)\n",
      "\t\tR12 = TexMobject(r\" = 8 \\int_{-{\\pi}/{2}}^{{\\pi}/{2}} \\cos(2 u) \\ du + \\linebreak 8 \\int_{-{\\pi}/{2}}^{{\\pi}/{2}} 1 \\ du\" )\n",
      "\t\tif R12.get_height() > 1:\n",
      "\t\t\tR12.set_height(height=1,stretch=False)\n",
      "\t\tif R12.get_width() > 10:\n",
      "\t\t\tR12.set_width(width=10,stretch=True)\n",
      "\t\tR13 = TexMobject(r\" For \\ the \\ integrand \\cos(2 u), \\ \\linebreak substitute \\ s = 2 u \\ and \\ ds = 2 \\ du.\" )\n",
      "\t\tif R13.get_height() > 1:\n",
      "\t\t\tR13.set_height(height=1,stretch=False)\n",
      "\t\tif R13.get_width() > 10:\n",
      "\t\t\tR13.set_width(width=10,stretch=True)\n",
      "\t\tR14 = TexMobject(r\" This \\ gives \\ a \\ new \\ \\linebreak lower \\ bound \\ s = \\frac{-2\\pi}{ 2} = -\\pi \\ and \\ upper \\ bound \\ s = \\frac{2\\pi}{ 2} = \\pi:\" )\n",
      "\t\tif R14.get_height() > 1:\n",
      "\t\t\tR14.set_height(height=1,stretch=False)\n",
      "\t\tif R14.get_width() > 10:\n",
      "\t\t\tR14.set_width(width=10,stretch=True)\n",
      "\t\tR15 = TexMobject(r\" = 4 \\int_{-\\pi}^{\\pi} \\cos(s) \\ ds + 8 \\linebreak \\int_{-\\pi/2}^{\\pi/2} 1 \\ du\" )\n",
      "\t\tif R15.get_height() > 1:\n",
      "\t\t\tR15.set_height(height=1,stretch=False)\n",
      "\t\tif R15.get_width() > 10:\n",
      "\t\t\tR15.set_width(width=10,stretch=True)\n",
      "\t\tR16 = TexMobject(r\" Apply \\ the \\ fundamental \\ theorem \\ \\linebreak of \\ calculus.\" )\n",
      "\t\tif R16.get_height() > 1:\n",
      "\t\t\tR16.set_height(height=1,stretch=False)\n",
      "\t\tif R16.get_width() > 10:\n",
      "\t\t\tR16.set_width(width=10,stretch=True)\n",
      "\t\tR17 = TexMobject(r\" The \\ antiderivative \\ of \\cos(s) \\ is \\linebreak \\sin(s):\" )\n",
      "\t\tif R17.get_height() > 1:\n",
      "\t\t\tR17.set_height(height=1,stretch=False)\n",
      "\t\tif R17.get_width() > 10:\n",
      "\t\t\tR17.set_width(width=10,stretch=True)\n",
      "\t\tR18 = TexMobject(r\" = 4 \\sin(s) | _{-\\pi}^{\\pi} + 8 \\int_{-\\pi/2}^{\\pi/2} \\linebreak 1 \\ du\" )\n",
      "\t\tif R18.get_height() > 1:\n",
      "\t\t\tR18.set_height(height=1,stretch=False)\n",
      "\t\tif R18.get_width() > 10:\n",
      "\t\t\tR18.set_width(width=10,stretch=True)\n",
      "\t\tR19 = TexMobject(r\" Evaluate \\ the \\ antiderivative \\ at \\ \\linebreak the \\ limits \\ and \\ subtract.\" )\n",
      "\t\tif R19.get_height() > 1:\n",
      "\t\t\tR19.set_height(height=1,stretch=False)\n",
      "\t\tif R19.get_width() > 10:\n",
      "\t\t\tR19.set_width(width=10,stretch=True)\n",
      "\t\tR20 = TexMobject(r\" 4 \\sin(s) |_{-\\pi}^\\pi = 4 \\sin(\\pi) - 4 \\linebreak \\sin(-\\pi) = 0:\" )\n",
      "\t\tif R20.get_height() > 1:\n",
      "\t\t\tR20.set_height(height=1,stretch=False)\n",
      "\t\tif R20.get_width() > 10:\n",
      "\t\t\tR20.set_width(width=10,stretch=True)\n",
      "\t\tR21 = TexMobject(r\" = 8 \\int_{-{\\pi}/{2}}^{{\\pi}/{2}} 1 \\  du \\linebreak \" )\n",
      "\t\tif R21.get_height() > 1:\n",
      "\t\t\tR21.set_height(height=1,stretch=False)\n",
      "\t\tif R21.get_width() > 10:\n",
      "\t\t\tR21.set_width(width=10,stretch=True)\n",
      "\t\tR22 = TexMobject(r\" Apply \\ the \\ fundamental \\ theorem \\ \\linebreak of \\ calculus.\" )\n",
      "\t\tif R22.get_height() > 1:\n",
      "\t\t\tR22.set_height(height=1,stretch=False)\n",
      "\t\tif R22.get_width() > 10:\n",
      "\t\t\tR22.set_width(width=10,stretch=True)\n",
      "\t\tR23 = TexMobject(r\" The \\ antiderivative \\ of \\ 1 \\ \\linebreak is \\ u:\" )\n",
      "\t\tif R23.get_height() > 1:\n",
      "\t\t\tR23.set_height(height=1,stretch=False)\n",
      "\t\tif R23.get_width() > 10:\n",
      "\t\t\tR23.set_width(width=10,stretch=True)\n",
      "\t\tR24 = TexMobject(r\" = 8 u| _{-{\\pi}/{2}}^{{\\pi}/{2}}\" )\n",
      "\t\tif R24.get_height() > 1:\n",
      "\t\t\tR24.set_height(height=1,stretch=False)\n",
      "\t\tif R24.get_width() > 10:\n",
      "\t\t\tR24.set_width(width=10,stretch=True)\n",
      "\t\tR25 = TexMobject(r\" Evaluate \\ the \\ antiderivative \\ at \\ \\linebreak the \\ limits \\ and \\ subtract.\" )\n",
      "\t\tif R25.get_height() > 1:\n",
      "\t\t\tR25.set_height(height=1,stretch=False)\n",
      "\t\tif R25.get_width() > 10:\n",
      "\t\t\tR25.set_width(width=10,stretch=True)\n",
      "\t\tR26 = TexMobject(r\" 8 u |_{-\\pi/2}^{\\pi/2} = \\frac{8 \\pi}{2} - \\frac{8 \\linebreak (-\\pi)}{2} = 8 \\pi:\" )\n",
      "\t\tif R26.get_height() > 1:\n",
      "\t\t\tR26.set_height(height=1,stretch=False)\n",
      "\t\tif R26.get_width() > 10:\n",
      "\t\t\tR26.set_width(width=10,stretch=True)\n",
      "\t\tR27 = TexMobject(r\" Answer: = 8\\pi\" )\n",
      "\t\tif R27.get_height() > 1:\n",
      "\t\t\tR27.set_height(height=1,stretch=False)\n",
      "\t\tif R27.get_width() > 10:\n",
      "\t\t\tR27.set_width(width=10,stretch=True)\n",
      "\t\tR0.next_to(align_mark,DOWN)\n",
      "\t\tself.play(Write(R0))\n",
      "\t\tself.wait(1)\n",
      "\t\tR1.next_to(R0, DOWN)\n",
      "\t\tself.play(Write(R1))\n",
      "\t\tself.wait(1)\n",
      "\t\tR2.next_to(R1, DOWN)\n",
      "\t\tself.play(Write(R2))\n",
      "\t\tself.wait(1)\n",
      "\t\tself.play(FadeOut(R0))\n",
      "\t\tself.play(ApplyMethod(R1.next_to,align_mark,DOWN))\n",
      "\t\tself.play(ApplyMethod(R2.next_to,R1, DOWN))\n",
      "\t\tR3.next_to(R2, DOWN)\n",
      "\t\tself.play(Write(R3))\n",
      "\t\tself.play(FadeOut(R1))\n",
      "\t\tself.play(ApplyMethod(R2.next_to,align_mark,DOWN))\n",
      "\t\tself.play(ApplyMethod(R3.next_to,R2, DOWN))\n",
      "\t\tR4.next_to(R3, DOWN)\n",
      "\t\tself.play(Write(R4))\n",
      "\t\tself.play(FadeOut(R2))\n",
      "\t\tself.play(ApplyMethod(R3.next_to,align_mark,DOWN))\n",
      "\t\tself.play(ApplyMethod(R4.next_to,R3, DOWN))\n",
      "\t\tR5.next_to(R4, DOWN)\n",
      "\t\tself.play(Write(R5))\n",
      "\t\tself.play(FadeOut(R3))\n",
      "\t\tself.play(ApplyMethod(R4.next_to,align_mark,DOWN))\n",
      "\t\tself.play(ApplyMethod(R5.next_to,R4, DOWN))\n",
      "\t\tR6.next_to(R5, DOWN)\n",
      "\t\tself.play(Write(R6))\n",
      "\t\tself.play(FadeOut(R4))\n",
      "\t\tself.play(ApplyMethod(R5.next_to,align_mark,DOWN))\n",
      "\t\tself.play(ApplyMethod(R6.next_to,R5, DOWN))\n",
      "\t\tR7.next_to(R6, DOWN)\n",
      "\t\tself.play(Write(R7))\n",
      "\t\tself.play(FadeOut(R5))\n",
      "\t\tself.play(ApplyMethod(R6.next_to,align_mark,DOWN))\n",
      "\t\tself.play(ApplyMethod(R7.next_to,R6, DOWN))\n",
      "\t\tR8.next_to(R7, DOWN)\n",
      "\t\tself.play(Write(R8))\n",
      "\t\tself.play(FadeOut(R6))\n",
      "\t\tself.play(ApplyMethod(R7.next_to,align_mark,DOWN))\n",
      "\t\tself.play(ApplyMethod(R8.next_to,R7, DOWN))\n",
      "\t\tR9.next_to(R8, DOWN)\n",
      "\t\tself.play(Write(R9))\n",
      "\t\tself.play(FadeOut(R7))\n",
      "\t\tself.play(ApplyMethod(R8.next_to,align_mark,DOWN))\n",
      "\t\tself.play(ApplyMethod(R9.next_to,R8, DOWN))\n",
      "\t\tR10.next_to(R9, DOWN)\n",
      "\t\tself.play(Write(R10))\n",
      "\t\tself.play(FadeOut(R8))\n",
      "\t\tself.play(ApplyMethod(R9.next_to,align_mark,DOWN))\n",
      "\t\tself.play(ApplyMethod(R10.next_to,R9, DOWN))\n",
      "\t\tR11.next_to(R10, DOWN)\n",
      "\t\tself.play(Write(R11))\n",
      "\t\tself.play(FadeOut(R9))\n",
      "\t\tself.play(ApplyMethod(R10.next_to,align_mark,DOWN))\n",
      "\t\tself.play(ApplyMethod(R11.next_to,R10, DOWN))\n",
      "\t\tR12.next_to(R11, DOWN)\n",
      "\t\tself.play(Write(R12))\n",
      "\t\tself.play(FadeOut(R10))\n",
      "\t\tself.play(ApplyMethod(R11.next_to,align_mark,DOWN))\n",
      "\t\tself.play(ApplyMethod(R12.next_to,R11, DOWN))\n",
      "\t\tR13.next_to(R12, DOWN)\n",
      "\t\tself.play(Write(R13))\n",
      "\t\tself.play(FadeOut(R11))\n",
      "\t\tself.play(ApplyMethod(R12.next_to,align_mark,DOWN))\n",
      "\t\tself.play(ApplyMethod(R13.next_to,R12, DOWN))\n",
      "\t\tR14.next_to(R13, DOWN)\n",
      "\t\tself.play(Write(R14))\n",
      "\t\tself.play(FadeOut(R12))\n",
      "\t\tself.play(ApplyMethod(R13.next_to,align_mark,DOWN))\n",
      "\t\tself.play(ApplyMethod(R14.next_to,R13, DOWN))\n",
      "\t\tR15.next_to(R14, DOWN)\n",
      "\t\tself.play(Write(R15))\n",
      "\t\tself.play(FadeOut(R13))\n",
      "\t\tself.play(ApplyMethod(R14.next_to,align_mark,DOWN))\n",
      "\t\tself.play(ApplyMethod(R15.next_to,R14, DOWN))\n",
      "\t\tR16.next_to(R15, DOWN)\n",
      "\t\tself.play(Write(R16))\n",
      "\t\tself.play(FadeOut(R14))\n",
      "\t\tself.play(ApplyMethod(R15.next_to,align_mark,DOWN))\n",
      "\t\tself.play(ApplyMethod(R16.next_to,R15, DOWN))\n",
      "\t\tR17.next_to(R16, DOWN)\n",
      "\t\tself.play(Write(R17))\n",
      "\t\tself.play(FadeOut(R15))\n",
      "\t\tself.play(ApplyMethod(R16.next_to,align_mark,DOWN))\n",
      "\t\tself.play(ApplyMethod(R17.next_to,R16, DOWN))\n",
      "\t\tR18.next_to(R17, DOWN)\n",
      "\t\tself.play(Write(R18))\n",
      "\t\tself.play(FadeOut(R16))\n",
      "\t\tself.play(ApplyMethod(R17.next_to,align_mark,DOWN))\n",
      "\t\tself.play(ApplyMethod(R18.next_to,R17, DOWN))\n",
      "\t\tR19.next_to(R18, DOWN)\n",
      "\t\tself.play(Write(R19))\n",
      "\t\tself.play(FadeOut(R17))\n",
      "\t\tself.play(ApplyMethod(R18.next_to,align_mark,DOWN))\n",
      "\t\tself.play(ApplyMethod(R19.next_to,R18, DOWN))\n",
      "\t\tR20.next_to(R19, DOWN)\n",
      "\t\tself.play(Write(R20))\n",
      "\t\tself.play(FadeOut(R18))\n",
      "\t\tself.play(ApplyMethod(R19.next_to,align_mark,DOWN))\n",
      "\t\tself.play(ApplyMethod(R20.next_to,R19, DOWN))\n",
      "\t\tR21.next_to(R20, DOWN)\n",
      "\t\tself.play(Write(R21))\n",
      "\t\tself.play(FadeOut(R19))\n",
      "\t\tself.play(ApplyMethod(R20.next_to,align_mark,DOWN))\n",
      "\t\tself.play(ApplyMethod(R21.next_to,R20, DOWN))\n",
      "\t\tR22.next_to(R21, DOWN)\n",
      "\t\tself.play(Write(R22))\n",
      "\t\tself.play(FadeOut(R20))\n",
      "\t\tself.play(ApplyMethod(R21.next_to,align_mark,DOWN))\n",
      "\t\tself.play(ApplyMethod(R22.next_to,R21, DOWN))\n",
      "\t\tR23.next_to(R22, DOWN)\n",
      "\t\tself.play(Write(R23))\n",
      "\t\tself.play(FadeOut(R21))\n",
      "\t\tself.play(ApplyMethod(R22.next_to,align_mark,DOWN))\n",
      "\t\tself.play(ApplyMethod(R23.next_to,R22, DOWN))\n",
      "\t\tR24.next_to(R23, DOWN)\n",
      "\t\tself.play(Write(R24))\n",
      "\t\tself.play(FadeOut(R22))\n",
      "\t\tself.play(ApplyMethod(R23.next_to,align_mark,DOWN))\n",
      "\t\tself.play(ApplyMethod(R24.next_to,R23, DOWN))\n",
      "\t\tR25.next_to(R24, DOWN)\n",
      "\t\tself.play(Write(R25))\n",
      "\t\tself.play(FadeOut(R23))\n",
      "\t\tself.play(ApplyMethod(R24.next_to,align_mark,DOWN))\n",
      "\t\tself.play(ApplyMethod(R25.next_to,R24, DOWN))\n",
      "\t\tR26.next_to(R25, DOWN)\n",
      "\t\tself.play(Write(R26))\n",
      "\t\tself.play(FadeOut(R24))\n",
      "\t\tself.play(ApplyMethod(R25.next_to,align_mark,DOWN))\n",
      "\t\tself.play(ApplyMethod(R26.next_to,R25, DOWN))\n",
      "\t\tR27.next_to(R26, DOWN)\n",
      "\t\tself.play(Write(R27))\n",
      "\t\tself.play(FadeOut(R27))\n",
      "\t\tself.play(FadeOut(R26))\n",
      "\t\tself.play(FadeOut(R25))\n",
      "\t\tself.play(FadeOut(Solve))\n",
      "\t\t\n",
      "Manim Code Generated\n"
     ]
    }
   ],
   "source": [
    "from app import latex2Manim\n",
    "import importlib\n",
    "importlib.reload(latex2Manim)\n",
    "print(\"Converting Latex to Maxnim Code\")\n",
    "manim_code = latex2Manim.latex2Manim(latex_code,\"gjsdkagh\" ,\"x\")\n",
    "if selection == \"yes\":\n",
    "    print(manim_code)\n",
    "print(\"Manim Code Generated\")"
   ]
  },
  {
   "cell_type": "code",
   "execution_count": 42,
   "metadata": {},
   "outputs": [
    {
     "name": "stdout",
     "output_type": "stream",
     "text": [
      "Manim Code saved at /home/mrselukar/manim/gpt-sandbox-cloned/solution.py\n"
     ]
    }
   ],
   "source": [
    "fptr =  open(data_folder / \"solution.py\", \"w\") \n",
    "fptr.write(manim_code)\n",
    "fptr.close()\n",
    "print(\"Manim Code saved at {}/solution.py\".format(data_folder))"
   ]
  },
  {
   "cell_type": "code",
   "execution_count": 32,
   "metadata": {},
   "outputs": [
    {
     "name": "stdout",
     "output_type": "stream",
     "text": [
      "Media will be written to ./Animations/. You can change this behavior with the --media_dir flag.\n",
      "                                                                                \n",
      "\n",
      "\n",
      "Traceback (most recent call last):\n",
      "  File \"/home/mrselukar/miniconda3/lib/python3.8/site-packages/manimlib/extract_scene.py\", line 155, in main\n",
      "    scene = SceneClass(**scene_kwargs)\n",
      "  File \"/home/mrselukar/miniconda3/lib/python3.8/site-packages/manimlib/scene/scene.py\", line 75, in __init__\n",
      "    self.construct()\n",
      "  File \"solution.py\", line 29, in construct\n",
      "    R4.stretch_to_fit_heigth(height=1.2)\n",
      "AttributeError: 'TexMobject' object has no attribute 'stretch_to_fit_heigth'\n",
      "\n",
      "\n",
      "\n"
     ]
    }
   ],
   "source": [
    "!manim solution.py Solution -pl --media_dir \"./Animations\""
   ]
  },
  {
   "cell_type": "code",
   "execution_count": null,
   "metadata": {},
   "outputs": [],
   "source": [
    "import os\n",
    "print(\"Starting to Animate. Arguments for manim if any?\")\n",
    "args = input()\n",
    "retval = os.system('manim ' + str(data_folder) + '/solution.py Solution ' + args +' --media_dir ' + str(data_folder) +'\"/Animations\"')\n",
    "if retval == 0:\n",
    "    print(\"Animation Completed check ./Animations/video for output\")\n",
    "else:\n",
    "    print(\"Animation Error Check Manim Logs!!\")"
   ]
  },
  {
   "cell_type": "code",
   "execution_count": null,
   "metadata": {},
   "outputs": [],
   "source": [
    "\"\"\"\n",
    "# Script to find and replace spaces with \" / \" in files \n",
    "target_names = [item for item in sorted(glob(\"./Training_Example/latex/*\"))]\n",
    "retval = \"\"\n",
    "for path_to_file in target_names:\n",
    "    print(path_to_file)\n",
    "    temp = input()\n",
    "    if temp == \"yes\":\n",
    "\n",
    "        file = open(path_to_file)\n",
    "        retval = file.readlines()\n",
    "        file.close()\n",
    "        for i in range(len(retval)):\n",
    "            print(retval[i])\n",
    "            x = input()\n",
    "            if x != '0':\n",
    "                retval[i] = retval[i].replace(\" \", \" \\ \")\n",
    "        retval = [x.split(\"/n\")[0][:-1] for x in retval]\n",
    "    #print(retval)\n",
    "\n",
    "\"\"\""
   ]
  },
  {
   "cell_type": "code",
   "execution_count": null,
   "metadata": {},
   "outputs": [],
   "source": [
    "\"\"\"for l in retval:\n",
    "    print (l)\"\"\""
   ]
  },
  {
   "cell_type": "code",
   "execution_count": null,
   "metadata": {},
   "outputs": [],
   "source": [
    "def func(x_in):\n",
    "\t\tf = lambda x : eval(x_in)\n",
    "\t\treturn f"
   ]
  },
  {
   "cell_type": "code",
   "execution_count": null,
   "metadata": {},
   "outputs": [],
   "source": [
    "a = func('x**2')"
   ]
  },
  {
   "cell_type": "code",
   "execution_count": null,
   "metadata": {},
   "outputs": [],
   "source": [
    "[a(i) for i in range(5)]"
   ]
  }
 ],
 "metadata": {
  "kernelspec": {
   "display_name": "Python 3",
   "language": "python",
   "name": "python3"
  },
  "language_info": {
   "codemirror_mode": {
    "name": "ipython",
    "version": 3
   },
   "file_extension": ".py",
   "mimetype": "text/x-python",
   "name": "python",
   "nbconvert_exporter": "python",
   "pygments_lexer": "ipython3",
   "version": "3.8.3"
  }
 },
 "nbformat": 4,
 "nbformat_minor": 4
}
