{
 "cells": [
  {
   "cell_type": "code",
   "execution_count": 1,
   "metadata": {},
   "outputs": [],
   "source": [
    "import openai\n",
    "openai.api_key = \"***REMOVED***\""
   ]
  },
  {
   "cell_type": "code",
   "execution_count": 2,
   "metadata": {},
   "outputs": [
    {
     "name": "stdout",
     "output_type": "stream",
     "text": [
      "Enter Input Question\n",
      "integrate from -4 to 4: sqrt(16-x^2)\n",
      "Would you like to print intermediate code results? yes/no\n",
      "yes\n",
      "Query Received is  integral_(-4)^4 sqrt(16 - x^2) dx = 8 π≈25.133\n",
      "Solution Generated\n"
     ]
    }
   ],
   "source": [
    "from app import apiWrapper\n",
    "print(\"Enter Input Question\")\n",
    "qry = input()\n",
    "qry += \" \"\n",
    "while qry.isspace():\n",
    "    qry = input(\"Enter Input Question\")\n",
    "\n",
    "print(\"Would you like to print intermediate code results? yes/no\")\n",
    "selection = input()\n",
    "while selection not in [\"yes\", \"no\"]:\n",
    "    selection = input()\n",
    "    print(\"Would you like to print intermediate code results? yes/no\")\n",
    "\n",
    "apiWrapper.getUsrQues(qry)\n",
    "RAW_TEXT, Query = apiWrapper.callApi()\n",
    "Query = Query.replace(\"|\",\"\")\n",
    "print(\"Query Received is \", Query)\n",
    "print(\"Solution Generated\")"
   ]
  },
  {
   "cell_type": "code",
   "execution_count": 3,
   "metadata": {},
   "outputs": [
    {
     "name": "stdout",
     "output_type": "stream",
     "text": [
      "Compute the definite integral:\n",
      " integral_(-4)^4 sqrt(16 - x^2) dx\n",
      "For the integrand sqrt(16 - x^2), substitute x = 4 sin(u) and dx = 4 cos(u) du.\n",
      "Then sqrt(16 - x^2) = sqrt(16 - 16 sin^2(u)) = 4 sqrt(cos^2(u)).\n",
      "This substitution is invertible over -π/2<u<π/2 with inverse u = sin^(-1)(x/4).\n",
      "This gives a new lower bound u = sin^(-1)(-4/4) = -π/2 and upper bound u = sin^(-1)(4/4) = π/2:\n",
      " = 4 integral_(-π/2)^(π/2) 4 cos(u) sqrt(cos^2(u)) du\n",
      "Factor out constants:\n",
      " = 16 integral_(-π/2)^(π/2) cos(u) sqrt(cos^2(u)) du\n",
      "Simplify cos(u) sqrt(cos^2(u)) assuming -π/2<u<π/2:\n",
      " = 16 integral_(-π/2)^(π/2) cos^2(u) du\n",
      "Write cos^2(u) as 1/2 cos(2 u) + 1/2:\n",
      " = 16 integral_(-π/2)^(π/2) (1/2 cos(2 u) + 1/2) du\n",
      "Integrate the sum term by term and factor out constants:\n",
      " = 8 integral_(-π/2)^(π/2) cos(2 u) du + 8 integral_(-π/2)^(π/2) 1 du\n",
      "For the integrand cos(2 u), substitute s = 2 u and ds = 2 du.\n",
      "This gives a new lower bound s = (2 (-π))/2 = -π and upper bound s = (2 π)/2 = π:\n",
      " = 4 integral_(-π)^π cos(s) ds + 8 integral_(-π/2)^(π/2) 1 du\n",
      "Apply the fundamental theorem of calculus.\n",
      "The antiderivative of cos(s) is sin(s):\n",
      " = 4 sin(s) right bracketing bar _(-π)^π + 8 integral_(-π/2)^(π/2) 1 du\n",
      "Evaluate the antiderivative at the limits and subtract.\n",
      " 4 sin(s) right bracketing bar _(-π)^π = 4 sin(π) - 4 sin(-π) = 0:\n",
      " = 8 integral_(-π/2)^(π/2) 1 du\n",
      "Apply the fundamental theorem of calculus.\n",
      "The antiderivative of 1 is u:\n",
      " = 8 u right bracketing bar _(-π/2)^(π/2)\n",
      "Evaluate the antiderivative at the limits and subtract.\n",
      " 8 u right bracketing bar _(-π/2)^(π/2) = (8 π)/2 - ((8 (-π))/2) = 8 π:\n",
      "Answer:  = 8 π\n",
      "\n"
     ]
    }
   ],
   "source": [
    "if selection == \"yes\":\n",
    "    for line in RAW_TEXT:\n",
    "        print(line)"
   ]
  },
  {
   "cell_type": "code",
   "execution_count": 4,
   "metadata": {},
   "outputs": [
    {
     "name": "stdout",
     "output_type": "stream",
     "text": [
      "\n"
     ]
    }
   ],
   "source": [
    "import os\n",
    "import sys\n",
    "sys.path.append(os.getcwd())\n",
    "\n",
    "from api import GPT, Example, UIConfig\n",
    "from api import demo_web_app\n",
    "from glob import glob\n",
    "def read_file(path_to_file):\n",
    "    retval = \"\"\n",
    "    file = open(path_to_file)\n",
    "    retval = file.readlines()\n",
    "    file.close()\n",
    "    #Make sure the new line character is not read it throws the model off     \n",
    "    retval = [x.split(\"/n\")[0][:-1] for x in retval]\n",
    "    return retval\n",
    "\n",
    "\n",
    "# Construct GPT object and show some examples\n",
    "gpt = GPT(engine=\"davinci\",\n",
    "          temperature=0.01,\n",
    "          max_tokens=300)\n",
    "\n",
    "\n",
    "# reade file and convert it to source string and target string tuples\n",
    "source_names = [item for item in sorted(glob(\"./Training_Example/text2latex/sources/*\"))]\n",
    "target_names = [item for item in sorted(glob(\"./Training_Example/text2latex/latex/*\"))]\n",
    "\n",
    "\n",
    "# open each file in the Training_Example directory\n",
    "for src_path, target_path in zip(source_names,target_names):\n",
    "    \n",
    "    # For each files read the RAW and corrosponding Latex Code\n",
    "    src_RAW = read_file(src_path)\n",
    "    target_RAW = read_file(target_path)\n",
    "    \n",
    "    # for each pair of RAW and latex prime the GPT model\n",
    "    if len(src_RAW) != len(target_RAW):\n",
    "        raise Exception(\"Source and Latex have mismached number of line {} {} in file {} and {}\".format(str(len(src_RAW)), str(len(target_RAW)),src_path,target_path))\n",
    "\n",
    "    for s_RAW, t_RAW in zip(src_RAW,target_RAW):\n",
    "        gpt.add_example(Example(s_RAW,t_RAW))\n",
    "        # Uncomment the following if you would like to see the priming examples\n",
    "        #print(\"Source: \", s_RAW)\n",
    "        #print(\"Output: \", t_RAW)\n",
    "        #print(\"----\")\n",
    "        \n",
    "print(\"\")"
   ]
  },
  {
   "cell_type": "code",
   "execution_count": 5,
   "metadata": {},
   "outputs": [
    {
     "name": "stdout",
     "output_type": "stream",
     "text": [
      "\n"
     ]
    }
   ],
   "source": [
    "import os\n",
    "import sys\n",
    "sys.path.append(os.getcwd())\n",
    "\n",
    "from api import GPT, Example, UIConfig\n",
    "from api import demo_web_app\n",
    "from glob import glob\n",
    "def read_file(path_to_file):\n",
    "    retval = \"\"\n",
    "    file = open(path_to_file)\n",
    "    retval = file.readlines()\n",
    "    file.close()\n",
    "    #Make sure the new line character is not read it throws the model off     \n",
    "    retval = [x.split(\"/n\")[0][:-1] for x in retval]\n",
    "    return retval\n",
    "\n",
    "\n",
    "# Construct GPT object and show some examples\n",
    "gpt_py = GPT(engine=\"davinci\",\n",
    "          temperature=0.01,\n",
    "          max_tokens=100)\n",
    "\n",
    "\n",
    "# reade file and convert it to source string and target string tuples\n",
    "source_names = [item for item in sorted(glob(\"./Training_Example/text2py/sources/*\"))]\n",
    "target_names = [item for item in sorted(glob(\"./Training_Example/text2py/python/*\"))]\n",
    "\n",
    "\n",
    "# open each file in the Training_Example directory\n",
    "for src_path, target_path in zip(source_names,target_names):\n",
    "    \n",
    "    # For each files read the RAW and corrosponding Latex Code\n",
    "    src_RAW = read_file(src_path)\n",
    "    target_RAW = read_file(target_path)\n",
    "    \n",
    "    # for each pair of RAW and latex prime the GPT model\n",
    "    if len(src_RAW) != len(target_RAW):\n",
    "        raise Exception(\"Source and Latex have mismached number of line {} {} in file {} and {}\".format(str(len(src_RAW)), str(len(target_RAW)),src_path,target_path))\n",
    "\n",
    "    for s_RAW, t_RAW in zip(src_RAW,target_RAW):\n",
    "        gpt_py.add_example(Example(s_RAW,t_RAW))\n",
    "        # Uncomment the following if you would like to see the priming examples\n",
    "        #print(\"Source: \", s_RAW)\n",
    "        #print(\"Output: \", t_RAW)\n",
    "        #print(\"----\")\n",
    "        \n",
    "print(\"\")"
   ]
  },
  {
   "cell_type": "code",
   "execution_count": 6,
   "metadata": {},
   "outputs": [
    {
     "name": "stdout",
     "output_type": "stream",
     "text": [
      "Attempting to convert input query to graphable python function\n",
      "Interpereted python function is  -4*math.sqrt(16 - x**2)**4*math.pi\n",
      "\n",
      "\n"
     ]
    }
   ],
   "source": [
    "# Converting RAW_TEXT Query to Python Function:\n",
    "print(\"Attempting to convert input query to graphable python function\")\n",
    "python_func = gpt_py.get_top_reply(Query)\n",
    "python_func = python_func[7:]\n",
    "print(\"Interpereted python function is\", python_func)"
   ]
  },
  {
   "cell_type": "code",
   "execution_count": 7,
   "metadata": {},
   "outputs": [
    {
     "name": "stdout",
     "output_type": "stream",
     "text": [
      "Fetching the intermediate LateX code from OpenAI GPT3 API\n"
     ]
    },
    {
     "data": {
      "application/vnd.jupyter.widget-view+json": {
       "model_id": "d893ed8d46fd4dd4a35226ed0d4f53fb",
       "version_major": 2,
       "version_minor": 0
      },
      "text/plain": [
       "HBox(children=(FloatProgress(value=0.0, max=31.0), HTML(value='')))"
      ]
     },
     "metadata": {},
     "output_type": "display_data"
    },
    {
     "name": "stdout",
     "output_type": "stream",
     "text": [
      "\n",
      "Intermediate LateX generated\n"
     ]
    }
   ],
   "source": [
    "# Converting RAW_TEXT to Latex:\n",
    "from tqdm.auto import tqdm\n",
    "print(\"Fetching the intermediate LateX code from OpenAI GPT3 API\")\n",
    "response = []\n",
    "for i in tqdm(range(len(RAW_TEXT))) :\n",
    "    line = RAW_TEXT[i]\n",
    "    t = gpt.get_top_reply(line)\n",
    "    response.append(t)\n",
    "print(\"Intermediate LateX generated\")"
   ]
  },
  {
   "cell_type": "code",
   "execution_count": 8,
   "metadata": {},
   "outputs": [],
   "source": [
    "latex_code = []\n",
    "for line in response:\n",
    "    text = line.split(\"\\n\")[0][7:]\n",
    "    if text.isspace() or text == \"\":\n",
    "        continue\n",
    "    else:\n",
    "        latex_code.append(text + \"\\n\")"
   ]
  },
  {
   "cell_type": "code",
   "execution_count": 9,
   "metadata": {},
   "outputs": [
    {
     "name": "stdout",
     "output_type": "stream",
     "text": [
      " Compute \\ the \\ definite \\ integral:\n",
      " \\int_{-4}^{4} \\sqrt{16 - x^{2}} dx\n",
      " For \\ the \\ integrand \\ sqrt{16 - x^{2}}, \\ substitute \\ x = 4 \\sin(u) \\ and \\ dx = 4 \\cos(u) \\ du.\n",
      " Then \\sqrt{16 - x^{2}} = \\sqrt{16 - 16 \\sin^2(u)} = 4 \\sqrt{ \\cos^2(u)}.\n",
      " This \\ substitution \\ is \\ invertible \\ over \\ -\\frac{π}{2}<u<\\frac{π}{2} \\ with \\ inverse \\ u = \\sin^{-1}(x/4).\n",
      " This \\ gives \\ a \\ new \\ lower \\ bound \\ u = \\sin^{-1}(-4/4) = -\\frac{\\pi}{2} \\ and \\ upper \\ bound \\ u = \\sin^{-1}(4/4) = \\frac{\\pi}{2}:\n",
      " = 4 \\int_{-\\frac{\\pi}{2}}^{\\frac{\\pi}{2}} 4 \\cos(u) \\sqrt{\\cos^2(u)} du\n",
      " Factor \\ out \\ constants:\n",
      " = 16 \\int_{-\\frac{\\pi}{2}}^{\\frac{\\pi}{2}} \\cos(u) \\sqrt{\\cos^2(u)} du\n",
      " Simplify \\ cos(u) \\sqrt{ \\cos^{2}(u)} \\ assuming \\ -\\frac{\\pi}{2}<u<\\frac{\\pi}{2}\n",
      " = 16 \\int_{-\\frac{\\pi}{2}}^{\\frac{\\pi}{2}} \\cos^2(u) du\n",
      " Write \\cos^{2}(u) \\ as \\ 1/2 \\cos(2 u) + 1/2:\n",
      " = 16 \\int_{-\\frac{\\pi}{2}}^{\\frac{\\pi}{2}} (\\frac{1}{2} \\cos(2 u) + \\frac{1}{2}) du\n",
      " Integrate \\ the \\ sum \\ term \\ by \\ term \\ and \\ factor \\ out \\ constants:\n",
      " = 8 \\int_{-\\frac{\\pi}{2}}^{\\frac{\\pi}{2}} \\cos(2 u) du + 8 \\int_{-\\frac{\\pi}{2}}^{\\frac{\\pi}{2}} 1 du\n",
      " For \\ the \\ integrand \\ cos(2 u), \\ substitute \\ s = 2 u \\ and \\ ds = 2 du.\n",
      " This \\ gives \\ a \\ new \\ lower \\ bound \\ s = (-\\pi) / 2 = -\\pi \\ and \\ upper \\ bound \\ s = (\\pi) / 2 = \\pi:\n",
      " = 4 \\int_{-\\pi}^{\\pi} \\cos(s) ds + 8 \\int_{-\\pi/2}^{\\pi/2} 1 du\n",
      " Apply \\ the \\ fundamental \\ theorem \\ of \\ calculus.\n",
      " The \\ antiderivative \\ of \\ cos(s) \\ is \\ sin(s):\n",
      " = 4 \\sin(s) \\right \\bracketing \\bar _{(-\\pi)^\\pi + 8} \\int_{-\\pi/2}^{\\pi/2} 1 du\n",
      " Evaluate \\ the \\ antiderivative \\ at \\ the \\ limits \\ and \\ subtract.\n",
      " 4 \\sin(s) \\right \\bracketing \\ bar \\ (-\\pi)^\\pi = 4 \\sin(\\pi) - 4 \\sin(-\\pi) = 0:\n",
      " = 8 \\int_{-\\frac{\\pi}{2}}^{\\frac{\\pi}{2}} 1 du\n",
      " Apply \\ the \\ fundamental \\ theorem \\ of \\ calculus.\n",
      " The \\ antiderivative \\ of \\ 1 \\ is \\ u:\n",
      " = 8 u _{-\\frac{\\pi}{2}}^{\\frac{\\pi}{2}}\n",
      " Evaluate \\ the \\ antiderivative \\ at \\ the \\ limits \\ and \\ subtract.\n",
      " 8 u \\ right \\ bracketing \\ bar \\ (-\\pi/2)^{(\\pi/2)} = (8 \\pi)/2 - ((8 (-\\pi))/2) = 8 \\pi:\n",
      " Answer: = 8\\pi\n"
     ]
    }
   ],
   "source": [
    "if selection == \"yes\":\n",
    "    for line in latex_code:\n",
    "        print(line, end=\"\")"
   ]
  },
  {
   "cell_type": "code",
   "execution_count": 32,
   "metadata": {
    "scrolled": false
   },
   "outputs": [
    {
     "name": "stdout",
     "output_type": "stream",
     "text": [
      "Converting Latex to Maxnim Code\n",
      "Do you want to generate a graph for integral_(-4)^4 sqrt(16 - x^2) dx = 8 π≈25.133? yes/no\n",
      "no\n",
      "from manimlib.imports import *\n",
      "from math import *\n",
      "class Solution(GraphScene):\n",
      "\tdef construct(self):\n",
      "\t\twatermark = ImageMobject(\"./assets/water_mark.png\")\n",
      "\t\twatermark.scale(1.5)\n",
      "\t\twatermark.to_corner(DOWN+RIGHT, buff=0)\n",
      "\t\tself.play(FadeIn(watermark))\n",
      "\t\tSolve = TexMobject(r\" Compute \\ the \\ definite \\ integral:\")\n",
      "\t\tSolve.to_edge(UP)\n",
      "\t\tself.play(Write(Solve))\n",
      "\t\tself.wait(2)\n",
      "\t\tR0 = TexMobject(r\" \\int_{-4}^{4} \\sqrt{16 - x^{2}} dx\")\n",
      "\t\tR1 = TexMobject(r\" For \\ the \\ integrand \\ sqrt{16 - x^{2}}, \\ substitute \\ x = 4 \\sin(u) \\ and \\ dx = 4 \\cos(u) \\ du.\")\n",
      "\t\tR2 = TexMobject(r\" Then \\sqrt{16 - x^{2}} = \\sqrt{16 - 16 \\sin^2(u)} = 4 \\sqrt{ \\cos^2(u)}.\")\n",
      "\t\tR3 = TexMobject(r\" This \\ substitution \\ is \\ invertible \\ over \\ -\\frac{π}{2}<u<\\frac{π}{2} \\ with \\ inverse \\ u = \\sin^{-1}(x/4).\")\n",
      "\t\tR4 = TexMobject(r\" This \\ gives \\ a \\ new \\ lower \\ bound \\ u = \\sin^{-1}(-4/4) = -\\frac{\\pi}{2} \\ and \\ upper \\ bound \\ u = \\sin^{-1}(4/4) = \\frac{\\pi}{2}:\")\n",
      "\t\tR5 = TexMobject(r\" = 4 \\int_{-\\frac{\\pi}{2}}^{\\frac{\\pi}{2}} 4 \\cos(u) \\sqrt{\\cos^2(u)} du\")\n",
      "\t\tR6 = TexMobject(r\" Factor \\ out \\ constants:\")\n",
      "\t\tR7 = TexMobject(r\" = 16 \\int_{-\\frac{\\pi}{2}}^{\\frac{\\pi}{2}} \\cos(u) \\sqrt{\\cos^2(u)} du\")\n",
      "\t\tR8 = TexMobject(r\" Simplify \\ cos(u) \\sqrt{ \\cos^{2}(u)} \\ assuming \\ -\\frac{\\pi}{2}<u<\\frac{\\pi}{2}\")\n",
      "\t\tR9 = TexMobject(r\" = 16 \\int_{-\\frac{\\pi}{2}}^{\\frac{\\pi}{2}} \\cos^2(u) du\")\n",
      "\t\tR10 = TexMobject(r\" Write \\cos^{2}(u) \\ as \\ 1/2 \\cos(2 u) + 1/2:\")\n",
      "\t\tR11 = TexMobject(r\" = 16 \\int_{-\\frac{\\pi}{2}}^{\\frac{\\pi}{2}} (\\frac{1}{2} \\cos(2 u) + \\frac{1}{2}) du\")\n",
      "\t\tR12 = TexMobject(r\" Integrate \\ the \\ sum \\ term \\ by \\ term \\ and \\ factor \\ out \\ constants:\")\n",
      "\t\tR13 = TexMobject(r\" = 8 \\int_{-\\frac{\\pi}{2}}^{\\frac{\\pi}{2}} \\cos(2 u) du + 8 \\int_{-\\frac{\\pi}{2}}^{\\frac{\\pi}{2}} 1 du\")\n",
      "\t\tR14 = TexMobject(r\" For \\ the \\ integrand \\ cos(2 u), \\ substitute \\ s = 2 u \\ and \\ ds = 2 du.\")\n",
      "\t\tR15 = TexMobject(r\" This \\ gives \\ a \\ new \\ lower \\ bound \\ s = (-\\pi) / 2 = -\\pi \\ and \\ upper \\ bound \\ s = (\\pi) / 2 = \\pi:\")\n",
      "\t\tR16 = TexMobject(r\" = 4 \\int_{-\\pi}^{\\pi} \\cos(s) ds + 8 \\int_{-\\pi/2}^{\\pi/2} 1 du\")\n",
      "\t\tR17 = TexMobject(r\" Apply \\ the \\ fundamental \\ theorem \\ of \\ calculus.\")\n",
      "\t\tR18 = TexMobject(r\" The \\ antiderivative \\ of \\ cos(s) \\ is \\ sin(s):\")\n",
      "\t\tR19 = TexMobject(r\" = 4 \\sin(s) \\right \\bracketing \\bar _{(-\\pi)^\\pi + 8} \\int_{-\\pi/2}^{\\pi/2} 1 du\")\n",
      "\t\tR20 = TexMobject(r\" Evaluate \\ the \\ antiderivative \\ at \\ the \\ limits \\ and \\ subtract.\")\n",
      "\t\tR21 = TexMobject(r\" 4 \\sin(s) \\right \\bracketing \\ bar \\ (-\\pi)^\\pi = 4 \\sin(\\pi) - 4 \\sin(-\\pi) = 0:\")\n",
      "\t\tR22 = TexMobject(r\" = 8 \\int_{-\\frac{\\pi}{2}}^{\\frac{\\pi}{2}} 1 du\")\n",
      "\t\tR23 = TexMobject(r\" Apply \\ the \\ fundamental \\ theorem \\ of \\ calculus.\")\n",
      "\t\tR24 = TexMobject(r\" The \\ antiderivative \\ of \\ 1 \\ is \\ u:\")\n",
      "\t\tR25 = TexMobject(r\" = 8 u _{-\\frac{\\pi}{2}}^{\\frac{\\pi}{2}}\")\n",
      "\t\tR26 = TexMobject(r\" Evaluate \\ the \\ antiderivative \\ at \\ the \\ limits \\ and \\ subtract.\")\n",
      "\t\tR27 = TexMobject(r\" 8 u \\ right \\ bracketing \\ bar \\ (-\\pi/2)^{(\\pi/2)} = (8 \\pi)/2 - ((8 (-\\pi))/2) = 8 \\pi:\")\n",
      "\t\tR28 = TexMobject(r\" Answer: = 8\\pi\")\n",
      "\t\tR0.shift([0,0.7,0])\n",
      "\t\tself.play(Write(R0))\n",
      "\t\tself.wait(1)\n",
      "\t\tR1.next_to(R0, DOWN)\n",
      "\t\tself.play(Write(R1))\n",
      "\t\tself.wait(1)\n",
      "\t\tR2.next_to(R1, DOWN)\n",
      "\t\tself.play(Write(R2))\n",
      "\t\tself.wait(1)\n",
      "\t\tself.play(FadeOut(R0))\n",
      "\t\tself.play(ApplyMethod(R1.shift,[0,0.7,0]))\n",
      "\t\tself.play(ApplyMethod(R2.next_to,R1, DOWN))\n",
      "\t\tR3.next_to(R2, DOWN)\n",
      "\t\tself.play(Write(R3))\n",
      "\t\tself.play(FadeOut(R1))\n",
      "\t\tself.play(ApplyMethod(R2.shift,[0,0.7,0]))\n",
      "\t\tself.play(ApplyMethod(R3.next_to,R2, DOWN))\n",
      "\t\tR4.next_to(R3, DOWN)\n",
      "\t\tself.play(Write(R4))\n",
      "\t\tself.play(FadeOut(R2))\n",
      "\t\tself.play(ApplyMethod(R3.shift,[0,0.7,0]))\n",
      "\t\tself.play(ApplyMethod(R4.next_to,R3, DOWN))\n",
      "\t\tR5.next_to(R4, DOWN)\n",
      "\t\tself.play(Write(R5))\n",
      "\t\tself.play(FadeOut(R3))\n",
      "\t\tself.play(ApplyMethod(R4.shift,[0,0.7,0]))\n",
      "\t\tself.play(ApplyMethod(R5.next_to,R4, DOWN))\n",
      "\t\tR6.next_to(R5, DOWN)\n",
      "\t\tself.play(Write(R6))\n",
      "\t\tself.play(FadeOut(R4))\n",
      "\t\tself.play(ApplyMethod(R5.shift,[0,0.7,0]))\n",
      "\t\tself.play(ApplyMethod(R6.next_to,R5, DOWN))\n",
      "\t\tR7.next_to(R6, DOWN)\n",
      "\t\tself.play(Write(R7))\n",
      "\t\tself.play(FadeOut(R5))\n",
      "\t\tself.play(ApplyMethod(R6.shift,[0,0.7,0]))\n",
      "\t\tself.play(ApplyMethod(R7.next_to,R6, DOWN))\n",
      "\t\tR8.next_to(R7, DOWN)\n",
      "\t\tself.play(Write(R8))\n",
      "\t\tself.play(FadeOut(R6))\n",
      "\t\tself.play(ApplyMethod(R7.shift,[0,0.7,0]))\n",
      "\t\tself.play(ApplyMethod(R8.next_to,R7, DOWN))\n",
      "\t\tR9.next_to(R8, DOWN)\n",
      "\t\tself.play(Write(R9))\n",
      "\t\tself.play(FadeOut(R7))\n",
      "\t\tself.play(ApplyMethod(R8.shift,[0,0.7,0]))\n",
      "\t\tself.play(ApplyMethod(R9.next_to,R8, DOWN))\n",
      "\t\tR10.next_to(R9, DOWN)\n",
      "\t\tself.play(Write(R10))\n",
      "\t\tself.play(FadeOut(R8))\n",
      "\t\tself.play(ApplyMethod(R9.shift,[0,0.7,0]))\n",
      "\t\tself.play(ApplyMethod(R10.next_to,R9, DOWN))\n",
      "\t\tR11.next_to(R10, DOWN)\n",
      "\t\tself.play(Write(R11))\n",
      "\t\tself.play(FadeOut(R9))\n",
      "\t\tself.play(ApplyMethod(R10.shift,[0,0.7,0]))\n",
      "\t\tself.play(ApplyMethod(R11.next_to,R10, DOWN))\n",
      "\t\tR12.next_to(R11, DOWN)\n",
      "\t\tself.play(Write(R12))\n",
      "\t\tself.play(FadeOut(R10))\n",
      "\t\tself.play(ApplyMethod(R11.shift,[0,0.7,0]))\n",
      "\t\tself.play(ApplyMethod(R12.next_to,R11, DOWN))\n",
      "\t\tR13.next_to(R12, DOWN)\n",
      "\t\tself.play(Write(R13))\n",
      "\t\tself.play(FadeOut(R11))\n",
      "\t\tself.play(ApplyMethod(R12.shift,[0,0.7,0]))\n",
      "\t\tself.play(ApplyMethod(R13.next_to,R12, DOWN))\n",
      "\t\tR14.next_to(R13, DOWN)\n",
      "\t\tself.play(Write(R14))\n",
      "\t\tself.play(FadeOut(R12))\n",
      "\t\tself.play(ApplyMethod(R13.shift,[0,0.7,0]))\n",
      "\t\tself.play(ApplyMethod(R14.next_to,R13, DOWN))\n",
      "\t\tR15.next_to(R14, DOWN)\n",
      "\t\tself.play(Write(R15))\n",
      "\t\tself.play(FadeOut(R13))\n",
      "\t\tself.play(ApplyMethod(R14.shift,[0,0.7,0]))\n",
      "\t\tself.play(ApplyMethod(R15.next_to,R14, DOWN))\n",
      "\t\tR16.next_to(R15, DOWN)\n",
      "\t\tself.play(Write(R16))\n",
      "\t\tself.play(FadeOut(R14))\n",
      "\t\tself.play(ApplyMethod(R15.shift,[0,0.7,0]))\n",
      "\t\tself.play(ApplyMethod(R16.next_to,R15, DOWN))\n",
      "\t\tR17.next_to(R16, DOWN)\n",
      "\t\tself.play(Write(R17))\n",
      "\t\tself.play(FadeOut(R15))\n",
      "\t\tself.play(ApplyMethod(R16.shift,[0,0.7,0]))\n",
      "\t\tself.play(ApplyMethod(R17.next_to,R16, DOWN))\n",
      "\t\tR18.next_to(R17, DOWN)\n",
      "\t\tself.play(Write(R18))\n",
      "\t\tself.play(FadeOut(R16))\n",
      "\t\tself.play(ApplyMethod(R17.shift,[0,0.7,0]))\n",
      "\t\tself.play(ApplyMethod(R18.next_to,R17, DOWN))\n",
      "\t\tR19.next_to(R18, DOWN)\n",
      "\t\tself.play(Write(R19))\n",
      "\t\tself.play(FadeOut(R17))\n",
      "\t\tself.play(ApplyMethod(R18.shift,[0,0.7,0]))\n",
      "\t\tself.play(ApplyMethod(R19.next_to,R18, DOWN))\n",
      "\t\tR20.next_to(R19, DOWN)\n",
      "\t\tself.play(Write(R20))\n",
      "\t\tself.play(FadeOut(R18))\n",
      "\t\tself.play(ApplyMethod(R19.shift,[0,0.7,0]))\n",
      "\t\tself.play(ApplyMethod(R20.next_to,R19, DOWN))\n",
      "\t\tR21.next_to(R20, DOWN)\n",
      "\t\tself.play(Write(R21))\n",
      "\t\tself.play(FadeOut(R19))\n",
      "\t\tself.play(ApplyMethod(R20.shift,[0,0.7,0]))\n",
      "\t\tself.play(ApplyMethod(R21.next_to,R20, DOWN))\n",
      "\t\tR22.next_to(R21, DOWN)\n",
      "\t\tself.play(Write(R22))\n",
      "\t\tself.play(FadeOut(R20))\n",
      "\t\tself.play(ApplyMethod(R21.shift,[0,0.7,0]))\n",
      "\t\tself.play(ApplyMethod(R22.next_to,R21, DOWN))\n",
      "\t\tR23.next_to(R22, DOWN)\n",
      "\t\tself.play(Write(R23))\n",
      "\t\tself.play(FadeOut(R21))\n",
      "\t\tself.play(ApplyMethod(R22.shift,[0,0.7,0]))\n",
      "\t\tself.play(ApplyMethod(R23.next_to,R22, DOWN))\n",
      "\t\tR24.next_to(R23, DOWN)\n",
      "\t\tself.play(Write(R24))\n",
      "\t\tself.play(FadeOut(R22))\n",
      "\t\tself.play(ApplyMethod(R23.shift,[0,0.7,0]))\n",
      "\t\tself.play(ApplyMethod(R24.next_to,R23, DOWN))\n",
      "\t\tR25.next_to(R24, DOWN)\n",
      "\t\tself.play(Write(R25))\n",
      "\t\tself.play(FadeOut(R23))\n",
      "\t\tself.play(ApplyMethod(R24.shift,[0,0.7,0]))\n",
      "\t\tself.play(ApplyMethod(R25.next_to,R24, DOWN))\n",
      "\t\tR26.next_to(R25, DOWN)\n",
      "\t\tself.play(Write(R26))\n",
      "\t\tself.play(FadeOut(R24))\n",
      "\t\tself.play(ApplyMethod(R25.shift,[0,0.7,0]))\n",
      "\t\tself.play(ApplyMethod(R26.next_to,R25, DOWN))\n",
      "\t\tR27.next_to(R26, DOWN)\n",
      "\t\tself.play(Write(R27))\n",
      "\t\tself.play(FadeOut(R25))\n",
      "\t\tself.play(ApplyMethod(R26.shift,[0,0.7,0]))\n",
      "\t\tself.play(ApplyMethod(R27.next_to,R26, DOWN))\n",
      "\t\tR28.next_to(R27, DOWN)\n",
      "\t\tself.play(Write(R28))\n",
      "\t\tself.play(FadeOut(R28))\n",
      "\t\tself.play(FadeOut(R27))\n",
      "\t\tself.play(FadeOut(R26))\n",
      "\t\tself.play(FadeOut(Solve))\n",
      "\t\t\n",
      "Manim Code Generated\n"
     ]
    }
   ],
   "source": [
    "from app import latex2Manim\n",
    "import importlib\n",
    "importlib.reload(latex2Manim)\n",
    "print(\"Converting Latex to Maxnim Code\")\n",
    "manim_code = latex2Manim.latex2Manim(latex_code,Query ,python_func)\n",
    "if selection == \"yes\":\n",
    "    print(manim_code)\n",
    "print(\"Manim Code Generated\")"
   ]
  },
  {
   "cell_type": "code",
   "execution_count": 33,
   "metadata": {},
   "outputs": [
    {
     "name": "stdout",
     "output_type": "stream",
     "text": [
      "Manim Code saved at ./solution.py\n"
     ]
    }
   ],
   "source": [
    "fptr =  open(\"solution.py\", \"w\") \n",
    "fptr.write(manim_code)\n",
    "fptr.close()\n",
    "print(\"Manim Code saved at ./solution.py\")"
   ]
  },
  {
   "cell_type": "code",
   "execution_count": 35,
   "metadata": {},
   "outputs": [
    {
     "name": "stdout",
     "output_type": "stream",
     "text": [
      "Media will be written to ./Animations/. You can change this behavior with the --media_dir flag.\n",
      "Writing \"This \\ substitution \\ is \\ invertible \\ over \\ - \\frac{π}{2}<u<\\frac{π}{2} \\ with \\ inverse \\ u = \\sin^{-1}(x/4).\" to ./Animations/Tex/36a9c53e265450c6.tex\n",
      "\n",
      "\n",
      "\n",
      "Traceback (most recent call last):\n",
      "  File \"/home/mrselukar/miniconda3/lib/python3.8/site-packages/manimlib/extract_scene.py\", line 155, in main\n",
      "    scene = SceneClass(**scene_kwargs)\n",
      "  File \"/home/mrselukar/miniconda3/lib/python3.8/site-packages/manimlib/scene/scene.py\", line 75, in __init__\n",
      "    self.construct()\n",
      "  File \"solution.py\", line 16, in construct\n",
      "    R3 = TexMobject(r\" This \\ substitution \\ is \\ invertible \\ over \\ - \\frac{π}{2}<u<\\frac{π}{2} \\ with \\ inverse \\ u = \\sin^{-1}(x/4).\")\n",
      "  File \"/home/mrselukar/miniconda3/lib/python3.8/site-packages/manimlib/mobject/svg/tex_mobject.py\", line 147, in __init__\n",
      "    SingleStringTexMobject.__init__(\n",
      "  File \"/home/mrselukar/miniconda3/lib/python3.8/site-packages/manimlib/mobject/svg/tex_mobject.py\", line 42, in __init__\n",
      "    file_name = tex_to_svg_file(\n",
      "  File \"/home/mrselukar/miniconda3/lib/python3.8/site-packages/manimlib/utils/tex_file_writing.py\", line 21, in tex_to_svg_file\n",
      "    dvi_file = tex_to_dvi(tex_file)\n",
      "  File \"/home/mrselukar/miniconda3/lib/python3.8/site-packages/manimlib/utils/tex_file_writing.py\", line 69, in tex_to_dvi\n",
      "    raise Exception(\n",
      "Exception: Latex error converting to dvi. See log output above or the log file: Animations/Tex/36a9c53e265450c6.log\n",
      "\n",
      "\n",
      "\n"
     ]
    }
   ],
   "source": [
    "!manim solution.py Solution -pl --media_dir \"./Animations\""
   ]
  },
  {
   "cell_type": "code",
   "execution_count": 13,
   "metadata": {},
   "outputs": [
    {
     "name": "stdout",
     "output_type": "stream",
     "text": [
      "Starting to Animate\n",
      "Animation Error Check Manim Logs!!\n"
     ]
    }
   ],
   "source": [
    "import os\n",
    "print(\"Starting to Animate\")\n",
    "retval = os.system('manim solution.py Solution -pl --media_dir \"./Animations\"')\n",
    "if retval == 0:\n",
    "    print(\"Animation Completed check ./Animations/video for output\")\n",
    "else:\n",
    "    print(\"Animation Error Check Manim Logs!!\")"
   ]
  },
  {
   "cell_type": "code",
   "execution_count": 14,
   "metadata": {},
   "outputs": [
    {
     "data": {
      "text/plain": [
       "'\\n# Script to find and replace spaces with \" / \" in files \\ntarget_names = [item for item in sorted(glob(\"./Training_Example/latex/*\"))]\\nretval = \"\"\\nfor path_to_file in target_names:\\n    print(path_to_file)\\n    temp = input()\\n    if temp == \"yes\":\\n\\n        file = open(path_to_file)\\n        retval = file.readlines()\\n        file.close()\\n        for i in range(len(retval)):\\n            print(retval[i])\\n            x = input()\\n            if x != \\'0\\':\\n                retval[i] = retval[i].replace(\" \", \" \\\\ \")\\n        retval = [x.split(\"/n\")[0][:-1] for x in retval]\\n    #print(retval)\\n\\n'"
      ]
     },
     "execution_count": 14,
     "metadata": {},
     "output_type": "execute_result"
    }
   ],
   "source": [
    "\"\"\"\n",
    "# Script to find and replace spaces with \" / \" in files \n",
    "target_names = [item for item in sorted(glob(\"./Training_Example/latex/*\"))]\n",
    "retval = \"\"\n",
    "for path_to_file in target_names:\n",
    "    print(path_to_file)\n",
    "    temp = input()\n",
    "    if temp == \"yes\":\n",
    "\n",
    "        file = open(path_to_file)\n",
    "        retval = file.readlines()\n",
    "        file.close()\n",
    "        for i in range(len(retval)):\n",
    "            print(retval[i])\n",
    "            x = input()\n",
    "            if x != '0':\n",
    "                retval[i] = retval[i].replace(\" \", \" \\ \")\n",
    "        retval = [x.split(\"/n\")[0][:-1] for x in retval]\n",
    "    #print(retval)\n",
    "\n",
    "\"\"\""
   ]
  },
  {
   "cell_type": "code",
   "execution_count": 15,
   "metadata": {},
   "outputs": [
    {
     "data": {
      "text/plain": [
       "'for l in retval:\\n    print (l)'"
      ]
     },
     "execution_count": 15,
     "metadata": {},
     "output_type": "execute_result"
    }
   ],
   "source": [
    "\"\"\"for l in retval:\n",
    "    print (l)\"\"\""
   ]
  },
  {
   "cell_type": "code",
   "execution_count": 16,
   "metadata": {},
   "outputs": [],
   "source": [
    "def func(x_in):\n",
    "\t\tf = lambda x : eval(x_in)\n",
    "\t\treturn f"
   ]
  },
  {
   "cell_type": "code",
   "execution_count": 17,
   "metadata": {},
   "outputs": [],
   "source": [
    "a = func('x**2')"
   ]
  },
  {
   "cell_type": "code",
   "execution_count": 18,
   "metadata": {},
   "outputs": [
    {
     "data": {
      "text/plain": [
       "[0, 1, 4, 9, 16]"
      ]
     },
     "execution_count": 18,
     "metadata": {},
     "output_type": "execute_result"
    }
   ],
   "source": [
    "[a(i) for i in range(5)]"
   ]
  },
  {
   "cell_type": "code",
   "execution_count": null,
   "metadata": {},
   "outputs": [],
   "source": []
  }
 ],
 "metadata": {
  "kernelspec": {
   "display_name": "Python 3",
   "language": "python",
   "name": "python3"
  },
  "language_info": {
   "codemirror_mode": {
    "name": "ipython",
    "version": 3
   },
   "file_extension": ".py",
   "mimetype": "text/x-python",
   "name": "python",
   "nbconvert_exporter": "python",
   "pygments_lexer": "ipython3",
   "version": "3.8.3"
  }
 },
 "nbformat": 4,
 "nbformat_minor": 4
}
