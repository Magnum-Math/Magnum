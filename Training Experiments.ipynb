{
 "cells": [
  {
   "cell_type": "code",
   "execution_count": 51,
   "metadata": {},
   "outputs": [],
   "source": [
    "import openai\n",
    "openai.api_key = \"sk-Qgz3rmm3AbTBIwPjA0voHN3llTPWlsBPsNc8fUAd\""
   ]
  },
  {
   "cell_type": "code",
   "execution_count": 52,
   "metadata": {},
   "outputs": [
    {
     "name": "stdout",
     "output_type": "stream",
     "text": [
      "Source:  Question == solve y\" + y = 0\n",
      "Output:  Question \\ == \\ solve \\ y\" \\ + \\ y \\ = \\ 0\n",
      "----\n",
      "Source:  Input,  :=: \n",
      "Output:  Input, \\ :=: \\ \n",
      "----\n",
      "Source:  solve y''(x) + y(x) = 0\n",
      "Output:  solve \\ y''\\left(x\\right) \\ + \\ y\\left(x\\right) \\ = \\ 0\n",
      "----\n",
      "Source:  Result,  :=: \n",
      "Output:  Result, \\ :=: \\ \n",
      "----\n",
      "Source:  y(x) = c_2 sin(x) + c_1 cos(x)\n",
      "Output:  y\\left(x\\right) = c_2 \\sin\\left(x\\right) + c_1 cos\\left(x\\right)\n",
      "----\n",
      "Source:  Result, Possible intermediate steps :=: \n",
      "Output:  Result, \\ Possible \\ intermediate \\ steps \\ :=: \\ \n",
      "----\n",
      "Source:  Solve ( d^2 y(x))/( dx^2) + y(x) = 0:\n",
      "Output:  Solve \\ \\frac{d^2 \\ y\\left(x\\right)}{dx^2} \\ + \\ y\\left(x\\right) \\ = \\ 0:\n",
      "----\n",
      "Source:  Assume a solution will be proportional to e^(λ x) for some constant λ.\n",
      "Output:  Assume \\ a \\ solution \\ will \\ be \\ proportional \\ to \\ e^\\left(\\lambda \\ x\\right) \\ for \\ some \\ constant \\ \\lambda.\n",
      "----\n",
      "Source:  Substitute y(x) = e^(λ x) into the differential equation:\n",
      "Output:  Substitute \\ y\\left(x\\right) \\ = \\ e^\\left(\\lambda \\ x\\right) \\ into \\ the \\ differential \\ equation:\n",
      "----\n",
      "Source:  ( d^2 )/( dx^2)(e^(λ x)) + e^(λ x) = 0\n",
      "Output:  \\frac{d^2 \\left(e^\\left(\\lambda x\\right)\\right)}{dx^2} + e^\\left(\\lambda x\\right) = 0\n",
      "----\n",
      "Source:  The roots λ = ± i give y_1(x) = c_1 e^(i x), y_2(x) = c_2 e^(-i x) as solutions, where c_1 and c_2 are arbitrary constants.\n",
      "Output:  Substitute \\ \\frac{d^2 \\ \\left(e^\\left(\\lambda \\ x\\right)\\right)}{dx^2} \\ = \\ \\lambda^2 \\ e^\\left(\\lambda \\ x\\right):\n",
      "----\n",
      "Source:  The general solution is the sum of the above solutions:\n",
      "Output:  The \\ roots \\ \\lambda \\ = \\ \\pm \\ \\iota \\ give \\ y_1\\left(x\\right) \\ = \\ c_1 \\ e^\\left(\\iota \\ x\\right), \\ y_2\\left(x\\right) \\ = \\ c_2 \\ e^\\left(-\\iota \\ x\\right) \\ as \\ solutions, \\ where \\ c_1 \\ and \\ c_2 \\ are \\ arbitrary \\ constants.\n",
      "----\n",
      "Source:  y(x) = y_1(x) + y_2(x) = c_1 e^(i x) + c_2 e^(-i x)\n",
      "Output:  The \\ general \\ solution \\ is \\ the \\ sum \\ of \\ the \\ above \\ solutions:\n",
      "----\n",
      "Source:  Apply Euler's identity e^(α + i β) = e^α cos(β) + i e^α sin(β):\n",
      "Output:  y\\left(x\\right) = y_1\\left(x\\right) + y_2\\left(x\\right) = c_1 e^\\left(\\iota x\\right) + c_2 e^\\left(-\\iota x\\right)\n",
      "----\n",
      "Source:  y(x) = c_1 (cos(x) + i sin(x)) + c_2 (cos(x) - i sin(x))\n",
      "Output:  Apply \\ Euler's \\ identity \\ e^\\left(α \\ + \\ \\iota \\ β\\right) \\ = \\ e^α \\ cos\\left(β\\right) \\ + \\ \\iota \\ e^α \\ \\sin\\left(β\\right):\n",
      "----\n",
      "Source:  Regroup terms:\n",
      "Output:  y\\left(x\\right) = c_1 \\left(cos\\left(x\\right) + \\iota \\ sin\\left(x\\right)\\right) + c_2 \\left(cos\\left(x\\right) - \\iota \\ sin\\left(x\\right)\\right)\n",
      "----\n",
      "Source:  y(x) = (c_1 + c_2) cos(x) + i (c_1 - c_2) sin(x)\n",
      "Output:  Regroup \\ terms:\n",
      "----\n",
      "Source:  Input,  :=: \n",
      "Output:  y\\left(x\\right) = \\left(c_1 + c_2\\right) \\ cos\\left(x\\right) + \\iota \\left(c_1 - c_2\\right)\\ \\sin\\left(x\\right)\n",
      "----\n",
      "Source:  solve x^2 + 9 = 12\n",
      "Output:  Solve \\ x^{2} + 9 = 12\n",
      "----\n",
      "Source:  Result,  :=: x = ± sqrt(3)\n",
      "Output:  Result \\ :=: \\ x = \\pm 3\n",
      "----\n",
      "Source:  Result, Possible intermediate steps :=: \n",
      "Output:  Result, \\ Possible \\ intermediate \\ steps \\ :=: \n",
      "----\n",
      "Source:  Solve for x:\n",
      "Output:  Solve \\ for \\ x:\n",
      "----\n",
      "Source:  x + 9 = 12\n",
      "Output:  x + 9 = 12\n",
      "----\n",
      "Source:  Answer: x = sqrt(3) or x = -sqrt(3)\n",
      "Output:  Answer \\ : x = -\\sqrt{3} \\ or +\\sqrt{3}\n",
      "----\n",
      "\n"
     ]
    }
   ],
   "source": [
    "import os\n",
    "import sys\n",
    "sys.path.append(os.getcwd())\n",
    "\n",
    "from api import GPT, Example, UIConfig\n",
    "from api import demo_web_app\n",
    "from glob import glob\n",
    "def read_file(path_to_file):\n",
    "\tretval = \"\"\n",
    "\tfile = open(path_to_file)\n",
    "\tretval = file.readlines()\n",
    "\tfile.close()\n",
    "\t#print(retval)\n",
    "\t#MAke sure the new line character is not read it throws the model off     \n",
    "\tretval = [x.split(\"/n\")[0][:-1] for x in retval]\n",
    "\t#print(retval)\n",
    "\treturn retval\n",
    "\n",
    "#\"\"\"\n",
    "# Construct GPT object and show some examples\n",
    "gpt = GPT(engine=\"curie\",\n",
    "          temperature=0.3,\n",
    "          max_tokens=300)\n",
    "#\"\"\"\n",
    "\n",
    "# reade file and convert it to source string and target string tuples\n",
    "source_names = [item for item in sorted(glob(\"./Training_Example/sources/*\"))]\n",
    "target_names = [item for item in sorted(glob(\"./Training_Example/latex/*\"))]\n",
    "\n",
    "#print(source_names)\n",
    "\n",
    "# open each file in the Training_Example directory\n",
    "for src_path, target_path in zip(source_names,target_names):\n",
    "\t\n",
    "\t# For each files read the RAW and corrosponding Latex Code\n",
    "\tsrc_RAW = read_file(src_path)\n",
    "\ttarget_RAW = read_file(target_path)\n",
    "\t\n",
    "    # for each pair of RAW and latex prime the GPT model\n",
    "\tif len(src_RAW) != len(target_RAW):\n",
    "\t\traise Exception(\"Source and Latex have mismached number of line {} {} in file {} and {}\".format(str(len(src_RAW)), str(len(target_RAW)),src_path,target_path))\n",
    "\t\t\n",
    "\tfor s_RAW, t_RAW in zip(src_RAW,target_RAW):\n",
    "\t\tgpt.add_example(Example(s_RAW,t_RAW))\n",
    "\t\t\n",
    "\t\tprint(\"Source: \", s_RAW)\n",
    "\t\tprint(\"Output: \", t_RAW)\n",
    "\t\tprint(\"----\")\n",
    "\t\t\n",
    "\n",
    "\"\"\"\n",
    "# Define UI configuration\n",
    "config = UIConfig(description=\"Text to Manim Class\",\n",
    "                  button_text=\"Convert\",\n",
    "                  placeholder=\"Type Raw Text here\")\n",
    "\n",
    "demo_web_app(gpt, config)\n",
    "\"\"\"\n",
    "print(\"\")"
   ]
  },
  {
   "cell_type": "code",
   "execution_count": 53,
   "metadata": {},
   "outputs": [
    {
     "name": "stdout",
     "output_type": "stream",
     "text": [
      "Prompt:  solve x + 7 = -11\n",
      "output: solve \\ x + 7 = -11\n",
      "\n",
      "----Prompt:  Result,  :=: \n",
      "output: Result, \\ :=: \\ \n",
      "\n",
      "----Prompt:  x = -18\n",
      "output: x = -18\n",
      "\n",
      "----Prompt:  Result, Possible intermediate steps :=: Solve for x:\n",
      "output: Result, \\ Possible \\ intermediate \\ steps \\ :=: Solve \\ for \\ x:\n",
      "\n",
      "----Prompt:  x + 7 = -11\n",
      "output: x + 7 = -11\n",
      "\n",
      "----Prompt:  Subtract 7 from both sides:\n",
      "output: Subtract \\ 7 \\ from \\ both \\ sides:\n",
      "\n",
      "----Prompt:  x + (7 - 7) = -11 - 7\n",
      "output: x + (7 - 7) = -11 - 7\n",
      "\n",
      "----Prompt:  7 - 7 = 0:\n",
      "output: 7 - 7 = 0:\n",
      "\n",
      "----Prompt:  x = -11 - 7\n",
      "output: x = -11 - 7\n",
      "\n",
      "----Prompt:  -11 - 7 = -18:\n",
      "output: -11 - 7 = -18\n",
      "\n",
      "----Prompt:  Answer: |  | x = -1\n",
      "output: Answer \\ : | \\ | x = -1\n",
      "\n",
      "----"
     ]
    }
   ],
   "source": [
    "## Testing Script\n",
    "testFiles = [item for item in sorted(glob(\"./Training_Example/Test/*\"))]\n",
    "for file in testFiles:\n",
    "    test_RAW = read_file(file)\n",
    "    response = []\n",
    "    for line in test_RAW:\n",
    "        print(\"Prompt: \", line)\n",
    "        t = gpt.get_top_reply(line)\n",
    "        print(t,end=\"----\")\n",
    "        response.append(t)\n"
   ]
  },
  {
   "cell_type": "code",
   "execution_count": null,
   "metadata": {},
   "outputs": [],
   "source": []
  },
  {
   "cell_type": "code",
   "execution_count": 57,
   "metadata": {},
   "outputs": [],
   "source": [
    "latex_code = []\n",
    "for line in response:\n",
    "    latex_code.append(line.split(\"\\n\")[0][7:] + \"\\n\")"
   ]
  },
  {
   "cell_type": "code",
   "execution_count": 58,
   "metadata": {},
   "outputs": [
    {
     "data": {
      "text/plain": [
       "0"
      ]
     },
     "execution_count": 58,
     "metadata": {},
     "output_type": "execute_result"
    }
   ],
   "source": [
    "import os \n",
    "os.system('export PATH=$PATH:/home/mrselukar/manim/manim')"
   ]
  },
  {
   "cell_type": "code",
   "execution_count": 59,
   "metadata": {},
   "outputs": [
    {
     "name": "stdout",
     "output_type": "stream",
     "text": [
      " solve \\ x + 7 = -11\n",
      " Result, \\ :=: \\ \n",
      " x = -18\n",
      " Result, \\ Possible \\ intermediate \\ steps \\ :=: Solve \\ for \\ x:\n",
      " x + 7 = -11\n",
      " Subtract \\ 7 \\ from \\ both \\ sides:\n",
      " x + (7 - 7) = -11 - 7\n",
      " 7 - 7 = 0:\n",
      " x = -11 - 7\n",
      " -11 - 7 = -18\n",
      " Answer \\ : | \\ | x = -1\n"
     ]
    }
   ],
   "source": [
    "for line in latex_code:\n",
    "    print(line, end=\"\")"
   ]
  },
  {
   "cell_type": "code",
   "execution_count": 60,
   "metadata": {},
   "outputs": [
    {
     "name": "stdout",
     "output_type": "stream",
     "text": [
      "from manimlib.imports import *\n",
      "class Solution(Scene):\n",
      "\tdef construct(self):\n",
      "\t\tSolve = TexMobject(r\" solve \\ x + 7 = -11\")\n",
      "\t\tSolve.to_edge(UP)\n",
      "\t\tself.play(Write(Solve))\n",
      "\t\tself.wait(2)\n",
      "\t\tR0 = TexMobject(r\" Result, \\ :=: \\ \")\n",
      "\t\tself.play(Write(R0))\n",
      "\t\tself.wait(2)\n",
      "\t\tR1 = TexMobject(r\" x = -18\")\n",
      "\t\tself.play(Transform(R0,R1))\n",
      "\t\tself.wait(2)\n",
      "\t\tR1 = TexMobject(r\" Result, \\ Possible \\ intermediate \\ steps \\ :=: Solve \\ for \\ x:\")\n",
      "\t\tself.play(Transform(R0,R1))\n",
      "\t\tself.wait(2)\n",
      "\t\tR1 = TexMobject(r\" x + 7 = -11\")\n",
      "\t\tself.play(Transform(R0,R1))\n",
      "\t\tself.wait(2)\n",
      "\t\tR1 = TexMobject(r\" Subtract \\ 7 \\ from \\ both \\ sides:\")\n",
      "\t\tself.play(Transform(R0,R1))\n",
      "\t\tself.wait(2)\n",
      "\t\tR1 = TexMobject(r\" x + (7 - 7) = -11 - 7\")\n",
      "\t\tself.play(Transform(R0,R1))\n",
      "\t\tself.wait(2)\n",
      "\t\tR1 = TexMobject(r\" 7 - 7 = 0:\")\n",
      "\t\tself.play(Transform(R0,R1))\n",
      "\t\tself.wait(2)\n",
      "\t\tR1 = TexMobject(r\" x = -11 - 7\")\n",
      "\t\tself.play(Transform(R0,R1))\n",
      "\t\tself.wait(2)\n",
      "\t\tR1 = TexMobject(r\" -11 - 7 = -18\")\n",
      "\t\tself.play(Transform(R0,R1))\n",
      "\t\tself.wait(2)\n",
      "\t\tR1 = TexMobject(r\" Answer \\ : | \\ | x = -1\")\n",
      "\t\tself.play(Transform(R0,R1))\n",
      "\t\tself.wait(2)\n",
      "\t\tself.play(FadeOut(R0))\n"
     ]
    }
   ],
   "source": [
    "from app import latex2Manim\n",
    "manim_code = latex2Manim.latex2Manim(latex_code)\n",
    "print(manim_code)"
   ]
  },
  {
   "cell_type": "code",
   "execution_count": 61,
   "metadata": {},
   "outputs": [],
   "source": [
    "fptr =  open(\"solution.py\", \"w\") \n",
    "fptr.write(manim_code)\n",
    "fptr.close()"
   ]
  },
  {
   "cell_type": "code",
   "execution_count": 62,
   "metadata": {},
   "outputs": [
    {
     "name": "stdout",
     "output_type": "stream",
     "text": [
      "Media will be written to ./media/. You can change this behavior with the --media_dir flag.\n",
      "Writing \"solve \\ x + 7 = -11\" to ./media/Tex/35d2bee847be1d56.tex\n",
      "Writing \"Result, \\ :=: \\\" to ./media/Tex/703be77269f65369.tex                   \n",
      "Writing \"x = -18\" to ./media/Tex/d6aefd68dfe210c9.tex                           \n",
      "Writing \"Result, \\ Possible \\ intermediate \\ steps \\ :=: Solve \\ for \\ x:\" to ./media/Tex/69ce300714c92ba6.tex\n",
      "Writing \"x + 7 = -11\" to ./media/Tex/f8eda7401402683a.tex                       \n",
      "Writing \"Subtract \\ 7 \\ from \\ both \\ sides:\" to ./media/Tex/668aa58c264deea0.tex\n",
      "Writing \"x + (7 - 7) = -11 - 7\" to ./media/Tex/355718587f721450.tex             \n",
      "Writing \"7 - 7 = 0:\" to ./media/Tex/dcb2f0a589dec4e2.tex                        \n",
      "Writing \"x = -11 - 7\" to ./media/Tex/77dfad41d1288472.tex                       \n",
      "Writing \"-11 - 7 = -18\" to ./media/Tex/5812dff072ddf406.tex                     \n",
      "Writing \"Answer \\ : | \\ | x = -1\" to ./media/Tex/f8de35e6f4057b8f.tex           \n",
      "                                                                                \n",
      "File ready at /home/mrselukar/manim/gpt-sandbox-cloned/media/videos/solution/480p15/Solution.mp4\n",
      "\n",
      "Played 23 animations\n"
     ]
    }
   ],
   "source": [
    "!python3 /home/mrselukar/manim/manim/manim.py solution.py Solution -pl"
   ]
  },
  {
   "cell_type": "code",
   "execution_count": null,
   "metadata": {},
   "outputs": [],
   "source": []
  },
  {
   "cell_type": "code",
   "execution_count": null,
   "metadata": {},
   "outputs": [],
   "source": []
  },
  {
   "cell_type": "code",
   "execution_count": null,
   "metadata": {},
   "outputs": [],
   "source": []
  },
  {
   "cell_type": "code",
   "execution_count": null,
   "metadata": {},
   "outputs": [],
   "source": []
  },
  {
   "cell_type": "code",
   "execution_count": null,
   "metadata": {},
   "outputs": [],
   "source": []
  },
  {
   "cell_type": "code",
   "execution_count": null,
   "metadata": {},
   "outputs": [],
   "source": []
  },
  {
   "cell_type": "code",
   "execution_count": null,
   "metadata": {},
   "outputs": [],
   "source": []
  },
  {
   "cell_type": "code",
   "execution_count": null,
   "metadata": {},
   "outputs": [],
   "source": [
    "\"\"\"target_names = [item for item in sorted(glob(\"./Training_Example/latex/*\"))]\n",
    "retval = \"\"\n",
    "for path_to_file in target_names:\n",
    "    print(path_to_file)\n",
    "    temp = input()\n",
    "    if temp == \"yes\":\n",
    "\n",
    "        file = open(path_to_file)\n",
    "        retval = file.readlines()\n",
    "        file.close()\n",
    "        for i in range(len(retval)):\n",
    "            print(retval[i])\n",
    "            x = input()\n",
    "            if x != '0':\n",
    "                retval[i] = retval[i].replace(\" \", \" \\ \")\n",
    "        retval = [x.split(\"/n\")[0][:-1] for x in retval]\n",
    "    #print(retval)\n",
    "\n",
    "\"\"\""
   ]
  },
  {
   "cell_type": "code",
   "execution_count": null,
   "metadata": {},
   "outputs": [],
   "source": [
    "\"\"\"for l in retval:\n",
    "    print (l)\"\"\""
   ]
  },
  {
   "cell_type": "code",
   "execution_count": null,
   "metadata": {},
   "outputs": [],
   "source": []
  }
 ],
 "metadata": {
  "kernelspec": {
   "display_name": "Python 3",
   "language": "python",
   "name": "python3"
  },
  "language_info": {
   "codemirror_mode": {
    "name": "ipython",
    "version": 3
   },
   "file_extension": ".py",
   "mimetype": "text/x-python",
   "name": "python",
   "nbconvert_exporter": "python",
   "pygments_lexer": "ipython3",
   "version": "3.8.3"
  }
 },
 "nbformat": 4,
 "nbformat_minor": 4
}
