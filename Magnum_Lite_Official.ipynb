{
  "nbformat": 4,
  "nbformat_minor": 0,
  "metadata": {
    "colab": {
      "name": "Magnum Lite Official.ipynb",
      "private_outputs": true,
      "provenance": [],
      "collapsed_sections": [],
      "toc_visible": true
    },
    "kernelspec": {
      "name": "python3",
      "display_name": "Python 3"
    },
    "accelerator": "GPU"
  },
  "cells": [
    {
      "cell_type": "markdown",
      "metadata": {
        "id": "VrR2S2F2PO7B"
      },
      "source": [
        "# Magnum Lite Official Playground\n",
        "\n",
        "\n",
        "![Manim Logo](https://img.techpowerup.org/200811/magnum-2-1.png)\n",
        "\n",
        "\n",
        "\n",
        "\n",
        "\n",
        "---\n",
        "\n"
      ]
    },
    {
      "cell_type": "markdown",
      "metadata": {
        "id": "EdAKBO2xPOkt"
      },
      "source": [
        "Welcome to the guided tutorial for Magnum Lite! This is the official playground where you can connect to a cloud instance and run Magnum right from your Browser!\n",
        "\n",
        "Before we begin to install Magnum here, please have a look at the [Magnum website](https://magnum.shreenabh.com) where you can find all related documentation and  lot of information about Magnum. There is also a FULL version of Magnum (all information and comparison with Magnum Lite on the [Magnum website](https://magnum.shreenabh.com)'s \"[Getting Started](https://magnum.shreenabh.com/benefits/getting-started)\" page ).\n",
        "\n",
        "If you are here, we assume you have read the differences between Magnum and Magnum Lite and have chosen this to be the better option for you.\n",
        "\n",
        "---\n",
        "\n"
      ]
    },
    {
      "cell_type": "markdown",
      "metadata": {
        "id": "NYxGIst4Sjm2"
      },
      "source": [
        "## Setting up and installation\n",
        "\n",
        "The aim of this section is to connect to a cloud instance, install all dependencies correctly and set up Magnum here.\n",
        " So let's get started!\n",
        "\n",
        "---\n",
        "\n",
        "#####**Heads up!**: If you are willing to generate a high quality render of your animation (1440p, 60 fps to be precise- defaults are 480p and 15 fps), you should switch to a GPU hardware accelerator right away before you execute any cell. You can do this on the top bar from Runtime > Change Runtime Type > Hardware Accelerator > GPU.\n",
        "\n",
        "---\n"
      ]
    },
    {
      "cell_type": "markdown",
      "metadata": {
        "id": "wT-Lt952S_73"
      },
      "source": [
        "First of all, let's install the libraries. Just click on the square brackets (which turns to a play button) on the left side of each box to execute it.\n",
        "\n",
        "Please note that it will take sometime to start up because a cloud instance needs to be allocated. Also, this is a BIG install and your first code block, so just sit back and relax."
      ]
    },
    {
      "cell_type": "code",
      "metadata": {
        "id": "Dl7IPV3ZS_B6"
      },
      "source": [
        "!sudo apt-get update\n",
        "!sudo apt-get install texlive-full\n",
        "!apt-get install pkg-config libcairo2-dev\n",
        "!pip3 install jupyter-manim"
      ],
      "execution_count": null,
      "outputs": []
    },
    {
      "cell_type": "markdown",
      "metadata": {
        "id": "Le5__ZJNVNp9"
      },
      "source": [
        "Now, if the status button has stopped spinning and you see a [1] on the left side of the above cell, we are good to go.\n",
        "\n",
        "The next cell will install \"Magnum\" from [our GitHub repository](https://github.com/Magnum-Math/Magnum). Just execute it.\n"
      ]
    },
    {
      "cell_type": "code",
      "metadata": {
        "id": "Du2DBLVKS6AE"
      },
      "source": [
        "!git clone https://github.com/Magnum-Math/Magnum.git\n",
        "!mv  /content/Magnum/* /content/"
      ],
      "execution_count": null,
      "outputs": []
    },
    {
      "cell_type": "markdown",
      "metadata": {
        "id": "Zgpe6hp3XXpP"
      },
      "source": [
        "## The Animator\n",
        "\n",
        "Welcome to the next part of your Magnum experience. Now, Magnum and all related libraries are installed on your system. It is time to start animating your files now!"
      ]
    },
    {
      "cell_type": "markdown",
      "metadata": {
        "id": "KRk3VLeEXq2K"
      },
      "source": [
        "\n",
        "\n",
        "---\n",
        "IMPORTANT: Please make sure you have your \"latex.txt\" file ready as per the specifications mentioned on the [Magnum Website's](https://magnum.shreenabh.com)  \"[Getting Started](https://magnum.shreenabh.com/benefits/getting-started)\" page. If not, please format your files before hand if you don't want to play with some weird errors.\n",
        "\n",
        "---\n",
        "\n",
        "Click on the folder icon on the left panel. You will find a lot of files and folders already present here. Click on the upload files button on the top of the expanded panel to upload your \"latex.txt\" file.\n",
        "\n",
        "Once your file is uploaded, execute the below cell:\n",
        "\n",
        "---\n",
        "\n",
        "NOTE: You'll be asked some questions during execution. Answer them to keep the execution running."
      ]
    },
    {
      "cell_type": "code",
      "metadata": {
        "id": "SFZsB10yZFTM"
      },
      "source": [
        "import os \n",
        "from pathlib import Path\n",
        "data_folder = Path(os.getcwd())\n",
        "print(data_folder)\n",
        "def read_file(path_to_file):\n",
        "    retval = \"\"\n",
        "    file = open(path_to_file)\n",
        "    retval = file.readlines()\n",
        "    file.close()\n",
        "    #Make sure the new line character is not read it throws the model off     \n",
        "    retval = [x.split(\"/n\")[0][:-1] for x in retval]\n",
        "    return retval\n",
        "\n",
        "\n",
        "#Change the ./latex_file.txt to your files location\n",
        "latex_code = read_file('/content/latex.txt')\n",
        "for i in range(len(latex_code)):\n",
        "    latex_code[i] += \"\\n\"\n",
        "selection = input(\"Do you want to print intermediate code: (yes/no)\")"
      ],
      "execution_count": null,
      "outputs": []
    },
    {
      "cell_type": "markdown",
      "metadata": {
        "id": "AOF_Y7FMZ_hY"
      },
      "source": [
        "Confirm if you see a [3] before proceeding. If not, answer the question asked.\n",
        "\n",
        "Once this is done, it is time to identify if there are any graphable functions in your text. Magnum may/may not identify a function (if it exists). If you want to graph a custom function, please input the *Correct Python equivalent* of it. If you are not interested in it, just enter \"no\""
      ]
    },
    {
      "cell_type": "code",
      "metadata": {
        "id": "duQg6NhGanVa"
      },
      "source": [
        "from app import latex2Manim\n",
        "print(\"Converting Latex to Maxnim Code\")\n",
        "manim_code = latex2Manim.latex2Manim(latex_code)\n",
        "if selection == \"yes\":\n",
        "    print(manim_code)\n",
        "print(\"Manim Code Generated\")"
      ],
      "execution_count": null,
      "outputs": []
    },
    {
      "cell_type": "markdown",
      "metadata": {
        "id": "7WjUuUFYav03"
      },
      "source": [
        "Yay! You've generated the Manim code! It is time to move it in the right place now. Keep executing:"
      ]
    },
    {
      "cell_type": "code",
      "metadata": {
        "id": "hEQ3H6d1avDs"
      },
      "source": [
        "fptr =  open(\"./solution.py\", \"w\") \n",
        "fptr.write(manim_code)\n",
        "fptr.close()\n",
        "print(\"Manim Code saved at ./solution.py\")"
      ],
      "execution_count": null,
      "outputs": []
    },
    {
      "cell_type": "markdown",
      "metadata": {
        "id": "IigprGe6bKLY"
      },
      "source": [
        "Now is the time to render your animation! Everything is set from our side. If you face any errors while executing the next and final cell, it will be because you haven't formatted your LaTeX document \"Magnum style\". Have a look at the \"Getting Started\" docs on our [website](https://magnum.shreenabh.com/) again!\n",
        "\n",
        "---\n",
        "If everything goes fine, your file will be saved in a 480p resolution. Instructions to download/modify it later:\n"
      ]
    },
    {
      "cell_type": "code",
      "metadata": {
        "id": "27IRc3KicPEQ"
      },
      "source": [
        "!manim solution.py Solution -pl"
      ],
      "execution_count": null,
      "outputs": []
    },
    {
      "cell_type": "markdown",
      "metadata": {
        "id": "SyvbflaacYRq"
      },
      "source": [
        "### Fixing bugs and injecting custom code (Optional)\n",
        "\n",
        "We won't blame you for the errors if any. Before you start searching for your video, here's how you can easily identify and fix bugs. You might see a message like: \n",
        "\n",
        "```\n",
        "Exception: Latex error converting to dvi. See log output above or the log file:\n",
        "```\n",
        "This is pretty normal and can be fixed easily. Just navigate to a file called \"solution.py\" from the files menu in the left panel. (The file will open to your right).\n",
        "\n",
        "\n",
        "[To inject custom code, the floor is yours. Feel free to add/modify anything in this file if you're confident and just run the above cell again to render it]\n",
        "\n",
        "Analyze the error message carefully and identify the line where the exact error is. Some common errors might be:\n",
        "1. Using \"\\\\:\" for spacing -> Use \"\\\\\" instead.\n",
        "2. Leaving a space in the end of a line. -> Just delete it.\n",
        "3. Using custom library notation. -> Please declare any extra libraries that you are using beforehand in the Manim configuration. (We've added a [special section](https://github.com/Magnum-Math/Magnum#a-note-if-you-are-using-non-standard-latex-packages) about this on our GitHub readme too)\n",
        "\n",
        "---"
      ]
    },
    {
      "cell_type": "markdown",
      "metadata": {
        "id": "GKvuqSTGem7I"
      },
      "source": [
        "If there are no errors/ the errors are fixed, voila!\n",
        "\n",
        "Navigate to: media > videos > solution > 480p15 > Solution.mp4\n",
        "(from the left panel- in the files section) to grab your file!\n",
        "\n",
        "If you click on it, it will be downloaded to your local system.\n",
        "\n",
        "---\n",
        "### Exporting in High-Resolution (Optional)\n",
        "\n",
        "Run the code cell below to get a 1440p (60 fps) render of your file. (This might take sometime to process, please be patient)\n",
        "\n",
        "[The previous render was a low quality one 480p - 15 fps]"
      ]
    },
    {
      "cell_type": "code",
      "metadata": {
        "id": "y4tUbW09du13"
      },
      "source": [
        "!manim solution.py Solution "
      ],
      "execution_count": null,
      "outputs": []
    },
    {
      "cell_type": "markdown",
      "metadata": {
        "id": "gI7PvZ59i8a-"
      },
      "source": [
        "For most cases, the normal quality will suffice but if you specially need the high quality file, it can be found here after the above cell has finished execution:\n",
        "\n",
        "media > videos > solution > 1440p60 > Solution.mp4\n",
        "\n",
        "---\n",
        "\n"
      ]
    },
    {
      "cell_type": "markdown",
      "metadata": {
        "id": "eH2RoqW9jU70"
      },
      "source": [
        "# We are done!\n",
        "\n",
        "Hope you liked the overall Magnum experience. Feel free to reach out to us for custom inquiries via: magnum@shreenabh.com\n",
        "\n",
        "(If you had any rough experience/ had some errors, please raise a community issue on GitHub [here](https://github.com/Magnum-Math/Magnum))"
      ]
    }
  ]
}